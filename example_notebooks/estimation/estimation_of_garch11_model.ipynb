{
 "cells": [
  {
   "cell_type": "markdown",
   "id": "suspended-northern",
   "metadata": {},
   "source": [
    "# Estimation of GARCH(1,1) from scratch "
   ]
  },
  {
   "cell_type": "code",
   "execution_count": 1,
   "id": "popular-jenny",
   "metadata": {},
   "outputs": [],
   "source": [
    "import sys\n",
    "sys.path.insert(0,'C:\\\\code\\\\python_for_the_financial_economist\\\\')\n",
    "\n",
    "\"\"\"\n",
    "Magic commands\n",
    "\"\"\"\n",
    "\n",
    "%load_ext autoreload\n",
    "%autoreload 2\n",
    "\n",
    "\"\"\"\n",
    "Load relevant packages\n",
    "\"\"\"\n",
    "\n",
    "import numpy as np\n",
    "import pandas as pd\n",
    "import seaborn as sns\n",
    "import matplotlib.pyplot as plt\n",
    "import matplotlib.ticker as ticker\n",
    "import datetime\n",
    "from scipy import stats\n",
    "from scipy import optimize\n",
    "from scipy.optimize import minimize\n",
    "\n",
    "# pandas-datareader\n",
    "from pandas_datareader.yahoo.daily import YahooDailyReader\n",
    "\n",
    "from numba import jit\n",
    "from statsmodels.tools.numdiff import approx_fprime, approx_hess\n",
    "\n",
    "# typehints\n",
    "from typing import Union, List, Tuple\n",
    "\n",
    "\"\"\"\n",
    "Own packages\n",
    "\"\"\"\n",
    "\n",
    "# plotting\n",
    "from codelib.visualization.layout import DefaultStyle, default_colors\n",
    "DefaultStyle();\n",
    "\n",
    "from codelib.visualization.base import risk_waterfall_chart, correlation_plot, fan_chart"
   ]
  },
  {
   "cell_type": "markdown",
   "id": "extreme-allergy",
   "metadata": {},
   "source": [
    "## Introduction\n",
    "\n"
   ]
  },
  {
   "cell_type": "code",
   "execution_count": null,
   "id": "respective-frank",
   "metadata": {},
   "outputs": [],
   "source": []
  }
 ],
 "metadata": {
  "kernelspec": {
   "display_name": "python_for_fin_econ",
   "language": "python",
   "name": "python_for_fin_econ"
  },
  "language_info": {
   "codemirror_mode": {
    "name": "ipython",
    "version": 3
   },
   "file_extension": ".py",
   "mimetype": "text/x-python",
   "name": "python",
   "nbconvert_exporter": "python",
   "pygments_lexer": "ipython3",
   "version": "3.8.6"
  }
 },
 "nbformat": 4,
 "nbformat_minor": 5
}
