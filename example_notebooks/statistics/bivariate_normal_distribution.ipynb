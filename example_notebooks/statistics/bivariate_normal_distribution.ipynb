{
 "cells": [
  {
   "cell_type": "code",
   "execution_count": 1,
   "id": "arabic-journal",
   "metadata": {},
   "outputs": [],
   "source": [
    "\"\"\"\n",
    "Magic commands\n",
    "\"\"\"\n",
    "\n",
    "%load_ext autoreload\n",
    "%autoreload 2\n",
    "\n",
    "\"\"\"\n",
    "Python packages\n",
    "\"\"\"\n",
    "\n",
    "import numpy as np\n",
    "from scipy import stats\n",
    "import pandas as pd\n",
    "import matplotlib.pyplot as plt\n",
    "\n",
    "\"\"\"\n",
    "Own packages\n",
    "\"\"\"\n",
    "\n",
    "import sys\n",
    "sys.path.insert(0,'C:\\\\code\\\\python_for_the_financial_economist\\\\')\n",
    "\n",
    "from codelib.visualization.layout import DefaultStyle, default_colors\n",
    "DefaultStyle();"
   ]
  },
  {
   "attachments": {},
   "cell_type": "markdown",
   "id": "bulgarian-third",
   "metadata": {},
   "source": [
    "# The bivariate normal distribution \n",
    "\n",
    "Assume that the univariate random variables $X_1$ and $X_2$ follows a bivariate normal distribution \n",
    "\n",
    "$$\n",
    "\\mathbf{X} = \\begin{pmatrix} X_1 \\\\ X_2\\end{pmatrix} \\sim N \\left( \\boldsymbol{\\mu}, \\boldsymbol{\\Sigma}\\right)\n",
    "$$\n",
    "where\n",
    "\n",
    "$$\n",
    "\\boldsymbol{\\mu} = \\begin{pmatrix} \\mu_{X_1} \\\\ \\mu_{X_2} \\end{pmatrix},\n",
    "$$\n",
    "\n",
    "$$\n",
    "\\boldsymbol{\\Sigma} = \\begin{pmatrix}  \\sigma_{X_1}^2 & \\rho \\sigma_{X_1} \\sigma_{X_2} \\\\ \\rho \\sigma_{X_1} \\sigma_{X_2}  & \\sigma_{X_2}^2 \\end{pmatrix}\n",
    "$$\n",
    "\n",
    "and $\\rho$ is the correlation between the two random variables. We can represent the distribution using the probability density function (see [here](https://en.wikipedia.org/wiki/Multivariate_normal_distribution)) \n",
    "\n",
    "$$\n",
    "f_{\\mathbf{X}}(\\mathbf{x}) = \\frac{1}{\\sqrt{(2\\pi)^2 \\vert \\boldsymbol{\\Sigma} \\vert}} \\exp \\left(-\\frac{1}{2} \\left(\\mathbf{x} - \\boldsymbol{\\mu}  \\right)^\\top \\boldsymbol{\\Sigma}^{-1} \\left(\\mathbf{x} - \\boldsymbol{\\mu}  \\right) \\right)\n",
    "$$\n",
    "\n",
    "Note that the determinant is equal to\n",
    "\n",
    "$$\n",
    "\\vert \\boldsymbol{\\Sigma} \\vert = \\sigma_{X_1}^2 \\sigma_{X_2}^2 - \\rho^2 \\sigma_{X_1}^2 \\sigma_{X_2}^2 = \\sigma_{X_1}^2 \\sigma_{X_2}^2 (1 - \\rho^2)\n",
    "$$\n",
    "\n",
    "and that, when using the rule for the inverse of a $2 \\times 2$ matrix (see [here](https://en.wikipedia.org/wiki/Invertible_matrix)),\n",
    "\n",
    "$$\n",
    "\\boldsymbol{\\Sigma}^{-1}  = \\frac{1}{\\vert \\boldsymbol{\\Sigma} \\vert} \\begin{pmatrix}  \\sigma_{X_2}^2 & -\\rho \\sigma_{X_1} \\sigma_{X_2} \\\\ -\\rho \\sigma_{X_1} \\sigma_{X_2}  & \\sigma_{X_1}^2 \\end{pmatrix} = \\begin{pmatrix}  \\frac{1}{\\sigma_{X_1}^2(1 - \\rho^2) }& -\\rho \\frac{1}{\\sigma_{X_1} \\sigma_{X_2}(1 - \\rho^2) } \\\\ -\\rho \\frac{1}{\\sigma_{X_1} \\sigma_{X_2}(1 - \\rho^2) }   & {\\sigma_{X_2}^2(1 - \\rho^2) }\\end{pmatrix}\n",
    "$$\n",
    "\n",
    "Thus, we can write\n",
    "\n",
    "$$\n",
    "f_{\\mathbf{X}}(\\mathbf{x}) = \\frac{1}{2\\pi \\sigma_{X_1}\\sigma_{X_2} \\sqrt{1 - \\rho^2}} \\exp \\left(-\\frac{1}{2(1 - \\rho^2)} \\left( \\left( \\frac{x_1 - \\mu_{X_1}}{\\sigma_{X_1}}\\right)^2 -2\\rho  \\left( \\frac{x_1 - \\mu_{X_1}}{\\sigma_{X_1}}\\right) \\left( \\frac{x_2 - \\mu_{X_2}}{\\sigma_{X_2}}\\right)    + \\left(\\frac{x_2 - \\mu_{X_2}}{\\sigma_{X_2}}\\right)^2\\right) \\right)\n",
    "$$"
   ]
  },
  {
   "cell_type": "markdown",
   "id": "random-midnight",
   "metadata": {},
   "source": [
    "# The conditional distribution\n",
    "\n",
    "To find the conditional distribution of say $X_1$ conditional on $X_2 = x_2$, we note that the conditional density is given by \n",
    "\n",
    "$$\n",
    "f_{X_1 \\vert x_2}(x_1) = \\frac{f_{\\mathbf{X}}(\\mathbf{x})}{f_{X_2}(x_2) }\n",
    "$$\n",
    "\n",
    "Since $X_2$ is normally distributed we know that \n",
    "\n",
    "$$\n",
    "f_{X_2}(x_2) = \\frac{1}{\\sqrt{2\\pi}\\sigma_{X_2}} \\exp\\left(-\\frac{1}{2}\\left(\\frac{x_2 - \\mu_{X_2}}{\\sigma_{X_2}}\\right)^2\\right)\n",
    "$$\n",
    "\n",
    "To calculate the conditional density, we simply need to do some algebra. First, we note that \n",
    "\n",
    "$$\n",
    " \\frac{1}{2\\pi \\sigma_{X_1}\\sigma_{X_2} \\sqrt{1 - \\rho^2}} / \\frac{1}{\\sqrt{2\\pi}\\sigma_{X_2}} = \\frac{1}{\\sqrt{2\\pi} \\sigma_{X_1} \\sqrt{1 - \\rho^2}}\n",
    "$$\n",
    "\n",
    "Second, define $x_1^d = x_1 - \\mu_{X_1}$ and $x_2^d = x_2 - \\mu_{X_2}$. Then we can write \n",
    "\n",
    "$$\n",
    "\\begin{align}\n",
    "-\\frac{1}{2(1 - \\rho^2)} \\left( \\frac{(x_1^d)^2}{\\sigma_{X_1}^2} -2\\rho   \\frac{x_1^d}{\\sigma_{X_1}} \\frac{x_2^d}{\\sigma_{X_2}}    + \\frac{(x_2^d)^2}{\\sigma_{X_2}^2} \\right)  + \\frac{1}{2}\\frac{(x_2^d)^2}{\\sigma_{X_2}^2} &= -\\frac{1}{2(1 - \\rho^2)} \\left( \\frac{(x_1^d)^2}{\\sigma_{X_1}^2} -2\\rho   \\frac{x_1^d}{\\sigma_{X_1}} \\frac{x_2^d}{\\sigma_{X_2}}    + \\frac{(x_2^d)^2}{\\sigma_{X_2}^2} - (1 - \\rho^2)\\frac{(x_2^d)^2}{\\sigma_{X_2}^2}\\right) \\\\\n",
    "&= -\\frac{1}{2(1 - \\rho^2)} \\left( \\frac{(x_1^d)^2}{\\sigma_{X_1}^2} -2\\rho   \\frac{x_1^d}{\\sigma_{X_1}} \\frac{x_2^d}{\\sigma_{X_2}}  + \\rho^2\\frac{(x_2^d)^2}{\\sigma_{X_2}^2}\\right) \\\\\n",
    "&= -\\frac{1}{2(1 - \\rho^2) \\sigma_{X_1}^2} \\left( (x_1^d)^2 -2\\rho   x_1^d x_2^d \\frac{\\sigma_{X_1}}{\\sigma_{X_2}}  + (x_2^d)^2 \\rho^2\\frac{\\sigma_{X_1}^2}{\\sigma_{X_2}^2}\\right) \\\\\n",
    "&= -\\frac{1}{2(1 - \\rho^2) \\sigma_{X_1}^2} \\left(x_1^d - \\rho x_2^d \\frac{\\sigma_{X_1}}{\\sigma_{X_2}} \\right)^2 \n",
    "\\end{align}\n",
    "$$\n",
    "\n",
    "Thus, we can write \n",
    "\n",
    "$$\n",
    "f_{X_1 \\vert x_2}(x_1) = \\frac{f_{\\mathbf{X}}(\\mathbf{x})}{f_{X_2}(x_2) } = \\frac{1}{\\sqrt{2\\pi} \\sigma_{X_1} \\sqrt{1 - \\rho^2}} \\exp\\left(-\\frac{1}{2(1 - \\rho^2) \\sigma_{X_1}^2} \\left(x_1^d - \\rho x_2^d \\frac{\\sigma_{X_1}}{\\sigma_{X_2}} \\right)^2 \\right)\n",
    "$$\n",
    "\n",
    "corresponding to writting\n",
    "\n",
    "$$\n",
    "X_1 \\vert x_2 \\sim N\\left(\\rho (x_2 - \\mu_{X_2}) \\frac{\\sigma_{X_1}}{\\sigma_{X_2}}, (1 - \\rho^2) \\sigma_{X_1}^2 \\right)\n",
    "$$"
   ]
  },
  {
   "cell_type": "markdown",
   "id": "wound-scheme",
   "metadata": {},
   "source": [
    "## Implementation example"
   ]
  },
  {
   "cell_type": "code",
   "execution_count": null,
   "id": "wireless-boundary",
   "metadata": {},
   "outputs": [],
   "source": []
  },
  {
   "cell_type": "markdown",
   "id": "floral-relationship",
   "metadata": {},
   "source": [
    "# Conditional moments"
   ]
  },
  {
   "cell_type": "code",
   "execution_count": null,
   "id": "headed-decade",
   "metadata": {},
   "outputs": [],
   "source": []
  }
 ],
 "metadata": {
  "kernelspec": {
   "display_name": "python_for_fin_econ",
   "language": "python",
   "name": "python_for_fin_econ"
  },
  "language_info": {
   "codemirror_mode": {
    "name": "ipython",
    "version": 3
   },
   "file_extension": ".py",
   "mimetype": "text/x-python",
   "name": "python",
   "nbconvert_exporter": "python",
   "pygments_lexer": "ipython3",
   "version": "3.8.6"
  }
 },
 "nbformat": 4,
 "nbformat_minor": 5
}
