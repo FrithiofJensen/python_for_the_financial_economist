{
 "cells": [
  {
   "cell_type": "code",
   "execution_count": 1,
   "id": "personal-retention",
   "metadata": {},
   "outputs": [],
   "source": [
    "import sys\n",
    "sys.path.insert(0,'C:\\\\code\\\\python_for_the_financial_economist\\\\')\n",
    "\n",
    "\"\"\"\n",
    "Magic commands\n",
    "\"\"\"\n",
    "\n",
    "%load_ext autoreload\n",
    "%autoreload 2\n",
    "\n",
    "\"\"\"\n",
    "Load relevant packages\n",
    "\"\"\"\n",
    "\n",
    "# working with arrays\n",
    "import numpy as np\n",
    "\n",
    "# plotting functionality\n",
    "import matplotlib.pyplot as plt\n",
    "\n",
    "# typehints\n",
    "from typing import Tuple\n",
    "\n",
    "\"\"\"\n",
    "Own packages\n",
    "\"\"\"\n",
    "\n",
    "from codelib.visualization.layout import DefaultStyle\n",
    "DefaultStyle();"
   ]
  },
  {
   "cell_type": "markdown",
   "id": "blind-trauma",
   "metadata": {},
   "source": [
    "# Introduction to linear algebra and the Numpy package\n",
    "\n",
    "Linear algebra deals with system of linear equations, matrices, determinants, vectors, linear transformations, etc. It is an invaluable tool for the financial economist! \n",
    "\n",
    "Linear algebra will help us simplify a range of calculations in finance. Examples include the linear regression estimator, conditions for optimality for functions of several variables and portfolio construction. \n",
    "\n",
    "__Example: Portfolio construction__\n",
    "\n",
    "Assume that we want to calculate the expected value and variance of the return on a portfolio of 5 stocks. We can represent the expected value and covariance of the individual stock returns as respectively\n",
    "\n",
    "$$\n",
    "\\boldsymbol{\\mu} = \\begin{bmatrix} \\mu_1 \\\\ \\mu_2 \\\\ \\vdots \\\\ \\mu_5 \\end{bmatrix}\n",
    "$$\n",
    "\n",
    "and \n",
    "\n",
    "$$\n",
    "\\boldsymbol{\\Sigma} = \\begin{bmatrix} \\sigma_{11} & \\sigma_{12} & \\dots & \\sigma_{15} \\\\ \n",
    "\\sigma_{21} & \\sigma_{22} & \\dots & \\sigma_{25} \\\\\n",
    "\\vdots & \\vdots & \\ddots & \\vdots \\\\\n",
    "\\sigma_{51} & \\sigma_{52} & \\dots & \\sigma_{55}\n",
    "\\end{bmatrix}\n",
    "$$\n",
    "\n",
    "Let $\\mathbf{w}$ denote the portfolio weights \n",
    "\n",
    "$$\n",
    "\\mathbf{w} = \\begin{bmatrix} w_1 \\\\ w_2 \\\\ \\vdots \\\\ w_5 \\end{bmatrix}\n",
    "$$\n",
    "\n",
    "Not using matrix notation will give us the following formulas the expected portfolio return, $\\mu_p$,  and portfolio variance $\\sigma_p^2$\n",
    "\n",
    "$$\n",
    "\\mu_p = \\sum_{i=1}^5 w_i \\mu_i\n",
    "$$\n",
    "\n",
    "and \n",
    "\n",
    "$$\n",
    "\\sigma_p^2 = \\sum_{i=1}^5 \\sum_{j=1}^5  w_i w_j \\sigma_{ij}\n",
    "$$\n",
    "\n",
    "These formulas are cumbersome to work with!\n",
    "\n",
    "Luckily, matrix notation allows to use \n",
    "\n",
    "$$\n",
    "\\mu_p = \\mathbf{w}^\\top \\boldsymbol{\\mu} =  \\begin{bmatrix} w_1 & w_2 & \\dots & w_5 \\end{bmatrix} \\begin{bmatrix} \\mu_1 \\\\ \\mu_2 \\\\ \\vdots \\\\ \\mu_5 \\end{bmatrix}\n",
    "$$\n",
    "\n",
    "and \n",
    "\n",
    "$$\n",
    "\\sigma_p^2 = \\mathbf{w}^\\top \\boldsymbol{\\Sigma}  \\mathbf{w} =  \\begin{bmatrix} w_1 & w_2 & \\dots & w_5 \\end{bmatrix} \\begin{bmatrix} \\sigma_{11} & \\sigma_{12} & \\dots & \\sigma_{15} \\\\ \n",
    "\\sigma_{21} & \\sigma_{22} & \\dots & \\sigma_{25} \\\\\n",
    "\\vdots & \\vdots & \\ddots & \\vdots \\\\\n",
    "\\sigma_{51} & \\sigma_{52} & \\dots & \\sigma_{55}\n",
    "\\end{bmatrix}  \\begin{bmatrix} w_1 \\\\ w_2 \\\\ \\vdots \\\\ w_5 \\end{bmatrix}    \n",
    "$$\n",
    "\n",
    "which are much easier to work with. "
   ]
  },
  {
   "cell_type": "markdown",
   "id": "banner-elevation",
   "metadata": {},
   "source": [
    "## Vector and matrix notation \n",
    "\n",
    "A $m \\times n$ matrix, say $\\mathbf{A}$,  is an array of numbers\n",
    "\n",
    "$$\n",
    "\\mathbf{A} = \\begin{bmatrix} \n",
    "a_{11} & a_{12} & \\dots & a_{1n} \\\\\n",
    "a_{21} & a_{22} & \\dots & a_{2n} \\\\\n",
    "\\vdots & \\vdots & & \\vdots\\\\\n",
    "a_{m1} & a_{m2} & \\dots & a_{mn} \n",
    "\\end{bmatrix} \n",
    "$$\n",
    "\n",
    "A matrix with only one row is called a <mark>row vector</mark>\n",
    "\n",
    "$$\n",
    "\\begin{bmatrix} \n",
    "a_{1} & a_{2} & \\dots & a_{n} \n",
    "\\end{bmatrix} \n",
    "$$\n",
    "\n",
    "A matrix with only one column is called a <mark>column vector</mark>\n",
    "\n",
    "$$\n",
    "\\begin{bmatrix} \n",
    "a_{1} \\\\ a_{2} \\\\ \\vdots \\\\ a_{n} \n",
    "\\end{bmatrix} \n",
    "$$\n",
    "\n",
    "## Vector and matrices in Python\n",
    "\n",
    "In Python, we can use the `numpy` package to work with matrices and vectors. To that end, we need to import numpy into our Jupyter notebook using\n",
    "\n",
    "```python \n",
    "import numpy as np \n",
    "```\n",
    "\n",
    "The imported package `numpy` with the alias `np` contains a number of methods that allow us to define vector and matrices and apply linear algebra operations. \n",
    "\n",
    "The Numpy documentation can be found [here](https://numpy.org/doc/stable/index.html).\n",
    "\n",
    "For example, we can define the matrix \n",
    "\n",
    "$$\n",
    "\\mathbf{A} = \\begin{bmatrix} \n",
    "4  & 3 \\\\\n",
    "2  & 1  \n",
    "\\end{bmatrix} \n",
    "$$"
   ]
  },
  {
   "cell_type": "code",
   "execution_count": 2,
   "id": "christian-violence",
   "metadata": {},
   "outputs": [
    {
     "name": "stdout",
     "output_type": "stream",
     "text": [
      "[[4 3]\n",
      " [2 1]]\n"
     ]
    }
   ],
   "source": [
    "# import numpy as np\n",
    "\n",
    "A = np.array([[4, 3],\n",
    "              [2, 1]])\n",
    "\n",
    "print(A)"
   ]
  },
  {
   "cell_type": "markdown",
   "id": "structural-graduation",
   "metadata": {},
   "source": [
    "A `numpy` array is an object that with a number of attributes and methods (see [here](https://numpy.org/doc/stable/reference/arrays.ndarray.html#array-methods) for a complete list) . "
   ]
  },
  {
   "cell_type": "code",
   "execution_count": 3,
   "id": "tribal-worse",
   "metadata": {},
   "outputs": [
    {
     "data": {
      "text/plain": [
       "(2, 2)"
      ]
     },
     "execution_count": 3,
     "metadata": {},
     "output_type": "execute_result"
    }
   ],
   "source": [
    "A.shape"
   ]
  },
  {
   "cell_type": "code",
   "execution_count": 4,
   "id": "religious-parent",
   "metadata": {},
   "outputs": [
    {
     "data": {
      "text/plain": [
       "2.5"
      ]
     },
     "execution_count": 4,
     "metadata": {},
     "output_type": "execute_result"
    }
   ],
   "source": [
    "# calculate mean over all rows and columns\n",
    "A.mean()"
   ]
  },
  {
   "cell_type": "code",
   "execution_count": 5,
   "id": "unauthorized-joining",
   "metadata": {},
   "outputs": [
    {
     "data": {
      "text/plain": [
       "array([3., 2.])"
      ]
     },
     "execution_count": 5,
     "metadata": {},
     "output_type": "execute_result"
    }
   ],
   "source": [
    "# calculate mean for each column\n",
    "A.mean(axis=0)"
   ]
  },
  {
   "cell_type": "code",
   "execution_count": 6,
   "id": "excessive-cargo",
   "metadata": {},
   "outputs": [
    {
     "data": {
      "text/plain": [
       "array([3.5, 1.5])"
      ]
     },
     "execution_count": 6,
     "metadata": {},
     "output_type": "execute_result"
    }
   ],
   "source": [
    "# calculate mean for each row\n",
    "A.mean(axis=1)"
   ]
  },
  {
   "cell_type": "code",
   "execution_count": 7,
   "id": "documentary-transcription",
   "metadata": {},
   "outputs": [
    {
     "data": {
      "text/plain": [
       "4"
      ]
     },
     "execution_count": 7,
     "metadata": {},
     "output_type": "execute_result"
    }
   ],
   "source": [
    "# we can get an element from a matrix using e.g.\n",
    "#  note \"zero-indexing\"\n",
    "A[0, 0]"
   ]
  },
  {
   "cell_type": "markdown",
   "id": "comparative-istanbul",
   "metadata": {},
   "source": [
    "# Matrix operations\n",
    "\n",
    "## Matrix addition\n",
    "\n",
    "Assume that  $\\mathbf{A}$ and $\\mathbf{B}$ are two matrices of the same order, $m \\times n$. Then, the matrix sum is given by \n",
    "\n",
    "$$\n",
    "\\mathbf{A} + \\mathbf{B} = \\begin{bmatrix} \n",
    "a_{11} & a_{12} & \\dots & a_{1n} \\\\\n",
    "a_{21} & a_{22} & \\dots & a_{2n} \\\\\n",
    "\\vdots & \\vdots & & \\vdots\\\\\n",
    "a_{m1} & a_{m2} & \\dots & a_{mn} \n",
    "\\end{bmatrix}  + \\begin{bmatrix} \n",
    "b_{11} & b_{12} & \\dots & b_{1n} \\\\\n",
    "b_{21} & b_{22} & \\dots & b_{2n} \\\\\n",
    "\\vdots & \\vdots & & \\vdots\\\\\n",
    "b_{m1} & a_{m2} & \\dots & b_{mn} \n",
    "\\end{bmatrix}  = \\begin{bmatrix} \n",
    "a_{11} + b_{11} & a_{12} + b_{12} & \\dots & a_{1n} + b_{1n} \\\\\n",
    "a_{21} + b_{21}  & a_{22} +  b_{22} & \\dots & a_{2n} + b_{2n} \\\\\n",
    "\\vdots & \\vdots & & \\vdots\\\\\n",
    "a_{m1} + b_{m1} & a_{m2} + b_{m2} & \\dots & a_{mn} + b_{mn}\n",
    "\\end{bmatrix} \n",
    "$$\n",
    "\n",
    "Matrix addition is straight forward in Python"
   ]
  },
  {
   "cell_type": "code",
   "execution_count": 8,
   "id": "thrown-damages",
   "metadata": {},
   "outputs": [
    {
     "name": "stdout",
     "output_type": "stream",
     "text": [
      "[[5 4]\n",
      " [3 2]]\n"
     ]
    }
   ],
   "source": [
    "A = np.array([[4, 3],\n",
    "              [2, 1]])\n",
    "\n",
    "B = np.array([[1, 1],\n",
    "              [1, 1]])\n",
    "\n",
    "C = A + B\n",
    "\n",
    "print(C)"
   ]
  },
  {
   "cell_type": "markdown",
   "id": "small-bangkok",
   "metadata": {},
   "source": [
    "## Multiplication with a scalar\n",
    "\n",
    "Assume that $\\mathbf{A}$ is a matrix of order $m \\times n$ and that $\\alpha$ is a scalar (a real number). Then, \n",
    "\n",
    "$$\n",
    "\\alpha \\mathbf{A} = \\alpha \\begin{bmatrix} \n",
    "a_{11} & a_{12} & \\dots & a_{1n} \\\\\n",
    "a_{21} & a_{22} & \\dots & a_{2n} \\\\\n",
    "\\vdots & \\vdots & & \\vdots\\\\\n",
    "a_{m1} & a_{m2} & \\dots & a_{mn} \n",
    "\\end{bmatrix} = \\begin{bmatrix} \n",
    "\\alpha a_{11} & \\alpha  a_{12} & \\dots & \\alpha  a_{1n} \\\\\n",
    "\\alpha  a_{21} & \\alpha  a_{22} & \\dots & \\alpha  a_{2n} \\\\\n",
    "\\vdots & \\vdots & & \\vdots\\\\\n",
    "\\alpha  a_{m1} & \\alpha  a_{m2} & \\dots & \\alpha  a_{mn} \n",
    "\\end{bmatrix}\n",
    "$$\n",
    "\n",
    "In Python, we can just use the `*` operator"
   ]
  },
  {
   "cell_type": "code",
   "execution_count": 9,
   "id": "isolated-destiny",
   "metadata": {},
   "outputs": [
    {
     "name": "stdout",
     "output_type": "stream",
     "text": [
      "[[20 15]\n",
      " [10  5]]\n"
     ]
    }
   ],
   "source": [
    "alpha = 5\n",
    "\n",
    "A = np.array([[4, 3],\n",
    "              [2, 1]])\n",
    "\n",
    "B = alpha * A\n",
    "\n",
    "print(B)"
   ]
  },
  {
   "cell_type": "markdown",
   "id": "fleet-western",
   "metadata": {},
   "source": [
    "### Rules for scalar multiplication\n",
    "\n",
    "Let  $\\mathbf{A}, \\mathbf{B}$, and $\\mathbf{C}$ be arbitrary $m \\times n $ matrices, and let $\\alpha$ and $\\beta$ be real numbers. Also, let $\\mathbf{0}$ denote the $m \\times n$ matrix consisting only of zeros, called the zero matrix. Then\n",
    "\n",
    "* $(\\mathbf{A} + \\mathbf{B}) + \\mathbf{C} = \\mathbf{A} + (\\mathbf{B} + \\mathbf{C})$\n",
    "* $\\mathbf{A} + \\mathbf{B} = \\mathbf{B} + \\mathbf{A}$\n",
    "* $\\mathbf{A} + \\mathbf{0} = \\mathbf{A}$\n",
    "* $\\mathbf{A} + (-\\mathbf{A}) = \\mathbf{0} $\n",
    "* $(\\alpha + \\beta)\\mathbf{A} = \\alpha \\mathbf{A} + \\beta \\mathbf{A}$\n",
    "* $\\alpha(\\mathbf{A}+\\mathbf{B}) = \\alpha \\mathbf{A} + \\alpha \\mathbf{B}$"
   ]
  },
  {
   "cell_type": "markdown",
   "id": "worthy-audience",
   "metadata": {},
   "source": [
    "## Matrix multiplication\n",
    "\n",
    "Let $\\mathbf{A}$ have the order $m \\times n$ and $\\mathbf{B}$ have the order $n \\times p$, then the product $\\mathbf{C} = \\mathbf{A}\\mathbf{B}$ is $m \\times p$ matrix $\\mathbf{C}$ whose element in $i$'th row and the $j$'th column is the inner product \n",
    "\n",
    "$$\n",
    "c_{ij} = \\sum_{r=1}^n a_{ir}b_{rj} = a_{i1}b_{1j} + a_{i2}b_{2j} + \\dots + + a_{in}b_{nj}\n",
    "$$\n",
    "\n",
    "of the $i$'th row of $\\mathbf{A}$ and the $j$'th column of $\\mathbf{B}$\n",
    "\n",
    "__Example__\n",
    "\n",
    "Let \n",
    "\n",
    "<center>\n",
    "$\\mathbf{A} = \\begin{bmatrix} \n",
    "4  & 3 \\\\\n",
    "2  & 1  \n",
    "\\end{bmatrix}$, $\\;$     $\\mathbf{B} = \\begin{bmatrix} \n",
    "1  & 3 \\\\\n",
    "2  & 5  \n",
    "\\end{bmatrix}$\n",
    "</center>\n",
    "\n",
    "then the matrix product is\n",
    "\n",
    "$$\n",
    "\\mathbf{A}\\mathbf{B} = \\begin{bmatrix} \n",
    "4\\cdot1+ 3\\cdot 2  & 4 \\cdot 3 + 3 \\cdot 5 \\\\\n",
    "2\\cdot 1+ 1\\cdot 2  & 2 \\cdot 3 + 1 \\cdot 5\n",
    "\\end{bmatrix} = \\begin{bmatrix} \n",
    "10  & 27 \\\\\n",
    "4 & 11\n",
    "\\end{bmatrix}\n",
    "$$\n",
    "\n",
    "In Python, we can use the function `np.matmul` or the `@` operator"
   ]
  },
  {
   "cell_type": "code",
   "execution_count": 10,
   "id": "substantial-chassis",
   "metadata": {},
   "outputs": [
    {
     "name": "stdout",
     "output_type": "stream",
     "text": [
      "[[10 27]\n",
      " [ 4 11]]\n"
     ]
    }
   ],
   "source": [
    "A = np.array([[4, 3],\n",
    "              [2, 1]])\n",
    "\n",
    "B = np.array([[1, 3],\n",
    "              [2, 5]])\n",
    "\n",
    "C = np.matmul(A,B) \n",
    "# or C = A@B\n",
    "\n",
    "print(C)"
   ]
  },
  {
   "cell_type": "markdown",
   "id": "extra-driver",
   "metadata": {},
   "source": [
    "Note that using the `*` operator will not result in the matrix product! It will return the [Hadamard product](https://en.wikipedia.org/wiki/Hadamard_product_(matrices)), the element-wise product, which is only defined for matrices of the same dimensions."
   ]
  },
  {
   "cell_type": "code",
   "execution_count": 11,
   "id": "cheap-night",
   "metadata": {},
   "outputs": [
    {
     "name": "stdout",
     "output_type": "stream",
     "text": [
      "[[4 9]\n",
      " [4 5]]\n"
     ]
    }
   ],
   "source": [
    "C = A*B\n",
    "# C = np.multiply(A,B) \n",
    "\n",
    "print(C)"
   ]
  },
  {
   "cell_type": "markdown",
   "id": "favorite-polls",
   "metadata": {},
   "source": [
    "### Rules for matrix multiplication\n",
    "\n",
    "If $\\mathbf{A}, \\mathbf{B}$, and $\\mathbf{C}$ are matrices whose dimensions are such that the specified multiplication operations are defined, and if $\\alpha$ is an arbitrary scalar, then: \n",
    "\n",
    "$$\n",
    "\\begin{eqnarray}\n",
    "(\\mathbf{A}\\mathbf{B})\\mathbf{C} &=&\\mathbf{A} (\\mathbf{B}\\mathbf{C}) \\nonumber \\\\\n",
    "\\mathbf{A}(\\mathbf{B} +\\mathbf{C}) &=&\\mathbf{A} \\mathbf{B} + \\mathbf{A}\\mathbf{C} \\nonumber \\\\\n",
    "(\\mathbf{A}+\\mathbf{B})\\mathbf{C} &=&\\mathbf{A}\\mathbf{C} + \\mathbf{B}\\mathbf{C} \\nonumber \\\\\n",
    "(\\alpha \\mathbf{A})\\mathbf{B} &=& \\mathbf{A} (\\alpha \\mathbf{B}) = \\alpha(\\mathbf{A}\\mathbf{B}) \\nonumber \\\\\n",
    "\\end{eqnarray}\n",
    "$$"
   ]
  },
  {
   "cell_type": "markdown",
   "id": "blocked-google",
   "metadata": {},
   "source": [
    "# Some important matrices\n",
    "\n",
    "## The identity matrix \n",
    "\n",
    "The <mark>identity matrix</mark> of order $n$, denoted by $\\mathbf{I}$, is the $n\\times n$ matrix having entries $1$ along the main diagonal and $0$ elsewhere\n",
    "\n",
    "$$\n",
    "\\mathbf{I}_n = \\begin{bmatrix}\n",
    "1 & 0 & \\dots & 0 \\\\\n",
    "0 & 1 & \\dots & 0 \\\\\n",
    "\\vdots & \\vdots & \\ddots & \\vdots\\\\\n",
    "0 & 0 & \\dots & 1\n",
    "\\end{bmatrix}\n",
    "$$\n",
    "\n",
    "\n",
    "The identity matrix has the property that if $\\mathbf{A}$ is $n \\times m$ matrix, then $\\mathbf{A}\\mathbf{I}_n = \\mathbf{A}$\n",
    "\n",
    "The identity matrix has the property that if $\\mathbf{B}$ is $m \\times n$ matrix, then $\\mathbf{I}_n \\mathbf{B} = \\mathbf{B}$\n",
    "\n",
    "The identity matrix has the property that if $\\mathbf{C}$ is $n \\times n$ matrix, then $\\mathbf{I}_n \\mathbf{C} = \\mathbf{C}\\mathbf{I}_n = \\mathbf{C}$\n",
    "\n",
    "\n",
    "In  Python, we can define the $2 \\times 2$ identity matrix as follows"
   ]
  },
  {
   "cell_type": "code",
   "execution_count": 12,
   "id": "suburban-colon",
   "metadata": {},
   "outputs": [
    {
     "name": "stdout",
     "output_type": "stream",
     "text": [
      "[[1. 0.]\n",
      " [0. 1.]]\n",
      "\n",
      "\n",
      "[[4. 3.]\n",
      " [2. 1.]]\n"
     ]
    }
   ],
   "source": [
    "I = np.eye(2)\n",
    "\n",
    "print(I)\n",
    "\n",
    "A = np.array([[4, 3],\n",
    "              [2, 1]])\n",
    "\n",
    "print('\\n')\n",
    "print(A@I)"
   ]
  },
  {
   "cell_type": "markdown",
   "id": "renewable-penny",
   "metadata": {},
   "source": [
    "## The transpose\n",
    "\n",
    "Consider the $m\\times n$ matrix $\\mathbf{A}$. We denote the <mark>transpose</mark> of $\\mathbf{A}$ by $\\mathbf{A}^\\prime$ or $\\mathbf{A}^\\top$, which is defined as the $n \\times m$ matrix whose first columns is the first row of $\\mathbf{A}$, and so on.\n",
    "\n",
    "Thus,\n",
    "\n",
    "$$\n",
    "\\mathbf{A} = \\begin{bmatrix}\n",
    "a_{11} & a_{12} & \\dots & a_{1n} \\\\\n",
    "a_{21} & a_{22} & \\dots & a_{2n} \\\\\n",
    "\\vdots & \\vdots &  \\ddots& \\vdots\\\\\n",
    "a_{m1} & a_{m2} & \\dots & a_{mn} \n",
    "\\end{bmatrix} \\implies\n",
    "\\mathbf{A}^\\top = \\begin{bmatrix}\n",
    "a_{11} & a_{21} & \\dots & a_{m1} \\\\\n",
    "a_{12} & a_{22} & \\dots & a_{m2} \\\\\n",
    "\\vdots & \\vdots & \\ddots & \\vdots\\\\\n",
    "a_{1n} & a_{2n} & \\dots & a_{mn} \n",
    "\\end{bmatrix}\n",
    "$$\n",
    "\n",
    "In Python, we can use the following"
   ]
  },
  {
   "cell_type": "code",
   "execution_count": 13,
   "id": "amazing-dominican",
   "metadata": {},
   "outputs": [
    {
     "name": "stdout",
     "output_type": "stream",
     "text": [
      "[[4 2]\n",
      " [3 1]]\n"
     ]
    }
   ],
   "source": [
    "A = np.array([[4, 3],\n",
    "              [2, 1]])\n",
    "\n",
    "B = np.transpose(A)\n",
    "# or B = A.T\n",
    "\n",
    "print(B)"
   ]
  },
  {
   "cell_type": "markdown",
   "id": "czech-paste",
   "metadata": {},
   "source": [
    "### Rules for transposition\n",
    "\n",
    "Given matrices $\\mathbf{A}$ and $\\mathbf{B}$ suitable for the following operations, and given any scalar $\\alpha$: \n",
    "\n",
    "$$\n",
    "\\begin{eqnarray}\n",
    "(\\mathbf{A}^\\top)^\\top &=& \\mathbf{A} \\nonumber  \\\\\n",
    "(\\mathbf{A} + \\mathbf{B})^\\top &=& \\mathbf{A}^\\top + \\mathbf{B}^\\top  \\nonumber \\\\\n",
    "(\\alpha \\mathbf{A})^\\top &=& \\alpha \\mathbf{A}^\\top \\nonumber  \\\\\n",
    "(\\mathbf{A}\\mathbf{B})^\\top &=& \\mathbf{B}^\\top \\mathbf{A}^\\top  \\nonumber \\\\\n",
    "\\end{eqnarray}\n",
    "$$"
   ]
  },
  {
   "cell_type": "markdown",
   "id": "impossible-sigma",
   "metadata": {},
   "source": [
    "## Symmetric matrices\n",
    "\n",
    "A square matrix, say $A$ with order $n \\times n$, with the property that it is symmetric about the main diagonal is called <mark>symmetric</mark>, e.g. \n",
    "\n",
    "$$\n",
    "\\mathbf{A} = \\begin{bmatrix}\n",
    "2 & -1 & 5 \\\\\n",
    "-1 & -3 & 2 \\\\\n",
    "5 & 2  & 8\\\\\n",
    "\\end{bmatrix}\n",
    "$$\n",
    "\n",
    "\n",
    "A symmetric matrix is equal to its own transpose\n",
    "\n",
    "<center>\n",
    "The matrix $\\mathbf{A}$ is symmetric $\\Leftrightarrow \\mathbf{A} = \\mathbf{A}^\\top$\n",
    "</center>"
   ]
  },
  {
   "cell_type": "code",
   "execution_count": 14,
   "id": "banned-racing",
   "metadata": {},
   "outputs": [
    {
     "name": "stdout",
     "output_type": "stream",
     "text": [
      "[[ 2 -1  5]\n",
      " [-1 -3  2]\n",
      " [ 5  2  8]]\n",
      "\n",
      "\n",
      "[[ 2 -1  5]\n",
      " [-1 -3  2]\n",
      " [ 5  2  8]]\n"
     ]
    }
   ],
   "source": [
    "A = np.array([[2, -1, 5], [-1, -3, 2], [5, 2, 8]])\n",
    "\n",
    "print(A)\n",
    "\n",
    "print('\\n')\n",
    "\n",
    "print(A.T)"
   ]
  },
  {
   "cell_type": "markdown",
   "id": "extreme-migration",
   "metadata": {},
   "source": [
    "## The inverse matrix\n",
    "\n",
    "If we have a real number $\\alpha \\neq 0$, then we have $\\alpha^{-1}$ such that\n",
    "\n",
    "$$\n",
    "\\begin{equation*}\n",
    "\\alpha \\alpha^{-1} =  \\alpha^{-1}\\alpha = 1\n",
    "\\end{equation*}\n",
    "$$\n",
    "\n",
    "$\\alpha^{-1}$ is called the inverse of $\\alpha$\n",
    "\n",
    "\n",
    "Assume that $\\mathbf{A}$ is a $n \\times n$ matrix, then we say that $\\mathbf{A}^{-1}$ is the inverse if \n",
    "\n",
    "$$\n",
    "\\begin{equation*}\n",
    "\\mathbf{A}\\mathbf{A}^{-1} = \\mathbf{A}^{-1}\\mathbf{A} = \\mathbf{I}_n\n",
    "\\end{equation*}\n",
    "$$\n",
    "\n",
    "If  $\\mathbf{A}$ has an inverse it is called <mark>invertible</mark>. \n",
    "\n",
    "\n",
    "We see that $\\mathbf{A}$ must be the inverse of $\\mathbf{A}^{-1}$ and that $\\mathbf{A}^{-1}$ and $\\mathbf{A}$ must be a square matrices of the same order\n",
    "\n",
    "The function `numpy.linalg.inv` can be used to calculate the inverse, if defined. "
   ]
  },
  {
   "cell_type": "code",
   "execution_count": 15,
   "id": "similar-benefit",
   "metadata": {},
   "outputs": [
    {
     "name": "stdout",
     "output_type": "stream",
     "text": [
      "[[ 5  6]\n",
      " [ 6 10]]\n",
      "\n",
      "\n",
      "[[ 0.71428571 -0.42857143]\n",
      " [-0.42857143  0.35714286]]\n",
      "\n",
      "\n",
      "[[ 1.00000000e+00  2.22044605e-16]\n",
      " [-1.11022302e-16  1.00000000e+00]]\n"
     ]
    }
   ],
   "source": [
    "A = np.array([[5, 6], [6, 10]])\n",
    "\n",
    "print(A)\n",
    "\n",
    "Ainv = np.linalg.inv(A)\n",
    "\n",
    "print('\\n')\n",
    "print(Ainv)\n",
    "\n",
    "I = Ainv @ A\n",
    "\n",
    "print('\\n')\n",
    "print(I)"
   ]
  },
  {
   "cell_type": "markdown",
   "id": "veterinary-backup",
   "metadata": {},
   "source": [
    "### Properties of the inverse\n",
    "\n",
    "Let $\\mathbf{A}$ and $\\mathbf{B}$ be invertible $n \\times n$ matrices. Then: \n",
    "\n",
    "\n",
    "$\\mathbf{A}^{-1}$ is invertible, and $(\\mathbf{A}^{-1})^{-1} = \\mathbf{A}$\n",
    "\n",
    "\n",
    "$\\mathbf{AB}$ is invertible, and $(\\mathbf{AB})^{-1} = \\mathbf{B}^{-1}\\mathbf{A}^{-1}$\n",
    "\n",
    "\n",
    "The transpose $\\mathbf{A}^\\top$ is invertible $(\\mathbf{A}^\\top)^{-1} = (\\mathbf{A}^{-1})^{\\top}$\n",
    "\n",
    "\n",
    "$(c\\mathbf{A})^{-1} = c^{-1} \\mathbf{A}^{-1}$ whenever $c$ is a number different from zero"
   ]
  },
  {
   "cell_type": "markdown",
   "id": "american-bubble",
   "metadata": {},
   "source": [
    "### Using the inverse to solving system of linear equations\n",
    "\n",
    "Provided that $\\vert \\mathbf{A} \\vert \\neq 0$, one has that the solution to \n",
    "\n",
    "$$\n",
    "\\begin{equation*}\n",
    "\\mathbf{A}\\mathbf{x} = \\mathbf{b}\n",
    "\\end{equation*}\n",
    "$$\n",
    "is given by \n",
    "$$\n",
    "\\begin{equation*}\n",
    "\\mathbf{x} = \\mathbf{A}^{-1} \\mathbf{b} \n",
    "\\end{equation*}\n",
    "$$\n",
    "\n",
    "__Example__\n",
    "\n",
    "Solve the following system of equations\n",
    "$$\n",
    "\\begin{align*}\n",
    "2x + y =& 3 \\\\\n",
    "2x + 2y =& 4\n",
    "\\end{align*}\n",
    "$$\n",
    "\n",
    "We can write the system as \n",
    "\n",
    "$$\n",
    "\\mathbf{A}\\mathbf{x} =\n",
    "\\begin{bmatrix} \n",
    "2 & 1 \\\\\n",
    "2 & 2\n",
    "\\end{bmatrix} \n",
    "\\begin{bmatrix} \n",
    "x \\\\\n",
    "y\n",
    "\\end{bmatrix}\n",
    "= \\begin{bmatrix} \n",
    "3 \\\\\n",
    "4\n",
    "\\end{bmatrix} = \\mathbf{b}\n",
    "$$\n",
    "\n",
    "The inverse of $\\mathbf{A}$ is given by\n",
    "\n",
    "$$\n",
    "\\mathbf{A}^{-1} = \\frac{1}{2\\cdot 2 - 2 \\cdot 1} \\begin{bmatrix} \n",
    "2 & -1 \\\\\n",
    "-2 & 2\n",
    "\\end{bmatrix} =  \\begin{bmatrix} \n",
    "1 & -1/2 \\\\\n",
    "-1 & 1\n",
    "\\end{bmatrix}\n",
    "$$\n",
    "\n",
    "Thus, the solution to the system of equations is given by \n",
    "\n",
    "$$\n",
    "\\mathbf{x} = \\mathbf{A}^{-1} \\mathbf{b} = \\begin{bmatrix} \n",
    "1 & -1/2 \\\\\n",
    "-1 & 1\n",
    "\\end{bmatrix} \\begin{bmatrix} \n",
    "3 \\\\\n",
    "4\n",
    "\\end{bmatrix} \n",
    "= \\begin{bmatrix} \n",
    "3 - 2 \\\\\n",
    "-3 + 4\n",
    "\\end{bmatrix} \n",
    "= \\begin{bmatrix} \n",
    "1 \\\\\n",
    "1\n",
    "\\end{bmatrix} \n",
    "$$\n",
    "\n",
    "Using Python"
   ]
  },
  {
   "cell_type": "code",
   "execution_count": 16,
   "id": "another-interface",
   "metadata": {},
   "outputs": [
    {
     "name": "stdout",
     "output_type": "stream",
     "text": [
      "The solution is [x, y] = \n",
      "[1. 1.]\n"
     ]
    }
   ],
   "source": [
    "A = np.array([[2, 1],\n",
    "              [2, 2]])\n",
    "\n",
    "b = np.array([3, 4])\n",
    "\n",
    "A_inv = np.linalg.inv(A)\n",
    "\n",
    "print(\"The solution is [x, y] = \")\n",
    "print(A_inv@b)"
   ]
  },
  {
   "cell_type": "markdown",
   "id": "norwegian-planning",
   "metadata": {},
   "source": [
    "# Some relevant methods"
   ]
  },
  {
   "cell_type": "markdown",
   "id": "asian-harbor",
   "metadata": {},
   "source": [
    "##  The determinant\n",
    "\n",
    "In Python, `numpy.linalg.det` can be used to calculate the determinant of a matrix. Consider the matrix\n",
    "\n",
    "$$\n",
    "\\mathbf{A} = \\begin{bmatrix}\n",
    "2 & 3 & 7 \\\\\n",
    "8 & 4 & 5 \\\\\n",
    "1 & 10 & 2 \\\\\n",
    "\\end{bmatrix}\n",
    "$$\n",
    "\n",
    "then"
   ]
  },
  {
   "cell_type": "code",
   "execution_count": 17,
   "id": "peaceful-french",
   "metadata": {},
   "outputs": [
    {
     "data": {
      "text/plain": [
       "414.99999999999983"
      ]
     },
     "execution_count": 17,
     "metadata": {},
     "output_type": "execute_result"
    }
   ],
   "source": [
    "A = np.array([[2, 3, 7],\n",
    "              [8, 4, 5], \n",
    "              [1, 10, 2]])\n",
    "\n",
    "np.linalg.det(A)"
   ]
  },
  {
   "cell_type": "markdown",
   "id": "wired-wound",
   "metadata": {},
   "source": [
    "### The relationship between the inverse and the determinant\n",
    "\n",
    "The inverse will exist if and only if its determinant is different from zero\n",
    "\n",
    "$$\n",
    "\\begin{equation*}\n",
    "A^{-1} \\text{ exists } \\Leftrightarrow \\vert \\mathbf{A} \\vert \\neq 0\n",
    "\\end{equation*}\n",
    "$$\n",
    "\n",
    "\n",
    "A square matrix is <mark>singular</mark> if $\\vert \\mathbf{A} \\vert = 0$\n",
    "\n",
    "A square matrix is <mark>nonsingular</mark> if $\\vert \\mathbf{A} \\vert \\neq 0$\n",
    "\n",
    "Thus, a matrix has an inverse if and only if it is non-singular\n",
    "\n",
    "\n",
    "A matrix can only have one inverse"
   ]
  },
  {
   "cell_type": "markdown",
   "id": "functioning-triangle",
   "metadata": {},
   "source": [
    "## The inner product\n",
    "\n",
    "The <mark>inner product</mark> of the pair of $n$-vectors $\\mathbf{a}=\\begin{bmatrix} a_1 & ...  & a_n \\end{bmatrix}^\\top$ and $\\mathbf{b}=\\begin{bmatrix} b_1 & ...  & b_n \\end{bmatrix}^\\top$ is defined by\n",
    "\n",
    "$$\n",
    "\\begin{equation*}\n",
    "\\mathbf{a}\\cdot \\mathbf{b} = \\mathbf{a}^\\top \\mathbf{b} = a_1 b_1 + a_2 b_2 + ... + a_n b_n = \\sum_{i=1}^n a_i b_i\n",
    "\\end{equation*}\n",
    "$$\n",
    "\n",
    "If $\\mathbf{a}$, $\\mathbf{b}$ and $\\mathbf{c}$ are $n$-vectors and $\\alpha$ is a scalar, then \n",
    "\n",
    "$$\n",
    "\\begin{align*}\n",
    "\\mathbf{a} \\cdot \\mathbf{b} & = \\mathbf{b} \\cdot \\mathbf{a} \\\\\n",
    "\\mathbf{a} \\cdot (\\mathbf{b} + \\mathbf{c}) & = \\mathbf{a} \\cdot \\mathbf{b} + \\mathbf{a} \\cdot \\mathbf{c} \\\\\n",
    "(\\alpha \\mathbf{a})\\cdot \\mathbf{b} & = \\mathbf{a} \\cdot (\\alpha  \\mathbf{b} ) = \\alpha( \\mathbf{a}\\cdot \\mathbf{b})\n",
    "\\end{align*}\n",
    "$$\n",
    "and \n",
    "\n",
    "<center>\n",
    "$\\mathbf{a} \\cdot \\mathbf{a} > 0$  if and only if $\\mathbf{a} \\neq \\mathbf{0}$\n",
    "</center>\n",
    "\n",
    "In Python, we can either use the `@` operator on two vectors or the function `numpy.inner` "
   ]
  },
  {
   "cell_type": "code",
   "execution_count": 18,
   "id": "western-assignment",
   "metadata": {},
   "outputs": [
    {
     "data": {
      "text/plain": [
       "34"
      ]
     },
     "execution_count": 18,
     "metadata": {},
     "output_type": "execute_result"
    }
   ],
   "source": [
    "a = np.array([1, 2, 3, 4])\n",
    "b = np.array([2, 2, 4, 4])\n",
    "\n",
    "np.inner(a, b)\n",
    "# or a @ b"
   ]
  },
  {
   "cell_type": "markdown",
   "id": "equivalent-genius",
   "metadata": {},
   "source": [
    "### Lenght of a vector\n",
    "\n",
    "The <mark>length</mark> or <mark>norm</mark> of a vector $\\mathbf{a}=\\begin{bmatrix} a_1 & ...  & a_n \\end{bmatrix}$ is denoted by $\\vert \\vert \\mathbf{a} \\vert \\vert$ and defined as\n",
    "\n",
    "$$\n",
    "\\begin{equation*}\n",
    "\\Vert \\mathbf{a} \\Vert = \\sqrt{\\mathbf{a} \\cdot \\mathbf{a}} = \\sqrt{a_1^2 + ... + a_n^2}\n",
    "\\end{equation*}\n",
    "$$\n",
    "\n",
    "We see that this looks very similar to the formula for distance between two points in the $n$-dimensional space - the vector is the distance between $\\begin{bmatrix} 0 & ...  & 0 \\end{bmatrix}$ and the point $\\begin{bmatrix} a_1 & ...  & a_n \\end{bmatrix}$\n",
    "\n",
    "The <mark>Cauchy-Schwarz inequality</mark> states that \n",
    "\n",
    "$$\n",
    "\\begin{equation*}\n",
    "\\vert \\mathbf{a} \\cdot \\mathbf{b} \\vert  \\leq  \\Vert \\mathbf{a} \\Vert  \\cdot \\Vert \\mathbf{b} \\Vert \n",
    "\\end{equation*}\n",
    "$$\n",
    "\n",
    "In Python, we may use `numpy.linalg.norm` directly"
   ]
  },
  {
   "cell_type": "code",
   "execution_count": 19,
   "id": "editorial-track",
   "metadata": {},
   "outputs": [
    {
     "data": {
      "text/plain": [
       "5.477225575051661"
      ]
     },
     "execution_count": 19,
     "metadata": {},
     "output_type": "execute_result"
    }
   ],
   "source": [
    "a = np.array([1, 2, 3, 4])\n",
    "\n",
    "np.linalg.norm(a)"
   ]
  },
  {
   "cell_type": "markdown",
   "id": "nonprofit-calibration",
   "metadata": {},
   "source": [
    "### Orthogonality\n",
    "\n",
    "\n",
    "Two vectors $\\mathbf{a}$ and $\\mathbf{b}$ are orthogonal if the angel between them is $90$ degrees. This can only be the case if the inner product of the vectors are zero:\n",
    "\n",
    "$$\n",
    "\\begin{equation*}\n",
    "\\mathbf{a} \\bot \\mathbf{b} \\Leftrightarrow \\mathbf{a} \\cdot \\mathbf{b} = 0\n",
    "\\end{equation*}\n",
    "$$\n",
    "\n",
    "The concept of orthogonality is very important in econometrics where the orthogonality concept corresponds to the requirement that two variables are uncorrelated. E.g., we can define the ordinary least squares estimator using two orthogonality conditions. "
   ]
  },
  {
   "cell_type": "markdown",
   "id": "optimum-employer",
   "metadata": {},
   "source": [
    "## The outer product\n",
    "\n",
    "Given two vectors  $\\mathbf{a}=\\begin{bmatrix} a_0 & ...  & a_m \\end{bmatrix}^\\top$ and $\\mathbf{b}=\\begin{bmatrix} b_0 & ...  & b_n \\end{bmatrix}^\\top$, the outer product is given by \n",
    "\n",
    "\\begin{equation}\n",
    "\\begin{bmatrix} a_0 b_0 & a_0 b_1& \\dots & a_0 b_n \\\\\n",
    "a_1 b_0 & a_1 b_1 & \\dots & a_1 b_n \\\\\n",
    "\\vdots & \\vdots &  \\ddots& \\vdots\\\\\n",
    "a_m b_0 & a_m b_1 & \\dots & a_m b_n \\end{bmatrix}\n",
    "\\end{equation}\n",
    "\n",
    "In Python, we can use the function `numpy.outer`"
   ]
  },
  {
   "cell_type": "code",
   "execution_count": 20,
   "id": "happy-stress",
   "metadata": {},
   "outputs": [
    {
     "data": {
      "text/plain": [
       "array([[ 2,  2,  4,  4],\n",
       "       [ 4,  4,  8,  8],\n",
       "       [ 6,  6, 12, 12],\n",
       "       [ 8,  8, 16, 16]])"
      ]
     },
     "execution_count": 20,
     "metadata": {},
     "output_type": "execute_result"
    }
   ],
   "source": [
    "a = np.array([1, 2, 3, 4])\n",
    "b = np.array([2, 2, 4, 4])\n",
    "\n",
    "np.outer(a, b)"
   ]
  },
  {
   "cell_type": "markdown",
   "id": "concerned-shannon",
   "metadata": {},
   "source": [
    "## Extracting the diagonal and creating a diagonal matrix\n",
    "\n",
    "In Python, we can extract the diagonal of a matrix using `numpy.diag` by applying the function on a 2-dim array"
   ]
  },
  {
   "cell_type": "code",
   "execution_count": 21,
   "id": "overhead-daughter",
   "metadata": {},
   "outputs": [
    {
     "data": {
      "text/plain": [
       "array([2, 4, 2])"
      ]
     },
     "execution_count": 21,
     "metadata": {},
     "output_type": "execute_result"
    }
   ],
   "source": [
    "A = np.array([[2, 3, 7],\n",
    "              [8, 4, 5], \n",
    "              [1, 10, 2]])\n",
    "\n",
    "np.diag(A)\n",
    "# or A.diagonal()"
   ]
  },
  {
   "cell_type": "markdown",
   "id": "charming-paraguay",
   "metadata": {},
   "source": [
    "If we apply `numpy.diag` on a 1-dim array, we obtain a diagonal matrix"
   ]
  },
  {
   "cell_type": "code",
   "execution_count": 22,
   "id": "musical-state",
   "metadata": {},
   "outputs": [
    {
     "data": {
      "text/plain": [
       "array([[2, 0, 0],\n",
       "       [0, 4, 0],\n",
       "       [0, 0, 2]])"
      ]
     },
     "execution_count": 22,
     "metadata": {},
     "output_type": "execute_result"
    }
   ],
   "source": [
    "B = np.diag(A)\n",
    "np.diag(B)"
   ]
  },
  {
   "cell_type": "markdown",
   "id": "thermal-lodge",
   "metadata": {},
   "source": [
    "# Quadratic forms\n",
    "\n",
    "If $\\mathbf{A}$ is a square matrix of dimension $n$ and $\\mathbf{x}$ is a n-dimensional vector, then we can write a <mark>quadratic form</mark> as \n",
    "\n",
    "$$\n",
    "\\mathbf{x}^\\top \\mathbf{A} \\mathbf{x}\n",
    "$$\n",
    "\n",
    "For a general $2 \\times 2$ matrix, we have\n",
    "\n",
    "$$\n",
    "\\begin{bmatrix}\n",
    "x_{1} & x_{2}  \n",
    "\\end{bmatrix} \n",
    "\\begin{bmatrix}\n",
    "a_{11} & a_{12} \\\\\n",
    "a_{21} & a_{22} \n",
    "\\end{bmatrix}\n",
    "\\begin{bmatrix}\n",
    "x_{1} \\\\ x_{2}  \n",
    "\\end{bmatrix} = a_{11}x_1^2 + (a_{12} + a_{21})x_1 x_2 + a_{22}x_2^2\n",
    "$$\n",
    "\n",
    "Thus, quadratic terms of the variables. Without loss of generality, we may assume that $\\mathbf{A}$ is a symmetric matrix. \n",
    "\n",
    "\n",
    "## Definiteness of a matrix\n",
    "\n",
    "One important concept is the definiteness of a matrix which for instance is important when defining the second order conditions for optimization problems. \n",
    "\n",
    "The value of the quadratic form $\\mathbf{x}^\\top \\mathbf{A} \\mathbf{x}$ could be zero, positive or negative depending on the values of $\\mathbf{x}$. \n",
    "\n",
    "We will however say that a square matrix $\\mathbf{A}$ is \n",
    "\n",
    "* positive definite  if all quadratic forms $\\mathbf{x}^\\top \\mathbf{A} \\mathbf{x}>0$ for every non-zero vector $\\mathbf{x}$\n",
    "* positive semi-definite  if all quadratic forms $\\mathbf{x}^\\top \\mathbf{A} \\mathbf{x}\\geq0$ for every non-zero vector $\\mathbf{x}$\n",
    "* negative definite  if all quadratic forms $\\mathbf{x}^\\top \\mathbf{A} \\mathbf{x}<0$ for every non-zero vector $\\mathbf{x}$\n",
    "* negative semi-definite  if all quadratic forms $\\mathbf{x}^\\top \\mathbf{A} \\mathbf{x}\\leq0$ for every non-zero vector $\\mathbf{x}$\n",
    "\n",
    "One can show that a necessary condition for a matrix to be negative definite is that all diagonal elements are negative and opposite for a positive definite matrix. "
   ]
  },
  {
   "cell_type": "markdown",
   "id": "frequent-alliance",
   "metadata": {},
   "source": [
    "# Eigenvalues and eigenvectors\n",
    "\n",
    "## Linear transformations\n",
    "\n",
    "If we have a $m \\times n$ matrix $\\mathbf{A}$ and a $n$-dimensional vector $\\mathbf{x}$, then the linear transformation \n",
    "\n",
    "$$\n",
    "\\mathbf{A}\\mathbf{x}\n",
    "$$\n",
    "\n",
    "will be a $m$-dimensional vector. \n",
    "\n",
    "__Example__\n",
    "\n",
    "Consider \n",
    "$$\n",
    "\\mathbf{A} = \\begin{bmatrix} 1 & 2 \\\\ 2 & 4 \\end{bmatrix}, \\; \\mathbf{x} = \\begin{bmatrix} 2 \\\\ 1 \\end{bmatrix}\n",
    "$$\n",
    "\n",
    "Then, \n",
    "\n",
    "$$\n",
    "\\mathbf{A}\\mathbf{x} = \\begin{bmatrix} 4 \\\\ 8 \\end{bmatrix}\n",
    "$$"
   ]
  },
  {
   "cell_type": "code",
   "execution_count": 23,
   "id": "unlimited-township",
   "metadata": {},
   "outputs": [
    {
     "data": {
      "image/png": "[encoded data removed]",
      "text/plain": [
       "<Figure size 576x432 with 1 Axes>"
      ]
     },
     "metadata": {
      "needs_background": "light"
     },
     "output_type": "display_data"
    }
   ],
   "source": [
    "fig, ax = plt.subplots(figsize=(8,6))\n",
    "\n",
    "# x vector\n",
    "x = np.array([2.0,1.0])\n",
    "\n",
    "# A matrix\n",
    "A = np.array([[1, 2], [2, 4]])\n",
    "\n",
    "# end point \n",
    "Ax = A@x\n",
    "\n",
    "ax.arrow(0, 0, x[0], x[1], head_width=0.1, head_length=0.1, fc='red', ec='red', length_includes_head=True)\n",
    "ax.arrow(0, 0, Ax[0], Ax[1], head_width=0.1, head_length=0.1, fc='blue', ec='blue', length_includes_head=True)\n",
    "\n",
    "# add some extra space\n",
    "plt.xlim([0.0, 5])\n",
    "plt.ylim([0.0, 10])\n",
    "\n",
    "plt.text(x[0]*1.05,x[1]*1.05,\"$\\mathbf{x}$\", horizontalalignment='center', fontsize=15);\n",
    "plt.text(Ax[0] + 0.05, Ax[1] + 0.15,\"$\\mathbf{A}\\mathbf{x}$\", horizontalalignment='center',\n",
    "         fontsize=15);\n",
    "\n",
    "plt.grid(linestyle=\"--\")\n",
    "ax.set_axisbelow(True)"
   ]
  },
  {
   "cell_type": "markdown",
   "id": "baking-pillow",
   "metadata": {},
   "source": [
    "## Definition of eigenvector\n",
    "\n",
    "The general definition of an eigenvector $\\mathbf{w}$ of a square matrix $\\mathbf{A}$ is any vector $\\mathbf{w}$ such that \n",
    "\n",
    "$$\n",
    "\\mathbf{A}\\mathbf{w} = \\lambda \\mathbf{w}\n",
    "$$\n",
    "\n",
    "for some constant $\\lambda$, which is called the <mark>eigenvalue</mark> belonging to the <mark>eigenvector</mark> $\\mathbf{w}$.\n",
    "\n",
    "__Example__\n",
    "\n",
    "The matrix\n",
    "\n",
    "\n",
    "<center>\n",
    "$\\mathbf{A} = \\begin{bmatrix} 1 & 2 \\\\ 2 & 1 \\end{bmatrix}$ has eigenvectors  $\\begin{bmatrix} 1 \\\\ 1 \\end{bmatrix}$ and $\\begin{bmatrix} 1 \\\\ -1 \\end{bmatrix}$\n",
    "</center>\n",
    "with eigenvalues 3 and -1 respectively, because\n",
    "\n",
    "\n",
    "<center>\n",
    "$\\begin{bmatrix} 1 & 2 \\\\ 2 & 1 \\end{bmatrix} \\begin{bmatrix} 1 \\\\ 1 \\end{bmatrix} = 3\\begin{bmatrix} 1 \\\\ 1 \\end{bmatrix}$ and $\\begin{bmatrix} 1 & 2 \\\\ 2 & 1 \\end{bmatrix} \\begin{bmatrix} 1 \\\\ -1 \\end{bmatrix} = -1\\begin{bmatrix} 1 \\\\ -1 \\end{bmatrix}$\n",
    "</center>"
   ]
  },
  {
   "cell_type": "code",
   "execution_count": 24,
   "id": "institutional-happiness",
   "metadata": {},
   "outputs": [
    {
     "data": {
      "image/png": "[encoded data removed]",
      "text/plain": [
       "<Figure size 576x432 with 1 Axes>"
      ]
     },
     "metadata": {
      "needs_background": "light"
     },
     "output_type": "display_data"
    }
   ],
   "source": [
    "fig, ax = plt.subplots(figsize=(8,6))\n",
    "\n",
    "# x\n",
    "x = np.array([1.0,1.0])\n",
    "\n",
    "# \n",
    "A = np.array([[1, 2], [2, 1]])\n",
    "\n",
    "# end pont \n",
    "Ax = A@x\n",
    "\n",
    "ax.arrow(0, 0, x[0], x[1], head_width=0.1, head_length=0.1, fc='red', ec='red', length_includes_head=True, zorder=10)\n",
    "ax.arrow(0, 0, Ax[0], Ax[1], head_width=0.1, head_length=0.1, fc='blue', ec='blue', length_includes_head=True)\n",
    "\n",
    "# add some extra space\n",
    "plt.xlim([0.0, 4])\n",
    "plt.ylim([0.0, 4])\n",
    "\n",
    "plt.text(x[0]*1.05,x[1]*1.05,\"$\\mathbf{w}$\", horizontalalignment='center', fontsize=15);\n",
    "plt.text(Ax[0] + 0.05, Ax[1] + 0.15,\"$\\mathbf{A}\\mathbf{w}$\", horizontalalignment='center',\n",
    "         fontsize=15);\n",
    "\n",
    "plt.grid(linestyle=\"--\")\n",
    "ax.set_axisbelow(True)"
   ]
  },
  {
   "cell_type": "markdown",
   "id": "norwegian-program",
   "metadata": {},
   "source": [
    "A $n \\times n$ matrix $\\mathbf{A}$ will have exactly $n$ eigenvalues. Some may be zero or repeated. \n",
    "\n",
    "There will be infintely many eigenvectors. In fact, if $\\mathbf{w}$ is an eigenvector, so is $k \\mathbf{w}$ for any real number $k$. \n",
    "\n",
    "Often, we will return the normalized eigenvectors, label it $\\mathbf{w}^*$, which we can obtain from any eigenvector $\\mathbf{w}$ by dividing each element with the length of $\\mathbf{w}$:\n",
    "\n",
    "\n",
    "$$\n",
    "\\mathbf{w}^* = \\frac{1}{\\vert \\vert \\mathbf{w} \\vert \\vert}  \\mathbf{w}\n",
    "$$\n",
    "\n",
    "where \n",
    "\n",
    "$$\n",
    "\\vert \\vert \\mathbf{w} \\vert \\vert = \\sqrt{w_1^2 + ... + w_n^2} \n",
    "$$\n",
    "\n",
    "## The characteristic equation\n",
    "\n",
    "We may rewrite \n",
    "\n",
    "$$\n",
    "\\mathbf{A}\\mathbf{w} = \\lambda \\mathbf{w}\n",
    "$$\n",
    "\n",
    "as \n",
    "\n",
    "$$\n",
    "(\\mathbf{A} - \\lambda \\mathbf{I}) \\mathbf{w} = \\mathbf{0}\n",
    "$$\n",
    "\n",
    "A non-zero solution $\\mathbf{w}$ will only exist if $\\mathbf{A} - \\lambda \\mathbf{I}$ is non invertible implying that \n",
    "\n",
    "$$\n",
    "\\det \\left( \\mathbf{A} - \\lambda \\mathbf{I} \\right) = 0\n",
    "$$\n",
    "\n",
    "which is called the <mark>characteristic equation</mark>\n",
    "\n",
    "__Example__\n",
    "\n",
    "Find the eigenvalues and eigenvectors of the matrix\n",
    "\n",
    "$$\n",
    "\\mathbf{A} = \\begin{bmatrix} 2 & -1 \\\\ -2 & 3 \\end{bmatrix}\n",
    "$$\n",
    "\n",
    "The characteristic equation is \n",
    "\n",
    "$$\n",
    "\\begin{vmatrix} 2 - \\lambda & -1 \\\\ -2 & 3 -\\lambda \\end{vmatrix} = 0\n",
    "$$\n",
    "\n",
    "which corresponds to (just find the determinant)\n",
    "\n",
    "$$\n",
    "(2 - \\lambda)(3-\\lambda) - 2 = \\lambda^2 - 5\\lambda + 4 = 0\n",
    "$$\n",
    "\n",
    "We can just use a the general quadratic formula to find the roots\n",
    "\n",
    "$$\n",
    "\\lambda = \\frac{5 \\pm \\sqrt{25 - 16}}{2} \\Rightarrow  \\lambda = 1 \\text{ or } \\lambda = 4\n",
    "$$\n",
    "\n",
    "Then, we can find corresponding eigenvectors by \n",
    "\n",
    "$$\n",
    "\\begin{bmatrix} 2 & -1\\\\ -2 & 3 \\end{bmatrix} \\begin{bmatrix} w_1 \\\\ w_2 \\end{bmatrix} = 1\\begin{bmatrix} w_1 \\\\ w_2 \\end{bmatrix}\n",
    "$$\n",
    "\n",
    "with the solution (we could normalize with the lenght $\\sqrt{2}$)\n",
    "\n",
    "$$\n",
    "\\begin{bmatrix} w_1 \\\\ w_2 \\end{bmatrix} = \\begin{bmatrix} 1 \\\\ 1 \\end{bmatrix}\n",
    "$$\n",
    "\n",
    "and \n",
    "\n",
    "$$\n",
    "\\begin{bmatrix} 2 & -1\\\\ -2 & 3 \\end{bmatrix} \\begin{bmatrix} w_1 \\\\ w_2 \\end{bmatrix} = 4\\begin{bmatrix} w_1 \\\\ w_2 \\end{bmatrix}\n",
    "$$\n",
    "\n",
    "with the solution (we could normalize with the lenght $\\sqrt{5}$)\n",
    "\n",
    "$$\n",
    "\\begin{bmatrix} w_1 \\\\ w_2 \\end{bmatrix} = \\begin{bmatrix} 1 \\\\ -2 \\end{bmatrix}\n",
    "$$\n",
    "\n",
    "## Eigenvalues and eigenvectors in Python\n",
    "\n",
    "In Python, we can simply use `numpy.linalg.eig` to get eigenvalues and eigenvectors"
   ]
  },
  {
   "cell_type": "code",
   "execution_count": 25,
   "id": "another-grammar",
   "metadata": {},
   "outputs": [
    {
     "name": "stdout",
     "output_type": "stream",
     "text": [
      "eigenvalues: \n",
      "[1. 4.]\n",
      "\n",
      "\n",
      "eigenvector:\n",
      "[-0.70710678 -0.70710678]\n",
      "\n",
      "\n",
      "eigenvector:\n",
      "[ 0.4472136  -0.89442719]\n"
     ]
    }
   ],
   "source": [
    "A = np.array([[2, -1], [-2, 3]])\n",
    "\n",
    "eig_info = np.linalg.eig(A)\n",
    "\n",
    "print(\"eigenvalues: \")\n",
    "print(eig_info[0])\n",
    "print(\"\\n\")\n",
    "print(\"eigenvector:\")\n",
    "print(eig_info[1][:, 0])\n",
    "print(\"\\n\")\n",
    "print(\"eigenvector:\")\n",
    "print(eig_info[1][:, 1])"
   ]
  },
  {
   "cell_type": "markdown",
   "id": "occupied-blind",
   "metadata": {},
   "source": [
    "## Eigenvalue test for a positive definite matrix\n",
    "\n",
    "The following conditions are equivalent\n",
    "\n",
    "* A symmetric matrix $\\mathbf{A}$ is positive definite\n",
    "* The quadratic form $\\mathbf{x}^\\top\\mathbf{A}\\mathbf{x}$ is positive for every vector $\\mathbf{x} \\neq \\mathbf{0}$\n",
    "* All eigenvalues of $\\mathbf{A}$ are positive\n",
    "\n",
    "The following conditions are equivalent\n",
    "\n",
    "* A symmetric matrix $\\mathbf{A}$ is positive semi-definite\n",
    "* The quadratic form $\\mathbf{x}^\\top\\mathbf{A}\\mathbf{x}\\geq 0$ for every vector $\\mathbf{x} \\neq \\mathbf{0}$\n",
    "* All eigenvalues of $\\mathbf{A}$ are non-negative\n",
    "\n",
    "The above also holds if we replace 'positive' with 'negative'"
   ]
  },
  {
   "cell_type": "markdown",
   "id": "coral-mason",
   "metadata": {},
   "source": [
    "# Matrix decompositions\n",
    "\n",
    "## Spectral decomposition of a matrix\n",
    "\n",
    "A  $n \\times n$ square matrix $\\mathbf{A}$  has a simple representation in terms of its eigenvectors and eigenvalues. Let $\\boldsymbol{\\Lambda}$ be a diagonal matrix of eigenvalues of $\\mathbf{A}$ \n",
    "\n",
    "$$\n",
    "\\boldsymbol{\\Lambda} = \\begin{bmatrix}\n",
    "\\lambda_1 & 0 & \\dots & 0 \\\\\n",
    "0 & \\lambda_2 & \\dots & 0 \\\\\n",
    "\\vdots & \\vdots & \\ddots & \\vdots \\\\\n",
    "0 & 0 & \\dots & \\lambda_n  \\\\\n",
    "\\end{bmatrix}\n",
    "$$\n",
    "\n",
    "Then, we can write\n",
    "\n",
    "$$\n",
    "\\mathbf{A} \\mathbf{W} = \\mathbf{W} \\boldsymbol{\\Lambda}\n",
    "$$\n",
    "\n",
    "If all the eigenvalues of $\\mathbf{A}$ are non-zero and distinct, then we can write\n",
    "\n",
    "$$\n",
    "\\mathbf{A} = \\mathbf{W} \\boldsymbol{\\Lambda} \\mathbf{W}^{-1}\n",
    "$$\n",
    "\n",
    "which is called the <mark>the spectral decomposition</mark> or the  <mark>the eigendecomposition</mark> of $\\mathbf{A}$\n",
    "\n",
    "__Example__\n",
    "\n",
    "Consider \n",
    "\n",
    "$$\n",
    "\\mathbf{A} = \\begin{bmatrix} 2 & -1 \\\\ -2 & 3  \\end{bmatrix}\n",
    "$$\n",
    "\n",
    "Find the eigenvalues and eigenvectors with Python and check is the spectral decomposition works. "
   ]
  },
  {
   "cell_type": "code",
   "execution_count": 26,
   "id": "earlier-group",
   "metadata": {},
   "outputs": [
    {
     "data": {
      "text/plain": [
       "array([[ 2., -1.],\n",
       "       [-2.,  3.]])"
      ]
     },
     "execution_count": 26,
     "metadata": {},
     "output_type": "execute_result"
    }
   ],
   "source": [
    "A = np.array([[2, -1], [-2, 3]])\n",
    "\n",
    "eig_vals, W = np.linalg.eig(A)\n",
    "\n",
    "Winv = np.linalg.inv(W)\n",
    "L = np.diag(eig_vals)\n",
    "\n",
    "W@L@Winv"
   ]
  },
  {
   "cell_type": "markdown",
   "id": "breathing-chess",
   "metadata": {},
   "source": [
    "## Cholesky decomposition\n",
    "\n",
    "A square matrix is called <mark>upper triangular</mark> if it has zeros below the main diagonal and <mark>lower triangular</mark> if it has only zeros above the main diagonal. If a symmetric matrix $\\mathbf{A}$ is positive definite then there exists a lower triangular square matrix $\\mathbf{Q}$ of the same dimension such that \n",
    "\n",
    "$$\n",
    "\\mathbf{A} = \\mathbf{Q}\\mathbf{Q}^\\top\n",
    "$$\n",
    "\n",
    "which is called the <mark>Cholesky</mark> matrix of $\\mathbf{A}$\n",
    "\n",
    "\n",
    "The Cholesky matrix acts \"like the square root\" of a matrix and will only exist if the matrix is positive definite. \n",
    "\n",
    "__Example__\n",
    "\n",
    "What is the Cholesky decomposition of \n",
    "\n",
    "$$\n",
    "\\mathbf{A} = \\begin{bmatrix} 1 & -1 \\\\ -1 & 2 \\end{bmatrix}\n",
    "$$\n",
    "\n",
    "Using arbitrary constants $a, b$ and $c$ we can define $\\mathbf{Q} = \\begin{bmatrix} a & 0\\\\ b & c \\end{bmatrix} $ such that \n",
    "\n",
    "$$\n",
    "\\mathbf{A} = \\begin{bmatrix} 1 & -1 \\\\ -1 & 2 \\end{bmatrix} = \\begin{bmatrix} a & 0\\\\ b & c \\end{bmatrix} \\begin{bmatrix} a & b\\\\ 0 & c \\end{bmatrix} = \\mathbf{Q}\\mathbf{Q}^\\top\n",
    "$$\n",
    "\n",
    "Thus, we have to solve $a^2 = 1$, $b^2 + c^2 = 2$ and $ab= -1$. We will have four solutions <br><br>\n",
    "\n",
    "We note that we are able to multipy each column with $-1$ and still obtain a Cholesky matrix. <br><br>\n",
    "\n",
    "\n",
    "<center>\n",
    "$\\begin{bmatrix} 1 & 0 \\\\ -1 & 1 \\end{bmatrix}$, $\\begin{bmatrix} -1 & 0 \\\\ 1 & 1 \\end{bmatrix}$ , $\\begin{bmatrix} 1 & 0 \\\\ -1 & -1 \\end{bmatrix}$ and $\\begin{bmatrix} -1 & 0 \\\\ 1 & -1 \\end{bmatrix}$  \n",
    "</center>\n",
    "\n",
    "In Python, we can simply use `numpy.linalg.cholesky` to get the Cholesky decomposition"
   ]
  },
  {
   "cell_type": "code",
   "execution_count": 27,
   "id": "obvious-wages",
   "metadata": {},
   "outputs": [
    {
     "name": "stdout",
     "output_type": "stream",
     "text": [
      "cholesky: \n",
      "[[ 1.  0.]\n",
      " [-1.  1.]]\n"
     ]
    }
   ],
   "source": [
    "A = np.array([[1, -1], [-1, 2]])\n",
    "\n",
    "chol = np.linalg.cholesky(A)\n",
    "\n",
    "print(\"cholesky: \")\n",
    "print(chol)"
   ]
  },
  {
   "cell_type": "markdown",
   "id": "hundred-macedonia",
   "metadata": {},
   "source": [
    "# Simulating using the Numpy package\n",
    "\n",
    "The sub-module of `numpy`, `numpy.random`, allows us to simulated random draws. See documentation [here](https://numpy.org/doc/stable/reference/random/index.html?highlight=random#module-numpy.random).\n",
    "\n",
    "The function `numpy.random.normal` can be used to simulate draws from a normal distribution.  "
   ]
  },
  {
   "cell_type": "code",
   "execution_count": 28,
   "id": "expensive-seating",
   "metadata": {},
   "outputs": [],
   "source": [
    "# run this for documentation\n",
    "%pdoc np.random.normal"
   ]
  },
  {
   "cell_type": "markdown",
   "id": "complimentary-superior",
   "metadata": {},
   "source": [
    "## Example: Properties of OLS estimator\n",
    "\n",
    "Consider the regression model \n",
    "\n",
    "$$\n",
    "\\begin{equation*}\n",
    "\\mathbf{Y} =  \\mathbf{X}\\boldsymbol{\\theta} + \\boldsymbol{\\varepsilon}\n",
    "\\end{equation*}\n",
    "$$\n",
    "\n",
    "where\n",
    "\n",
    "$$\n",
    "\\boldsymbol{\\theta} = \\begin{bmatrix} \\alpha \\\\ \\beta_{x_1} \\\\ \\beta_{x_2} \\end{bmatrix}, \\; \\mathbf{Y} = \\begin{bmatrix} y_1 \\\\ \\vdots \\\\ y_n \\end{bmatrix}, \\; \\mathbf{X} = \\begin{bmatrix} 1 & x_{11} & x_{21} \\\\ \\vdots & \\vdots & \\vdots \\\\ \n",
    "1 & x_{1n} & x_{2n}\\end{bmatrix}, \\; \\boldsymbol{\\varepsilon} = \\begin{bmatrix} \\varepsilon_1 \\\\ \\vdots \\\\ \\varepsilon_n \\end{bmatrix}\n",
    "$$\n",
    "\n",
    "Assume that $x_{1i}$ and $x_{2i}$ are distributed as $N(0,4)$ with a correlation of $\\rho$ and $\\varepsilon_i \\sim N(0,1)$. $\\alpha=1, \\beta_{x_1}=1, \\beta_{x_2}=1$. \n",
    "\n",
    "We want to simulate 50 observations from this regression model when the correlation is zero. It should be possible by only using the functions `numpy.random.multivariate_normal`, `numpy.random.normal`, `numpy.zeros`, `numpy.ones`, `numpy.column_stack` and `@`, `+` operators. "
   ]
  },
  {
   "cell_type": "code",
   "execution_count": 29,
   "id": "intimate-decrease",
   "metadata": {},
   "outputs": [
    {
     "name": "stdout",
     "output_type": "stream",
     "text": [
      "OLS parameter estimates: \n",
      "\n",
      "alpha = 0.8654\n",
      "beta_x1 = 0.9352\n",
      "beta_x2 = 0.9913\n"
     ]
    }
   ],
   "source": [
    "\"\"\"\n",
    "Simulate regression model with a correlation of zero \n",
    "\"\"\"\n",
    "\n",
    "num_obs = 50\n",
    "theta = np.array([1.0, 1.0, 1.0])\n",
    "rho = 0.0\n",
    "mu_x = np.array([0.0, 0.0])\n",
    "vol_x = np.array([2.0, 2.0])\n",
    "cov_x = np.outer(vol_x, vol_x) * np.array([[1.0, rho], [rho, 1.0]])\n",
    "\n",
    "X = np.random.multivariate_normal(mu_x, cov_x, size=num_obs)\n",
    "X = np.column_stack((np.ones(num_obs), X))\n",
    "\n",
    "eps = np.random.normal(size=num_obs)\n",
    "\n",
    "Y = X @ theta + eps\n",
    "\n",
    "\"\"\"\n",
    "Estimate parameters\n",
    "\"\"\"\n",
    "\n",
    "theta, resid, rank, s = np.linalg.lstsq(X, Y, rcond=-1) \n",
    "\n",
    "print((\"\"\"OLS parameter estimates: \\n\n",
    "alpha = {:.4f}\n",
    "beta_x1 = {:.4f}\n",
    "beta_x2 = {:.4f}\"\"\").format(*theta))"
   ]
  },
  {
   "cell_type": "markdown",
   "id": "metallic-sentence",
   "metadata": {},
   "source": [
    "We want to perform a simulation study to show the effect of low and high correlation between dependent variables. We repeat the simulation and estimation 10,000 times for the case $\\rho = 0.0$ and for the case $\\rho = 0.95$. Store the estimates in `theta_uncorr` and `theta_corr`. "
   ]
  },
  {
   "cell_type": "code",
   "execution_count": 30,
   "id": "cosmetic-malta",
   "metadata": {},
   "outputs": [],
   "source": [
    "def simulation(num_obs: int, theta: np.ndarray, rho: float, mu_x: np.ndarray, vol_x: np.ndarray, num_sim: int = 10000): \n",
    "    \n",
    "    \"\"\"\n",
    "    Performs simulation study of OLS properties\n",
    "    \n",
    "    Parameters\n",
    "    ----------\n",
    "    \n",
    "    num_obs: int\n",
    "        Number of observations.\n",
    "    theta: np.ndarray\n",
    "        Parameter vector. \n",
    "    rho: float\n",
    "        Correlation between regressors. \n",
    "    mu_x: np.ndarray\n",
    "        Mean vector of regressors. \n",
    "    vol_x: np.ndarray\n",
    "        Vol vector of regressors. \n",
    "    \n",
    "    Returns\n",
    "    -------\n",
    "    np.ndarray\n",
    "        Simulation results. \n",
    "    \n",
    "    \"\"\"\n",
    "    \n",
    "    cov_x = np.outer(vol_x, vol_x) * np.array([[1.0, rho], [rho, 1.0]])\n",
    "\n",
    "    all_thetas = np.zeros((num_sim, len(theta)))\n",
    "    \n",
    "    for i in range(num_sim): \n",
    "        \n",
    "        X = np.random.multivariate_normal(mu_x, cov_x, size=num_obs)\n",
    "        X = np.column_stack((np.ones(num_obs), X))\n",
    "\n",
    "        eps = np.random.normal(size=num_obs)\n",
    "\n",
    "        Y = X @ theta + eps\n",
    "\n",
    "        all_thetas[i, :], resid, rank, s  = np.linalg.lstsq(X,Y, rcond=-1) \n",
    "        \n",
    "    return all_thetas"
   ]
  },
  {
   "cell_type": "code",
   "execution_count": 31,
   "id": "russian-transmission",
   "metadata": {},
   "outputs": [],
   "source": [
    "theta_uncorr = simulation(num_obs, theta, 0.0, mu_x, vol_x, num_sim = 10000)\n",
    "theta_corr = simulation(num_obs, theta, 0.95, mu_x, vol_x, num_sim = 10000)"
   ]
  },
  {
   "cell_type": "code",
   "execution_count": 32,
   "id": "signal-commitment",
   "metadata": {},
   "outputs": [
    {
     "data": {
      "image/png": "[encoded data removed]",
      "text/plain": [
       "<Figure size 1152x360 with 2 Axes>"
      ]
     },
     "metadata": {
      "needs_background": "light"
     },
     "output_type": "display_data"
    }
   ],
   "source": [
    "\"\"\"\n",
    "Plot histogram\n",
    "\"\"\"\n",
    "\n",
    "fig,ax = plt.subplots(1, 2, figsize=(16, 5))\n",
    "\n",
    "ax1 = ax[0]\n",
    "\n",
    "ax1.hist(theta_uncorr[:, 1], color=\"blue\", alpha=0.5, bins=50, density=True, label=\"$\\\\rho = 0.0$\")\n",
    "ax1.hist(theta_corr[:, 1], color=\"red\", alpha=0.5, bins=50, density=True, label=\"$\\\\rho = 0.95$\")\n",
    "\n",
    "ax1.set_xlabel('$\\\\hat{\\\\beta}_{x_1}$', size=15)\n",
    "ax1.set_ylabel('Density', size=15)\n",
    "ax1.set_title('Histogram of $\\\\hat{\\\\beta}_{x_1}$', size=15);\n",
    "ax1.legend();\n",
    "\n",
    "ax2 = ax[1]\n",
    "\n",
    "ax2.hist(theta_uncorr[:, 2], color=\"blue\", alpha=0.5, bins=50, density=True, label=\"$\\\\rho = 0.0$\")\n",
    "ax2.hist(theta_corr[:, 2], color=\"red\", alpha=0.5, bins=50, density=True, label=\"$\\\\rho = 0.95$\")\n",
    "\n",
    "ax2.set_xlabel('$\\\\hat{\\\\beta}_{x_2}$', size=15)\n",
    "ax2.set_ylabel('Density', size=15)\n",
    "ax2.set_title('Histogram of $\\\\hat{\\\\beta}_{x_2}$', size=15);\n",
    "ax2.legend();"
   ]
  },
  {
   "cell_type": "code",
   "execution_count": 33,
   "id": "intermediate-pizza",
   "metadata": {},
   "outputs": [
    {
     "data": {
      "image/png": "[encoded data removed]",
      "text/plain": [
       "<Figure size 1152x360 with 2 Axes>"
      ]
     },
     "metadata": {
      "needs_background": "light"
     },
     "output_type": "display_data"
    }
   ],
   "source": [
    "\"\"\"\n",
    "Plot scatter plot\n",
    "\"\"\"\n",
    "\n",
    "fig,ax = plt.subplots(1, 2, figsize=(16, 5))\n",
    "\n",
    "ax1 = ax[0]\n",
    "\n",
    "ax1.scatter(theta_uncorr[:, 1], theta_uncorr[:, 2], color=\"blue\", alpha=0.5)\n",
    "\n",
    "ax1.set_xlabel('$\\\\hat{\\\\beta}_{x_1}$', size=15)\n",
    "ax1.set_ylabel('$\\\\hat{\\\\beta}_{x_2}$', size=15)\n",
    "ax1.set_title('Scatterplot: $\\\\hat{\\\\beta}_{x_1}$ vs. $\\\\hat{\\\\beta}_{x_2}$ for  $\\\\rho = 0.0$', size=15)\n",
    "\n",
    "ax2 = ax[1]\n",
    "\n",
    "ax2.scatter(theta_corr[:, 1], theta_corr[:, 2], color=\"blue\", alpha=0.5)\n",
    "\n",
    "ax2.set_xlabel('$\\\\hat{\\\\beta}_{x_1}$', size=15)\n",
    "ax2.set_ylabel('$\\\\hat{\\\\beta}_{x_2}$', size=15)\n",
    "ax2.set_title('Scatterplot: $\\\\hat{\\\\beta}_{x_1}$ vs. $\\\\hat{\\\\beta}_{x_2}$ for  $\\\\rho = 0.95$', size=15);"
   ]
  },
  {
   "cell_type": "markdown",
   "id": "fewer-delicious",
   "metadata": {},
   "source": [
    "# Principal components\n",
    "\n",
    "Assume that $\\mathbf{X}$ is a $T \\times N$ matrix \n",
    "\n",
    "$$\n",
    "\\mathbf{X} =  \\begin{bmatrix} x_{11} & x_{12} & \\dots & x_{1N} \\\\ \n",
    "x_{21} & x_{22} & \\dots & x_{2N} \\\\\n",
    "\\vdots & \\vdots & \\dots & \\vdots \\\\\n",
    "x_{T1} & x_{T2} & \\dots & x_{TN}\n",
    "\\end{bmatrix}\n",
    "$$\n",
    "\n",
    "We define the <mark>principal components</mark> to be linear combinations of the columns of $\\mathbf{X}$ where the weights are chosen such that \n",
    "\n",
    "* the principal componens are uncorrelated with each other \n",
    "* the first principal component explains the most variation and the second component explains the greatest amount of the remaining variation, etc. \n",
    "\n",
    "We will measure variation using the covariance matrix (or the correlation matrix) $\\boldsymbol{\\Sigma}$. Let $\\boldsymbol{\\Lambda}$ denote the diagional matrix of eigenvalues of $\\boldsymbol{\\Sigma}$ (largest to smallest) and let $\\mathbf{W}$ be the matrix of eigenvectors. \n",
    "\n",
    "The matrix of principal components of $\\boldsymbol{\\Sigma}$ is a $T \\times N$ matrix   $\\mathbf{P}$\n",
    "\n",
    "$$\n",
    "\\mathbf{P} = \\mathbf{X}\\mathbf{W}\n",
    "$$\n",
    "\n",
    "The $m$'th principal component will correspond to the $m$'th column in $\\mathbf{P}$. \n",
    "\n",
    "__Covariance of principal components__\n",
    "\n",
    "It is possible to show that the covariance of the principal components are given by\n",
    "\n",
    "$$\n",
    "\\frac{1}{T}\\mathbf{P}^\\top \\mathbf{P} = \\boldsymbol{\\Lambda}\n",
    "$$\n",
    "\n",
    "Thus, \n",
    "\n",
    "* The covariance matrix is diagonal such that the correlation between the principal components are zero\n",
    "* The variance of the $m$'th principal component is $\\lambda_m$\n",
    "\n",
    "__Total variance__\n",
    "\n",
    "The total variance in $\\mathbf{X}$ is the sum of the eigenvalues of $\\boldsymbol{\\Sigma}$, $\\lambda_1 + \\lambda_2 + \\dots + \\lambda_N$. \n",
    "\n",
    "The proportion of variation explained by the $m$'th principal component is then \n",
    "\n",
    "$$\n",
    "\\frac{\\lambda_m}{\\lambda_1 + \\lambda_2 + \\dots + \\lambda_N}\n",
    "$$\n",
    "\n",
    "\n",
    "## Example with bivariate normal\n",
    "\n",
    "Consider a bivariate normal distribution \n",
    "\n",
    "$$\n",
    "\\begin{bmatrix} x \\\\ y \\end{bmatrix}  \\sim MN \\left(\\begin{bmatrix} 0 \\\\ 0 \\end{bmatrix} , \\begin{bmatrix} 1 & 0.5\\\\ 0.5 & 1 \\end{bmatrix}\\right)\n",
    "$$\n",
    "\n",
    "The eigenvalues of the covariance matrix $\\boldsymbol{\\Sigma} = \\begin{bmatrix} 1 & 0.5\\\\ 0.5 & 1 \\end{bmatrix}$ are $1.5$ and $0.5$. Thus, the first principal component will explain $75\\%$ of the variation. \n",
    "\n",
    "We want to use Python to simulate 500 observations and plot the simulated data together with the eigenvectors. "
   ]
  },
  {
   "cell_type": "code",
   "execution_count": 34,
   "id": "changing-techno",
   "metadata": {},
   "outputs": [
    {
     "data": {
      "text/plain": [
       "(array([1.5, 0.5]),\n",
       " array([[ 0.70710678, -0.70710678],\n",
       "        [ 0.70710678,  0.70710678]]))"
      ]
     },
     "execution_count": 34,
     "metadata": {},
     "output_type": "execute_result"
    }
   ],
   "source": [
    "mean = np.array([0.0, 0.0])\n",
    "cov = np.array([[1.0, 0.5],\n",
    "                [0.5, 1.0]])\n",
    "\n",
    "data = np.random.multivariate_normal(mean=mean, cov = cov, size=500)\n",
    "\n",
    "eig_ouput = np.linalg.eig(cov)\n",
    "eig_ouput"
   ]
  },
  {
   "cell_type": "code",
   "execution_count": 35,
   "id": "tough-annex",
   "metadata": {},
   "outputs": [
    {
     "data": {
      "image/png": "[encoded data removed]",
      "text/plain": [
       "<Figure size 720x720 with 1 Axes>"
      ]
     },
     "metadata": {
      "needs_background": "light"
     },
     "output_type": "display_data"
    }
   ],
   "source": [
    "l1 = eig_ouput[0][0]\n",
    "l2 = eig_ouput[0][1]\n",
    "\n",
    "fig, ax = plt.subplots(figsize=(10,10))\n",
    "\n",
    "f = plt.scatter(data[:, 0],data[:, 1], color='gray', label='Simulated data') \n",
    "arrow1 = ax.arrow(0, 0, l1*eig_ouput[1][0, 0], l1*eig_ouput[1][1, 0], head_width=0.15, head_length=0.1, fc='red',\n",
    "         ec='red', length_includes_head=True, label=\"First eigenvector\")\n",
    "arrow2 = ax.arrow(0, 0, l2*eig_ouput[1][0, 1], l2*eig_ouput[1][1, 1], head_width=0.15, head_length=0.1, fc='blue',\n",
    "         ec='blue', length_includes_head=True, label=\"Second eigenvector\")\n",
    "\n",
    "plt.xlim([-4, 4])\n",
    "plt.ylim([-4, 4])\n",
    "\n",
    "plt.xlabel('$x$')\n",
    "plt.ylabel('$y$')\n",
    "\n",
    "ax.legend([f, arrow1, arrow2], ['Simulated data', '1. eigenvector', '2. eigenvector'], ncol=3);"
   ]
  },
  {
   "cell_type": "code",
   "execution_count": 36,
   "id": "aging-shepherd",
   "metadata": {},
   "outputs": [],
   "source": [
    "p_data = data @ eig_ouput[1]"
   ]
  },
  {
   "cell_type": "code",
   "execution_count": 37,
   "id": "removable-hudson",
   "metadata": {},
   "outputs": [
    {
     "data": {
      "image/png": "[encoded data removed]",
      "text/plain": [
       "<Figure size 720x720 with 1 Axes>"
      ]
     },
     "metadata": {
      "needs_background": "light"
     },
     "output_type": "display_data"
    }
   ],
   "source": [
    "fig, ax = plt.subplots(figsize=(10,10))\n",
    "\n",
    "f = plt.scatter(p_data[:, 0],p_data[:, 1], color='gray', label='Simulated data') \n",
    "\n",
    "\n",
    "plt.xlim([-4, 4])\n",
    "plt.ylim([-4, 4])\n",
    "\n",
    "plt.xlabel('$p_1$')\n",
    "plt.ylabel('$p_2$')\n",
    "plt.title('Principal components');"
   ]
  },
  {
   "cell_type": "markdown",
   "id": "computational-startup",
   "metadata": {},
   "source": [
    "# Revisiting the portfolio construction example\n",
    "\n",
    "Based on what we have learned so far, we can cast the allocation decision of an investor in matrix notation. Let \n",
    "\n",
    "$$\n",
    "\\begin{equation*}\n",
    "\\boldsymbol{\\mu} = \\begin{bmatrix}\n",
    "0.02 \\\\ 0.05 \\\\ 0.06 \\\\ 0.08\n",
    "\\end{bmatrix}, \\; \n",
    "\\boldsymbol{\\sigma} =  \\begin{bmatrix}\n",
    "0.05 \\\\ 0.1 \\\\ 0.15 \\\\ 0.2\n",
    "\\end{bmatrix}, \\;\n",
    "\\mathbf{C} = \\begin{bmatrix}\n",
    "1 &\t0.85 & 0.5\t& 0.45 \\\\\n",
    "0.85 &\t1 &\t0.5\t & 0.45 \\\\\n",
    "0.5\t& 0.5 &\t1&\t0.7 \\\\\n",
    "0.45&\t0.45&\t0.7 &\t1\n",
    "\\end{bmatrix},\n",
    "\\end{equation*}\n",
    "$$\n",
    "\n",
    "be the mean vector, std. deviation vector, and correlation matrix of returns, respectively. "
   ]
  },
  {
   "cell_type": "code",
   "execution_count": 38,
   "id": "mineral-focus",
   "metadata": {},
   "outputs": [],
   "source": [
    "\"\"\"\n",
    "Define inputs\n",
    "\"\"\"\n",
    "\n",
    "mu = np.array([0.02, 0.05, 0.06, 0.08])\n",
    "\n",
    "sigma = np.array([0.05, 0.1, 0.15, 0.2])\n",
    "\n",
    "C = np.array([[1, 0.85, 0.50, 0.45], \n",
    "              [0.85, 1, 0.50, 0.45], \n",
    "              [0.50, 0.50, 1, 0.70], \n",
    "              [0.45, 0.45, 0.70, 1]])\n"
   ]
  },
  {
   "cell_type": "markdown",
   "id": "lasting-acting",
   "metadata": {},
   "source": [
    "How do we obtain the covariance matrix from the standard deviation and correlations? We know that the covariance is given by $\\sigma_{X,Y} = \\sigma_X \\sigma_Y \\rho_{X, Y}$, but we want a fast of doing the computations. \n",
    "\n",
    "We easily calculate the covariance matrix using either "
   ]
  },
  {
   "cell_type": "code",
   "execution_count": 39,
   "id": "educational-national",
   "metadata": {},
   "outputs": [
    {
     "data": {
      "text/plain": [
       "array([[0.0025 , 0.00425, 0.00375, 0.0045 ],\n",
       "       [0.00425, 0.01   , 0.0075 , 0.009  ],\n",
       "       [0.00375, 0.0075 , 0.0225 , 0.021  ],\n",
       "       [0.0045 , 0.009  , 0.021  , 0.04   ]])"
      ]
     },
     "execution_count": 39,
     "metadata": {},
     "output_type": "execute_result"
    }
   ],
   "source": [
    "D = np.diag(sigma)\n",
    "Sigma = np.matmul(D, np.matmul(C, D))\n",
    "Sigma"
   ]
  },
  {
   "cell_type": "markdown",
   "id": "fitted-customs",
   "metadata": {},
   "source": [
    "or "
   ]
  },
  {
   "cell_type": "code",
   "execution_count": 40,
   "id": "forward-category",
   "metadata": {},
   "outputs": [
    {
     "data": {
      "text/plain": [
       "array([[0.0025 , 0.00425, 0.00375, 0.0045 ],\n",
       "       [0.00425, 0.01   , 0.0075 , 0.009  ],\n",
       "       [0.00375, 0.0075 , 0.0225 , 0.021  ],\n",
       "       [0.0045 , 0.009  , 0.021  , 0.04   ]])"
      ]
     },
     "execution_count": 40,
     "metadata": {},
     "output_type": "execute_result"
    }
   ],
   "source": [
    "Sigma = np.outer(sigma, sigma) * C\n",
    "Sigma"
   ]
  },
  {
   "cell_type": "markdown",
   "id": "guided-registrar",
   "metadata": {},
   "source": [
    "We want to define two function that calculate the portfolio mean and portfolio variance"
   ]
  },
  {
   "cell_type": "code",
   "execution_count": 41,
   "id": "stock-relative",
   "metadata": {},
   "outputs": [],
   "source": [
    "def portfolio_mean(w: np.ndarray, mu: np.ndarray): \n",
    "    \n",
    "    \"\"\"\n",
    "    Calculates the portfolio mean\n",
    "    \n",
    "    Parameters\n",
    "    ----------\n",
    "    w: np.ndarray\n",
    "        Portfolio weights. \n",
    "    mu: np.ndarray\n",
    "        Asset expected returns. \n",
    "        \n",
    "    Returns\n",
    "    -------\n",
    "    float\n",
    "        Portfolio expected return. \n",
    "    \n",
    "    \"\"\"\n",
    "    \n",
    "    return np.matmul(w, mu)\n",
    "\n",
    "def portfolio_variance(w: np.ndarray, Sigma: np.ndarray): \n",
    "    \n",
    "    \"\"\"\n",
    "    Calculates the portfolio mean\n",
    "\n",
    "    Parameters\n",
    "    ----------\n",
    "    w: np.ndarray\n",
    "        Portfolio weights. \n",
    "    Sigma: np.ndarray\n",
    "        Asset covariance matrix. \n",
    "\n",
    "    Returns\n",
    "    -------\n",
    "    float\n",
    "        Portfolio variance. \n",
    "\n",
    "    \"\"\"\n",
    "\n",
    "    return np.matmul(w, np.matmul(Sigma, w))"
   ]
  },
  {
   "cell_type": "code",
   "execution_count": 42,
   "id": "charitable-guarantee",
   "metadata": {},
   "outputs": [
    {
     "data": {
      "text/plain": [
       "0.052500000000000005"
      ]
     },
     "execution_count": 42,
     "metadata": {},
     "output_type": "execute_result"
    }
   ],
   "source": [
    "\"\"\"\n",
    "Calculate portfolio mean and std. for equal weighted portfolio\n",
    "\"\"\"\n",
    "\n",
    "w = np.repeat(1.0 / len(mu), len(mu))\n",
    "\n",
    "# portfolio expected value\n",
    "portfolio_mean(w, mu)"
   ]
  },
  {
   "cell_type": "code",
   "execution_count": 43,
   "id": "visible-criticism",
   "metadata": {},
   "outputs": [
    {
     "data": {
      "text/plain": [
       "0.10458250331675945"
      ]
     },
     "execution_count": 43,
     "metadata": {},
     "output_type": "execute_result"
    }
   ],
   "source": [
    "# portfolio std. \n",
    "np.sqrt(portfolio_variance(w, Sigma))"
   ]
  },
  {
   "cell_type": "markdown",
   "id": "quality-submission",
   "metadata": {},
   "source": [
    "Later in the course, we will learn how to minimize portfolio variance for a given return target\n",
    "\n",
    "$$\n",
    "\\begin{equation}\\label{key}\n",
    " \\min_\\mathbf{w} \\mathbf{w}^\\top \\Sigma \\mathbf{w} \\; s.t. \\mathbf{w}^\\top \\boldsymbol{\\mu} = c  \n",
    "\\end{equation}\n",
    "$$\n",
    "where $\\Sigma$ is the covariance matrix of returns. "
   ]
  },
  {
   "cell_type": "markdown",
   "id": "hourly-passion",
   "metadata": {},
   "source": [
    "# References\n",
    "\n",
    "## Articles\n",
    "\n",
    "\n",
    "## Books"
   ]
  }
 ],
 "metadata": {
  "kernelspec": {
   "display_name": "python_for_fin_econ",
   "language": "python",
   "name": "python_for_fin_econ"
  },
  "language_info": {
   "codemirror_mode": {
    "name": "ipython",
    "version": 3
   },
   "file_extension": ".py",
   "mimetype": "text/x-python",
   "name": "python",
   "nbconvert_exporter": "python",
   "pygments_lexer": "ipython3",
   "version": "3.8.6"
  }
 },
 "nbformat": 4,
 "nbformat_minor": 5
}
