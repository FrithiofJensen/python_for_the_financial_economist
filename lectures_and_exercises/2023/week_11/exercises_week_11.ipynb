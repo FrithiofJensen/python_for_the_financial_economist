{
 "cells": [
  {
   "cell_type": "code",
   "execution_count": 1,
   "id": "personal-retention",
   "metadata": {},
   "outputs": [],
   "source": [
    "import sys\n",
    "sys.path.insert(0,'C:\\\\code\\\\python_for_the_financial_economist\\\\')\n",
    "\n",
    "\"\"\"\n",
    "Magic commands\n",
    "\"\"\"\n",
    "\n",
    "%load_ext autoreload\n",
    "%autoreload 2\n",
    "\n",
    "\"\"\"\n",
    "Load relevant packages\n",
    "\"\"\"\n",
    "\n",
    "import numpy as np\n",
    "import pandas as pd\n",
    "import matplotlib.pyplot as plt\n",
    "import matplotlib.ticker as ticker\n",
    "import seaborn as sns\n",
    "import datetime\n",
    "from scipy import stats\n",
    "from scipy import optimize\n",
    "from scipy.linalg import block_diag\n",
    "\n",
    "from pandas_datareader.data import DataReader\n",
    "from pandas_datareader.famafrench import FamaFrenchReader, get_available_datasets\n",
    "\n",
    "from typing import Union, List, Tuple\n",
    "\n",
    "\"\"\"\n",
    "Own packages\n",
    "\"\"\"\n",
    "from codelib.portfolio_optimization.risk_metrics import drawdown, maxdrawdown\n",
    "from codelib.statistics.moments import corr_to_cov_matrix, cov_to_corr_matrix, weighted_percentile, calculate_correlation\n",
    "\n",
    "from codelib.visualization.base import correlation_plot, fan_chart\n",
    "from codelib.visualization.layout import DefaultStyle, default_colors\n",
    "DefaultStyle();\n",
    "\n",
    "from codelib.portfolio_optimization.black_litterman import calculate_capm_expected_return, calculate_bl_mu, calculate_bl_sigma\n",
    "from codelib.portfolio_optimization.black_litterman import BlackLitterman\n",
    "\n",
    "from codelib.portfolio_optimization.mean_variance import portfolio_variance\n",
    "\n",
    "\n",
    "# Views\n",
    "from codelib.statistics.fully_flexible_views import ProbabilitySolver, CorrelationView,MeanView, VolatilityView\n",
    "from codelib.statistics.fully_flexible_views import effective_sample_size_entropy"
   ]
  },
  {
   "cell_type": "markdown",
   "id": "streaming-vertex",
   "metadata": {},
   "source": [
    "# Exercises - Week 11\n"
   ]
  },
  {
   "cell_type": "markdown",
   "id": "pressed-injection",
   "metadata": {},
   "source": [
    "## Problem 1: Scenario analysis\n",
    "\n",
    "Assume that the (annual) log-returns of broad stock and bond indicies can be modelled as a bivariate normal distribution \n",
    "\n",
    "$$\n",
    "\\log (1  + \\mathbf{R}) = \\log \\begin{bmatrix} 1 + R_{B} \\\\ 1 + R_{S} \\end{bmatrix} \\sim N\\left(\\boldsymbol{\\mu}, \n",
    "\\boldsymbol{\\Sigma}\\right)\n",
    "$$\n",
    "\n",
    "with \n",
    "\n",
    "$$\n",
    "\\boldsymbol{\\mu} = \\begin{bmatrix} 0.02 \\\\ 0.04 \\end{bmatrix}\n",
    "$$\n",
    "\n",
    "and \n",
    "\n",
    "$$\n",
    "\\boldsymbol{\\Sigma} = \\begin{bmatrix} 0.1^2 & 0.0 \\\\ 0.0 & 0.16^2 \\end{bmatrix}\n",
    "$$\n",
    "\n",
    "\n",
    "__Question 1__\n",
    "\n",
    "\n",
    "Simulate 100,000 log-returns.  Estimate the correlation between stocks and bonds based on the simulated log-returns.\n",
    "\n",
    "__Question 2__\n",
    "\n",
    "What is the distribution of $1 + \\mathbf{R}$? What is the mean and variance of $1 + \\mathbf{R}$?\n",
    "\n",
    "__Question 3__\n",
    "\n",
    "Compare with the sample mean and variance estimates. \n",
    "\n",
    "__Question 4__\n",
    "\n",
    "Consider an equally weighted portfolio of stock and bonds. What is the mean and variance of this portfolio?\n",
    "\n",
    "__Question 5__\n",
    "\n",
    "How does the result in the previous question compare with the simulated data?\n",
    "\n",
    "__Question 6__\n",
    "\n",
    "Plot a histogram with the equally weighted portfolio returns. \n",
    "\n",
    "__Question 7__\n",
    "\n",
    "What is the probability of a return less than -10% (on the equally weighted portfolio)?\n",
    "\n",
    "__Question 8__\n",
    "\n",
    "We want to implement the view that the correlation between stocks and bonds are $\\rho_{S,B} = 0.5$. Discuss how you will implement this view using the approach in [Attilio Meucci (2010), Fully Flexible Views: Theory and Practice](https://papers.ssrn.com/sol3/papers.cfm?abstract_id=1213325) and implement the view. \n",
    "\n",
    "__Question 9__\n",
    "\n",
    "Plot the histogram of the original and weighted portfolio returns. \n",
    "\n",
    "__Question 10__\n",
    "\n",
    "What is the probability of a portfolio return less than -10% (on the equally weighted portfolio) when taking the implemented view into account?\n",
    "\n",
    "__Question 11__\n",
    "\n",
    "Check that the correlation of the posterior distribution is $0.5$ (between the log-returns). \n",
    "\n",
    "### Solution \n",
    "\n",
    "__Question 1__"
   ]
  },
  {
   "cell_type": "code",
   "execution_count": 2,
   "id": "speaking-jewel",
   "metadata": {},
   "outputs": [
    {
     "data": {
      "text/plain": [
       "array([[ 1.        , -0.00115172],\n",
       "       [-0.00115172,  1.        ]])"
      ]
     },
     "execution_count": 2,
     "metadata": {},
     "output_type": "execute_result"
    }
   ],
   "source": [
    "\"\"\"\n",
    "Define relevant parameter values\n",
    "\"\"\"\n",
    "\n",
    "mu = np.array([0.02, 0.04])\n",
    "vols = np.array([0.1, 0.16])\n",
    "corr_mat = np.eye(2)\n",
    "cov_mat = corr_to_cov_matrix(corr_mat, vols)\n",
    "\n",
    "\"\"\"\n",
    "Simulate values\n",
    "\"\"\"\n",
    "num_sim = 100000\n",
    "sim_log_returns = np.random.multivariate_normal(mu, cov_mat, size=num_sim)\n",
    "\n",
    "\"\"\"\n",
    "Calculate correlation \n",
    "\"\"\"\n",
    "\n",
    "np.corrcoef(sim_log_returns, rowvar=False)"
   ]
  },
  {
   "cell_type": "markdown",
   "id": "lucky-novelty",
   "metadata": {},
   "source": [
    "__Question 2__\n",
    "\n",
    "Since $\\log 1 + \\mathbf{R}$ is normally distributed then $1 + \\mathbf{R}$ follows a log-normal distribution. From the properties of a [multivariate log-normal distribution](https://www.casact.org/sites/default/files/database/forum_15spforum_halliwell.pdf) then \n",
    "\n",
    "$$\n",
    "\\text{E}[1 + \\mathbf{R}] = e^{\\boldsymbol{\\mu} + \\frac{1}{2} \\text{diag}\\boldsymbol{\\Sigma}}\n",
    "$$\n",
    "\n",
    "and \n",
    "\n",
    "$$\n",
    "\\text{Var}[1 + \\mathbf{R}] = \\text{E}[1 + \\mathbf{R}] \\text{E}[1 + \\mathbf{R}]^\\top \\odot \\left( e^{\\boldsymbol{\\Sigma}} - \\mathbf{1}_{N \\times N}\\right)\n",
    "$$"
   ]
  },
  {
   "cell_type": "code",
   "execution_count": 54,
   "id": "continuing-table",
   "metadata": {},
   "outputs": [],
   "source": [
    "def transform_moments_from_norm_to_log_norm(mu: np.ndarray, cov_mat: np.ndarray) -> Tuple[np.ndarray, np.ndarray]: \n",
    "    \n",
    "    \"\"\"\n",
    "    Calulates the mean and covariance of a multivariate log-normal distribution\n",
    "    \n",
    "    Parameters\n",
    "    ----------\n",
    "    mu: \n",
    "        Expected value of log X.\n",
    "    cov_mat: \n",
    "        Covariance matrix of log X.\n",
    "        \n",
    "    Returns\n",
    "    Tuple[np.ndarray, np.ndarray]\n",
    "        Expected value and covariance matrix of X. \n",
    "    \n",
    "    \"\"\"\n",
    "    \n",
    "    mu_new = np.exp(mu + 0.5 * np.diag(cov_mat))\n",
    "    \n",
    "    cov_mat_new = np.outer(mu_new, mu_new) * (np.exp(cov_mat) - np.ones_like(cov_mat))\n",
    "    \n",
    "    return mu_new, cov_mat_new"
   ]
  },
  {
   "cell_type": "code",
   "execution_count": 4,
   "id": "third-radius",
   "metadata": {},
   "outputs": [],
   "source": [
    "mu_gross_returns, cov_mat_gross_returns = transform_moments_from_norm_to_log_norm(mu, cov_mat)"
   ]
  },
  {
   "cell_type": "code",
   "execution_count": 5,
   "id": "piano-cookbook",
   "metadata": {},
   "outputs": [
    {
     "data": {
      "text/plain": [
       "array([1.02531512, 1.05421878])"
      ]
     },
     "execution_count": 5,
     "metadata": {},
     "output_type": "execute_result"
    }
   ],
   "source": [
    "mu_gross_returns"
   ]
  },
  {
   "cell_type": "code",
   "execution_count": 6,
   "id": "initial-advisory",
   "metadata": {},
   "outputs": [
    {
     "data": {
      "text/plain": [
       "array([[0.01056545, 0.        ],\n",
       "       [0.        , 0.02881856]])"
      ]
     },
     "execution_count": 6,
     "metadata": {},
     "output_type": "execute_result"
    }
   ],
   "source": [
    "cov_mat_gross_returns"
   ]
  },
  {
   "cell_type": "markdown",
   "id": "olive-lawsuit",
   "metadata": {},
   "source": [
    "__Question 3__"
   ]
  },
  {
   "cell_type": "code",
   "execution_count": 7,
   "id": "charged-jacob",
   "metadata": {},
   "outputs": [],
   "source": [
    "sim_gross_returns = np.exp(sim_log_returns)"
   ]
  },
  {
   "cell_type": "code",
   "execution_count": 8,
   "id": "ultimate-latitude",
   "metadata": {},
   "outputs": [
    {
     "data": {
      "text/plain": [
       "array([1.02545269, 1.05434648])"
      ]
     },
     "execution_count": 8,
     "metadata": {},
     "output_type": "execute_result"
    }
   ],
   "source": [
    "est_mu_gross_return = np.mean(sim_gross_returns, axis=0)\n",
    "est_mu_gross_return"
   ]
  },
  {
   "cell_type": "code",
   "execution_count": 9,
   "id": "working-psychology",
   "metadata": {},
   "outputs": [
    {
     "data": {
      "text/plain": [
       "array([[ 1.05564978e-02, -2.48672190e-05],\n",
       "       [-2.48672190e-05,  2.89970731e-02]])"
      ]
     },
     "execution_count": 9,
     "metadata": {},
     "output_type": "execute_result"
    }
   ],
   "source": [
    "est_cov_mat_gross_return = np.cov(sim_gross_returns, rowvar=False)\n",
    "est_cov_mat_gross_return"
   ]
  },
  {
   "cell_type": "markdown",
   "id": "mineral-native",
   "metadata": {},
   "source": [
    "__Question 4__\n",
    "\n",
    "We want to find the mean and variance\n",
    "\n",
    "$$\n",
    "\\mathbf{w}^\\top \\text{E}[\\mathbf{R}] = \\mathbf{w}^\\top \\text{E}[1 + \\mathbf{R} - 1] =\\mathbf{w}^\\top \\left[ e^{\\boldsymbol{\\mu} + \\frac{1}{2} \\text{diag}\\boldsymbol{\\Sigma}} - 1\\right]\n",
    "$$\n",
    "\n",
    "and\n",
    "\n",
    "$$\n",
    "\\mathbf{w}^\\top \\text{Var}[\\mathbf{R}]\\mathbf{w} = \\mathbf{w}^\\top \\text{Var}[ 1 + \\mathbf{R}]\\mathbf{w} = \\mathbf{w}^\\top \\text{E}[1 + \\mathbf{R}] \\text{E}[1 + \\mathbf{R}]^\\top \\odot \\left( e^{\\boldsymbol{\\Sigma}} - \\mathbf{1}_{N \\times N}\\right)\\mathbf{w} \n",
    "$$\n",
    "\n",
    "where $\\mathbf{w} = [0.5, 0.5]^\\top$"
   ]
  },
  {
   "cell_type": "code",
   "execution_count": 10,
   "id": "compressed-beijing",
   "metadata": {},
   "outputs": [],
   "source": [
    "w_eq = np.repeat(0.5, 2)\n",
    "\n",
    "port_mean_eq = w_eq @ (mu_gross_returns - 1)\n",
    "port_var_eq = w_eq @ cov_mat_gross_returns @ w_eq "
   ]
  },
  {
   "cell_type": "code",
   "execution_count": 11,
   "id": "quality-lease",
   "metadata": {},
   "outputs": [
    {
     "data": {
      "text/plain": [
       "0.039766950400974"
      ]
     },
     "execution_count": 11,
     "metadata": {},
     "output_type": "execute_result"
    }
   ],
   "source": [
    "port_mean_eq"
   ]
  },
  {
   "cell_type": "code",
   "execution_count": 12,
   "id": "convinced-surface",
   "metadata": {},
   "outputs": [
    {
     "data": {
      "text/plain": [
       "0.009846002787160964"
      ]
     },
     "execution_count": 12,
     "metadata": {},
     "output_type": "execute_result"
    }
   ],
   "source": [
    "port_var_eq"
   ]
  },
  {
   "cell_type": "markdown",
   "id": "fatty-vacation",
   "metadata": {},
   "source": [
    "__Question 5__"
   ]
  },
  {
   "cell_type": "code",
   "execution_count": 13,
   "id": "pressing-helmet",
   "metadata": {},
   "outputs": [],
   "source": [
    "sim_net_returns = sim_gross_returns - 1\n",
    "sim_port_returns = sim_net_returns @ w_eq"
   ]
  },
  {
   "cell_type": "code",
   "execution_count": 14,
   "id": "tired-press",
   "metadata": {},
   "outputs": [],
   "source": [
    "port_mean_eq_sim = np.mean(sim_port_returns)\n",
    "port_var_eq_sim = np.var(sim_port_returns)"
   ]
  },
  {
   "cell_type": "code",
   "execution_count": 15,
   "id": "analyzed-contact",
   "metadata": {},
   "outputs": [
    {
     "data": {
      "text/plain": [
       "0.03989958743798558"
      ]
     },
     "execution_count": 15,
     "metadata": {},
     "output_type": "execute_result"
    }
   ],
   "source": [
    "port_mean_eq_sim"
   ]
  },
  {
   "cell_type": "code",
   "execution_count": 16,
   "id": "hindu-myanmar",
   "metadata": {},
   "outputs": [
    {
     "data": {
      "text/plain": [
       "0.009875860345740319"
      ]
     },
     "execution_count": 16,
     "metadata": {},
     "output_type": "execute_result"
    }
   ],
   "source": [
    "port_var_eq_sim"
   ]
  },
  {
   "cell_type": "markdown",
   "id": "solid-chassis",
   "metadata": {},
   "source": [
    "__Question 6__"
   ]
  },
  {
   "cell_type": "code",
   "execution_count": 17,
   "id": "relative-english",
   "metadata": {},
   "outputs": [
    {
     "data": {
      "image/png": "[encoded data removed]",
      "text/plain": [
       "<Figure size 864x432 with 1 Axes>"
      ]
     },
     "metadata": {
      "needs_background": "light"
     },
     "output_type": "display_data"
    }
   ],
   "source": [
    "fig, ax = plt.subplots(figsize=(12, 6))\n",
    "\n",
    "ax.hist(sim_net_returns[:, 0], density=True, bins=100, label=\"Bonds\", alpha=0.75);\n",
    "ax.hist(sim_net_returns[:, 1], density=True, bins=100, label=\"Stocks\", alpha=0.75);\n",
    "ax.hist(sim_port_returns, density=True, bins=100, label=\"Portfolio\", alpha=0.75);\n",
    "ax.set_xlabel(\"Portfolio return\")\n",
    "ax.set_ylabel(\"Density\")\n",
    "ax.set_title(\"Return of equally weighted portfolio\")\n",
    "ax.legend();\n",
    "ax.xaxis.set_major_formatter(ticker.PercentFormatter(xmax=1, decimals=1));"
   ]
  },
  {
   "cell_type": "markdown",
   "id": "vocal-democracy",
   "metadata": {},
   "source": [
    "__Question 7__"
   ]
  },
  {
   "cell_type": "code",
   "execution_count": 18,
   "id": "proprietary-projector",
   "metadata": {},
   "outputs": [],
   "source": [
    "def calculate_prob_less_than(data: np.ndarray, value: float, probs=None):\n",
    "    \n",
    "    idx_smaller = data < value\n",
    "    \n",
    "    if probs is None: \n",
    "        return np.sum(idx_smaller) / len(data)\n",
    "    else: \n",
    "        return probs[idx_smaller].sum()"
   ]
  },
  {
   "cell_type": "code",
   "execution_count": 19,
   "id": "quick-faculty",
   "metadata": {},
   "outputs": [
    {
     "data": {
      "text/plain": [
       "0.06882"
      ]
     },
     "execution_count": 19,
     "metadata": {},
     "output_type": "execute_result"
    }
   ],
   "source": [
    "prob_less = calculate_prob_less_than(sim_port_returns, -0.1, probs=None)\n",
    "prob_less"
   ]
  },
  {
   "cell_type": "markdown",
   "id": "sitting-choice",
   "metadata": {},
   "source": [
    "__Question 8__\n",
    "\n",
    "The approach of [Attilio Meucci (2010), Fully Flexible Views: Theory and Practice](https://papers.ssrn.com/sol3/papers.cfm?abstract_id=1213325) allows us to implement views that are defined as linear constraints on the probabilities. However, many relevant non-linear views can be implemented by redefining the views. \n",
    "\n",
    "If we want to define a view on the expected value of a random variable $X$ such that its expected value is equal to $c$, we could simply define \n",
    "\n",
    "$$\n",
    "\\mathbf{x}^\\top \\tilde{\\mathbf{p}} = \\sum_{j=1}^J x_{j} \\tilde{p}_i = c\n",
    "$$\n",
    "\n",
    "The direct approach to specify a view on the covariance between the two random variables $X$ and $Y$ would be (equal to b)\n",
    "\n",
    "$$\n",
    "[( \\mathbf{x} - \\mathbf{x}^\\top \\tilde{\\mathbf{p}}) \\odot (\\mathbf{y} - \\mathbf{y}^\\top \\tilde{\\mathbf{p}})]^\\top \\tilde{\\mathbf{p}} = b\n",
    "$$\n",
    "\n",
    "which is non-linear on the probabilities and so will a view on the correlation. \n",
    "\n",
    "We realize that we can write the covariance between two random variables $X$ and $Y$ as \n",
    "\n",
    "$$\n",
    "\\rho_{X,Y} \\sigma_X \\sigma_Y = \\text{Cov}[X, Y] = \\text{E}[XY] - \\text{E}[X]\\text{E}[Y] = \\text{E}[XY] - \\mu_X \\mu_Y\n",
    "$$\n",
    "\n",
    "which gives us \n",
    "\n",
    "$$\n",
    "\\text{E}[XY] = \\mu_X \\mu_Y + \\rho_{X,Y} \\sigma_X \\sigma_Y \n",
    "$$\n",
    "\n",
    "Thus, we can we define the constraint as \n",
    "\n",
    "$$\n",
    "[\\mathbf{x}  \\odot \\mathbf{y}]^\\top \\tilde{\\mathbf{p}} = \\mu_X \\mu_Y + \\rho_{X,Y} \\sigma_X \\sigma_Y \n",
    "$$\n",
    "\n",
    "requiring us to also have a view on expected values and volatilities. However, if we have an agnostic view on expected values and volatilities, we can simply set them equal to the ones of the prior / reference distribution. \n"
   ]
  },
  {
   "cell_type": "code",
   "execution_count": 20,
   "id": "sweet-cleanup",
   "metadata": {},
   "outputs": [],
   "source": [
    "mean_view_1 = MeanView('eq', sim_log_returns[:, 0], mu[0])\n",
    "mean_view_2 = MeanView('eq', sim_log_returns[:, 1], mu[1])\n",
    "vol_view_1 = VolatilityView('eq', sim_log_returns[:, 0], mu[0], vols[0])\n",
    "vol_view_2 = VolatilityView('eq', sim_log_returns[:, 1], mu[1], vols[1])\n",
    "corr_view = CorrelationView('eq', sim_log_returns[:, 0], sim_log_returns[:, 1], mu[0], mu[1], vols[0], vols[1], 0.5)"
   ]
  },
  {
   "cell_type": "code",
   "execution_count": 21,
   "id": "swedish-capability",
   "metadata": {},
   "outputs": [],
   "source": [
    "init_probs = np.ones_like(sim_log_returns[:, 0]) / len(sim_log_returns[:, 0])\n",
    "\n",
    "view_solver = ProbabilitySolver(init_probs, [mean_view_1, mean_view_2, vol_view_1, vol_view_2, corr_view])\n",
    "view_probs = view_solver.minimize_entropy()"
   ]
  },
  {
   "cell_type": "markdown",
   "id": "loved-fellow",
   "metadata": {},
   "source": [
    "__Question 9__"
   ]
  },
  {
   "cell_type": "code",
   "execution_count": 22,
   "id": "accessible-customs",
   "metadata": {},
   "outputs": [
    {
     "data": {
      "image/png": "[encoded data removed]",
      "text/plain": [
       "<Figure size 864x432 with 1 Axes>"
      ]
     },
     "metadata": {
      "needs_background": "light"
     },
     "output_type": "display_data"
    }
   ],
   "source": [
    "fig, ax = plt.subplots(figsize=(12, 6))\n",
    "\n",
    "ax.hist(sim_port_returns, density=True, bins=100, label=\"Portfolio (prior distribution)\", alpha=0.75);\n",
    "ax.hist(sim_port_returns, density=True, bins=100, label=\"Portfolio (posterior distribution)\", alpha=0.75,\n",
    "        weights=view_probs);\n",
    "ax.set_xlabel(\"Portfolio return\")\n",
    "ax.set_ylabel(\"Density\")\n",
    "ax.set_title(\"Return of equally weighted portfolio\")\n",
    "ax.legend();\n",
    "ax.xaxis.set_major_formatter(ticker.PercentFormatter(xmax=1, decimals=1));"
   ]
  },
  {
   "cell_type": "markdown",
   "id": "closing-reason",
   "metadata": {},
   "source": [
    "__Question 10__"
   ]
  },
  {
   "cell_type": "code",
   "execution_count": 23,
   "id": "modern-zambia",
   "metadata": {},
   "outputs": [
    {
     "data": {
      "text/plain": [
       "0.11268899166419197"
      ]
     },
     "execution_count": 23,
     "metadata": {},
     "output_type": "execute_result"
    }
   ],
   "source": [
    "prob_less_view = calculate_prob_less_than(sim_port_returns, -0.1, probs=view_probs)\n",
    "prob_less_view"
   ]
  },
  {
   "cell_type": "markdown",
   "id": "medical-music",
   "metadata": {},
   "source": [
    "__Question 11__"
   ]
  },
  {
   "cell_type": "code",
   "execution_count": 24,
   "id": "rapid-roman",
   "metadata": {},
   "outputs": [
    {
     "data": {
      "text/plain": [
       "0.49998305234780704"
      ]
     },
     "execution_count": 24,
     "metadata": {},
     "output_type": "execute_result"
    }
   ],
   "source": [
    "calculate_correlation(sim_log_returns[:, 0], sim_log_returns[:, 1], probs=view_probs)"
   ]
  },
  {
   "cell_type": "markdown",
   "id": "sunset-angle",
   "metadata": {},
   "source": [
    "## Problem 2: Portfolio optimization with views\n",
    "\n",
    "In this problem, we will perform portfolio optimization after applying views. \n",
    "\n",
    "__Question 1__\n",
    "\n",
    "Obtain the Fama-French \"12 industry portfolios\" since 1999. Calculate the value weighted return index. \n",
    "\n",
    "Calculate log-returns of the market portfolio and the industry portfolios. \n",
    "\n",
    "__Question 2__\n",
    "\n",
    "We will assume that we can model the log-returns of the industry portfolios using a one-factor model. Let $\\mathbf{x}$ denote the $N \\times 1$ vector of log-returns and let $f$ denote the  market log-return, then \n",
    "\n",
    "$$\n",
    "\\mathbf{x} = \\boldsymbol{\\alpha} + \\boldsymbol{\\beta} f + \\mathbf{u}\n",
    "$$\n",
    "\n",
    "where $\\boldsymbol{\\beta}$ ($N \\times 1$) denotes the market betas and $\\mathbf{u} \\sim N(\\mathbf{0}, \\boldsymbol{\\Omega})$ denotes the the error terms that are assumed to be normally distributed with a diagonal covariance matrix. \n",
    "\n",
    "Calculate the market betas. This can be done using standard OLS. \n",
    "\n",
    "__Question 3__\n",
    "\n",
    "The implied covariance matrix is given by \n",
    "\n",
    "$$\n",
    "\\text{Cov}[\\mathbf{x}] = \\boldsymbol{\\beta} \\text{Var}[f] \\boldsymbol{\\beta}^T + \\boldsymbol{\\Omega}\n",
    "$$\n",
    "\n",
    "We can estimate $\\text{Var}[f]$ as the sample variance of the market log-return and we can estimate the diagonal elements of $\\boldsymbol{\\Omega}$ as the sample variance of the residuals. \n",
    "\n",
    "Calculate the covariance matrix of the log-returns given the one-factor model and compare with the sample covariance matrix of the log-returns. \n",
    "\n",
    "__Question 4__\n",
    "\n",
    "We will assume that $\\boldsymbol{\\alpha} = \\mathbf{0}$ and assume that 1-year market log-return is distributed as \n",
    "\n",
    "$$\n",
    "\\log (1 + R_{mkt}) \\sim N(\\mu_{mkt}, \\text{Var}[f] \\cdot 12)\n",
    "$$\n",
    "\n",
    "where $\\text{Var}[f]$ is the variance obtained using the monthly log-returns. $\\mu_{mkt}$ is the expected market log-return. \n",
    "\n",
    "We will try to find the optimal asset allocaiton in three cases (bear, bull and neutral market)\n",
    "\n",
    "$$\n",
    "\\mu_{mkt} = 0.05 \\pm \\sigma_{mkt}\n",
    "$$\n",
    "\n",
    "where $\\sigma_{mkt}$ refers to the market standard deviation (annual). \n",
    "\n",
    "Simulate 100,000 annual log-returns for the 12 assets when $\\mu_{mkt} = 0.05$. Calculate gross and net returns. Plot the histogram of the 1-year portfolio returns of an equally weighted portfolio. \n",
    "\n",
    "__Question 5__\n",
    "\n",
    "Plot the histogram of the equally weighted portfolio when applying the bull and bear view. \n",
    "\n",
    "__Question 6__\n",
    "\n",
    "Adapt the Mean-CVaR optimization method of [Rockafeller and Uryasev (2000)](https://www.ise.ufl.edu/uryasev/files/2011/11/CVaR1_JOR.pdf) (see week 5) to allow for views. \n",
    "\n",
    "__Question 7__\n",
    "\n",
    "Minimize the CVaR(5%). Are the results as expected?\n",
    "\n",
    "\n",
    "\n",
    "### Solution \n",
    "\n",
    "__Question 1__"
   ]
  },
  {
   "cell_type": "code",
   "execution_count": 25,
   "id": "conditional-somewhere",
   "metadata": {},
   "outputs": [
    {
     "data": {
      "text/plain": [
       "'12 Industry Portfolios\\n----------------------\\n\\nThis file was created by CMPT_IND_RETS using the 202209 CRSP database. It contains value- and equal-weighted returns for 12 industry portfolios. The portfolios are constructed at the end of June. The annual returns are from January to December. Missing data are indicated by -99.99 or -999. Copyright 2022 Kenneth R. French\\n\\n  0 : Average Value Weighted Returns -- Monthly (285 rows x 12 cols)\\n  1 : Average Equal Weighted Returns -- Monthly (285 rows x 12 cols)\\n  2 : Average Value Weighted Returns -- Annual (23 rows x 12 cols)\\n  3 : Average Equal Weighted Returns -- Annual (23 rows x 12 cols)\\n  4 : Number of Firms in Portfolios (285 rows x 12 cols)\\n  5 : Average Firm Size (285 rows x 12 cols)\\n  6 : Sum of BE / Sum of ME (24 rows x 12 cols)\\n  7 : Value-Weighted Average of BE/ME (24 rows x 12 cols)'"
      ]
     },
     "execution_count": 25,
     "metadata": {},
     "output_type": "execute_result"
    }
   ],
   "source": [
    "reader = FamaFrenchReader(\"12_Industry_Portfolios\", start=datetime.datetime(1999, 1, 1))\n",
    "industry_port = reader.read()\n",
    "\n",
    "# print description\n",
    "industry_port['DESCR']"
   ]
  },
  {
   "cell_type": "code",
   "execution_count": 26,
   "id": "compound-emission",
   "metadata": {},
   "outputs": [],
   "source": [
    "# get equally weighted\n",
    "ind_eq_weighted = industry_port[1] / 100\n",
    "ind_eq_weighted.columns = ind_eq_weighted.columns.str.strip()\n",
    "#ind_eq_weighted.index = pd.to_datetime(ind_eq_weighted.index, format=\"%Y-%m\")\n",
    "\n",
    "# get market cap weighted \n",
    "ind_mc_weighted = industry_port[0] / 100\n",
    "ind_mc_weighted.columns = ind_mc_weighted.columns.str.strip()\n",
    "#ind_mc_weighted.index = pd.to_datetime(ind_mc_weighted.index, format=\"%Y%m\")\n",
    "\n",
    "# get number of companies in each sector\n",
    "num_companies = industry_port[4]\n",
    "num_companies.columns = num_companies.columns.str.strip()\n",
    "#num_companies.index = pd.to_datetime(num_companies.index, format=\"%Y%m\")\n",
    "\n",
    "# get average firm size \n",
    "avg_firm_size = industry_port[5]\n",
    "avg_firm_size.columns = avg_firm_size.columns.str.strip()\n",
    "#avg_firm_size.index = pd.to_datetime(avg_firm_size.index, format=\"%Y%m\")\n",
    "\n",
    "# get sector market cap \n",
    "sector_mkt_cap  = num_companies * avg_firm_size\n",
    "total_mkt_cap = sector_mkt_cap.sum(axis=1)\n",
    "\n",
    "# get relative market cap\n",
    "sector_mkt_cap_relative = sector_mkt_cap.divide(total_mkt_cap, axis=\"rows\")\n",
    "\n",
    "# calculate market return \n",
    "market_return = (sector_mkt_cap_relative * ind_mc_weighted).sum(axis=\"columns\")\n",
    "\n",
    "# calculate equal weighted return \n",
    "equal_weighted_return = (ind_mc_weighted / 12.0).sum(axis=\"columns\")\n",
    "\n",
    "# asset list\n",
    "asset_list = ind_mc_weighted.columns"
   ]
  },
  {
   "cell_type": "code",
   "execution_count": 27,
   "id": "periodic-bicycle",
   "metadata": {},
   "outputs": [],
   "source": [
    "mkt_index = (1 + market_return).cumprod()\n",
    "mkt_log_returns = np.log(1 + market_return)\n",
    "\n",
    "log_returns = np.log(1 + ind_mc_weighted)"
   ]
  },
  {
   "cell_type": "code",
   "execution_count": 28,
   "id": "precise-campbell",
   "metadata": {},
   "outputs": [
    {
     "data": {
      "text/html": [
       "<div>\n",
       "<style scoped>\n",
       "    .dataframe tbody tr th:only-of-type {\n",
       "        vertical-align: middle;\n",
       "    }\n",
       "\n",
       "    .dataframe tbody tr th {\n",
       "        vertical-align: top;\n",
       "    }\n",
       "\n",
       "    .dataframe thead th {\n",
       "        text-align: right;\n",
       "    }\n",
       "</style>\n",
       "<table border=\"1\" class=\"dataframe\">\n",
       "  <thead>\n",
       "    <tr style=\"text-align: right;\">\n",
       "      <th></th>\n",
       "      <th>NoDur</th>\n",
       "      <th>Durbl</th>\n",
       "      <th>Manuf</th>\n",
       "      <th>Enrgy</th>\n",
       "      <th>Chems</th>\n",
       "      <th>BusEq</th>\n",
       "      <th>Telcm</th>\n",
       "      <th>Utils</th>\n",
       "      <th>Shops</th>\n",
       "      <th>Hlth</th>\n",
       "      <th>Money</th>\n",
       "      <th>Other</th>\n",
       "    </tr>\n",
       "    <tr>\n",
       "      <th>Date</th>\n",
       "      <th></th>\n",
       "      <th></th>\n",
       "      <th></th>\n",
       "      <th></th>\n",
       "      <th></th>\n",
       "      <th></th>\n",
       "      <th></th>\n",
       "      <th></th>\n",
       "      <th></th>\n",
       "      <th></th>\n",
       "      <th></th>\n",
       "      <th></th>\n",
       "    </tr>\n",
       "  </thead>\n",
       "  <tbody>\n",
       "    <tr>\n",
       "      <th>1999-01</th>\n",
       "      <td>-0.034695</td>\n",
       "      <td>0.052877</td>\n",
       "      <td>0.021957</td>\n",
       "      <td>-0.056676</td>\n",
       "      <td>-0.040405</td>\n",
       "      <td>0.140892</td>\n",
       "      <td>0.083514</td>\n",
       "      <td>-0.064752</td>\n",
       "      <td>0.023717</td>\n",
       "      <td>0.002397</td>\n",
       "      <td>0.005286</td>\n",
       "      <td>0.028490</td>\n",
       "    </tr>\n",
       "    <tr>\n",
       "      <th>1999-02</th>\n",
       "      <td>-0.038637</td>\n",
       "      <td>-0.044056</td>\n",
       "      <td>-0.029532</td>\n",
       "      <td>-0.032110</td>\n",
       "      <td>0.007174</td>\n",
       "      <td>-0.121716</td>\n",
       "      <td>-0.029532</td>\n",
       "      <td>-0.038429</td>\n",
       "      <td>-0.015012</td>\n",
       "      <td>0.002297</td>\n",
       "      <td>0.006181</td>\n",
       "      <td>-0.019999</td>\n",
       "    </tr>\n",
       "    <tr>\n",
       "      <th>1999-03</th>\n",
       "      <td>-0.019795</td>\n",
       "      <td>-0.008435</td>\n",
       "      <td>0.043155</td>\n",
       "      <td>0.143234</td>\n",
       "      <td>0.056286</td>\n",
       "      <td>0.082317</td>\n",
       "      <td>-0.006924</td>\n",
       "      <td>-0.017248</td>\n",
       "      <td>0.027907</td>\n",
       "      <td>0.025278</td>\n",
       "      <td>0.029850</td>\n",
       "      <td>0.005684</td>\n",
       "    </tr>\n",
       "    <tr>\n",
       "      <th>1999-04</th>\n",
       "      <td>0.036814</td>\n",
       "      <td>0.098306</td>\n",
       "      <td>0.082317</td>\n",
       "      <td>0.147471</td>\n",
       "      <td>0.108137</td>\n",
       "      <td>0.023424</td>\n",
       "      <td>0.079643</td>\n",
       "      <td>0.069339</td>\n",
       "      <td>0.005385</td>\n",
       "      <td>-0.056994</td>\n",
       "      <td>0.060907</td>\n",
       "      <td>0.075849</td>\n",
       "    </tr>\n",
       "    <tr>\n",
       "      <th>1999-05</th>\n",
       "      <td>0.014002</td>\n",
       "      <td>-0.056994</td>\n",
       "      <td>-0.028297</td>\n",
       "      <td>-0.031800</td>\n",
       "      <td>-0.043430</td>\n",
       "      <td>-0.006723</td>\n",
       "      <td>0.010346</td>\n",
       "      <td>0.065132</td>\n",
       "      <td>-0.029429</td>\n",
       "      <td>-0.020611</td>\n",
       "      <td>-0.036768</td>\n",
       "      <td>-0.042908</td>\n",
       "    </tr>\n",
       "    <tr>\n",
       "      <th>...</th>\n",
       "      <td>...</td>\n",
       "      <td>...</td>\n",
       "      <td>...</td>\n",
       "      <td>...</td>\n",
       "      <td>...</td>\n",
       "      <td>...</td>\n",
       "      <td>...</td>\n",
       "      <td>...</td>\n",
       "      <td>...</td>\n",
       "      <td>...</td>\n",
       "      <td>...</td>\n",
       "      <td>...</td>\n",
       "    </tr>\n",
       "    <tr>\n",
       "      <th>2022-05</th>\n",
       "      <td>-0.016943</td>\n",
       "      <td>-0.092554</td>\n",
       "      <td>-0.001902</td>\n",
       "      <td>0.143148</td>\n",
       "      <td>-0.011668</td>\n",
       "      <td>-0.021837</td>\n",
       "      <td>0.081949</td>\n",
       "      <td>0.046788</td>\n",
       "      <td>-0.042073</td>\n",
       "      <td>0.009851</td>\n",
       "      <td>0.027615</td>\n",
       "      <td>-0.030047</td>\n",
       "    </tr>\n",
       "    <tr>\n",
       "      <th>2022-06</th>\n",
       "      <td>-0.039781</td>\n",
       "      <td>-0.127493</td>\n",
       "      <td>-0.106027</td>\n",
       "      <td>-0.177334</td>\n",
       "      <td>-0.084687</td>\n",
       "      <td>-0.087411</td>\n",
       "      <td>-0.069564</td>\n",
       "      <td>-0.067744</td>\n",
       "      <td>-0.079584</td>\n",
       "      <td>-0.020713</td>\n",
       "      <td>-0.094860</td>\n",
       "      <td>-0.119798</td>\n",
       "    </tr>\n",
       "    <tr>\n",
       "      <th>2022-07</th>\n",
       "      <td>0.041238</td>\n",
       "      <td>0.242711</td>\n",
       "      <td>0.104540</td>\n",
       "      <td>0.099755</td>\n",
       "      <td>0.031208</td>\n",
       "      <td>0.110020</td>\n",
       "      <td>-0.004008</td>\n",
       "      <td>0.060719</td>\n",
       "      <td>0.136627</td>\n",
       "      <td>0.027129</td>\n",
       "      <td>0.071204</td>\n",
       "      <td>0.102737</td>\n",
       "    </tr>\n",
       "    <tr>\n",
       "      <th>2022-08</th>\n",
       "      <td>-0.019081</td>\n",
       "      <td>-0.059432</td>\n",
       "      <td>-0.044684</td>\n",
       "      <td>0.032661</td>\n",
       "      <td>-0.016231</td>\n",
       "      <td>-0.052557</td>\n",
       "      <td>-0.030562</td>\n",
       "      <td>0.000900</td>\n",
       "      <td>-0.031697</td>\n",
       "      <td>-0.052030</td>\n",
       "      <td>-0.022655</td>\n",
       "      <td>-0.040197</td>\n",
       "    </tr>\n",
       "    <tr>\n",
       "      <th>2022-09</th>\n",
       "      <td>-0.086866</td>\n",
       "      <td>-0.069136</td>\n",
       "      <td>-0.126471</td>\n",
       "      <td>-0.095740</td>\n",
       "      <td>-0.113505</td>\n",
       "      <td>-0.121942</td>\n",
       "      <td>-0.150125</td>\n",
       "      <td>-0.123864</td>\n",
       "      <td>-0.079151</td>\n",
       "      <td>-0.019285</td>\n",
       "      <td>-0.080560</td>\n",
       "      <td>-0.086321</td>\n",
       "    </tr>\n",
       "  </tbody>\n",
       "</table>\n",
       "<p>285 rows × 12 columns</p>\n",
       "</div>"
      ],
      "text/plain": [
       "            NoDur     Durbl     Manuf     Enrgy     Chems     BusEq     Telcm  \\\n",
       "Date                                                                            \n",
       "1999-01 -0.034695  0.052877  0.021957 -0.056676 -0.040405  0.140892  0.083514   \n",
       "1999-02 -0.038637 -0.044056 -0.029532 -0.032110  0.007174 -0.121716 -0.029532   \n",
       "1999-03 -0.019795 -0.008435  0.043155  0.143234  0.056286  0.082317 -0.006924   \n",
       "1999-04  0.036814  0.098306  0.082317  0.147471  0.108137  0.023424  0.079643   \n",
       "1999-05  0.014002 -0.056994 -0.028297 -0.031800 -0.043430 -0.006723  0.010346   \n",
       "...           ...       ...       ...       ...       ...       ...       ...   \n",
       "2022-05 -0.016943 -0.092554 -0.001902  0.143148 -0.011668 -0.021837  0.081949   \n",
       "2022-06 -0.039781 -0.127493 -0.106027 -0.177334 -0.084687 -0.087411 -0.069564   \n",
       "2022-07  0.041238  0.242711  0.104540  0.099755  0.031208  0.110020 -0.004008   \n",
       "2022-08 -0.019081 -0.059432 -0.044684  0.032661 -0.016231 -0.052557 -0.030562   \n",
       "2022-09 -0.086866 -0.069136 -0.126471 -0.095740 -0.113505 -0.121942 -0.150125   \n",
       "\n",
       "            Utils     Shops      Hlth     Money     Other  \n",
       "Date                                                       \n",
       "1999-01 -0.064752  0.023717  0.002397  0.005286  0.028490  \n",
       "1999-02 -0.038429 -0.015012  0.002297  0.006181 -0.019999  \n",
       "1999-03 -0.017248  0.027907  0.025278  0.029850  0.005684  \n",
       "1999-04  0.069339  0.005385 -0.056994  0.060907  0.075849  \n",
       "1999-05  0.065132 -0.029429 -0.020611 -0.036768 -0.042908  \n",
       "...           ...       ...       ...       ...       ...  \n",
       "2022-05  0.046788 -0.042073  0.009851  0.027615 -0.030047  \n",
       "2022-06 -0.067744 -0.079584 -0.020713 -0.094860 -0.119798  \n",
       "2022-07  0.060719  0.136627  0.027129  0.071204  0.102737  \n",
       "2022-08  0.000900 -0.031697 -0.052030 -0.022655 -0.040197  \n",
       "2022-09 -0.123864 -0.079151 -0.019285 -0.080560 -0.086321  \n",
       "\n",
       "[285 rows x 12 columns]"
      ]
     },
     "execution_count": 28,
     "metadata": {},
     "output_type": "execute_result"
    }
   ],
   "source": [
    "log_returns"
   ]
  },
  {
   "cell_type": "markdown",
   "id": "forty-bloom",
   "metadata": {},
   "source": [
    "__Question 2__"
   ]
  },
  {
   "cell_type": "code",
   "execution_count": 29,
   "id": "photographic-composition",
   "metadata": {},
   "outputs": [],
   "source": [
    "y_mat = log_returns.values\n",
    "x_mat = np.c_[np.ones(len(mkt_log_returns)), mkt_log_returns.values]"
   ]
  },
  {
   "cell_type": "code",
   "execution_count": 30,
   "id": "sticky-electron",
   "metadata": {},
   "outputs": [],
   "source": [
    "beta_est = np.linalg.inv(x_mat.T @ x_mat) @ x_mat.T @ y_mat"
   ]
  },
  {
   "cell_type": "code",
   "execution_count": 31,
   "id": "narrow-steam",
   "metadata": {},
   "outputs": [
    {
     "data": {
      "text/plain": [
       "array([0.56760192, 1.48336116, 1.16898656, 0.96024181, 0.74124265,\n",
       "       1.3530039 , 0.94828151, 0.46181507, 0.86498235, 0.62231983,\n",
       "       1.07529334, 1.07046856])"
      ]
     },
     "execution_count": 31,
     "metadata": {},
     "output_type": "execute_result"
    }
   ],
   "source": [
    "# beta estimates\n",
    "beta_est[1, :]"
   ]
  },
  {
   "cell_type": "code",
   "execution_count": 32,
   "id": "western-fireplace",
   "metadata": {},
   "outputs": [
    {
     "data": {
      "text/plain": [
       "array([ 0.00310909, -0.00258732,  0.0004487 ,  0.00117519,  0.00177434,\n",
       "       -0.0016675 , -0.00356444,  0.00382972,  0.00195632,  0.00258592,\n",
       "       -0.0013634 , -0.00193161])"
      ]
     },
     "execution_count": 32,
     "metadata": {},
     "output_type": "execute_result"
    }
   ],
   "source": [
    "# alpha estimates\n",
    "beta_est[0, :]"
   ]
  },
  {
   "cell_type": "markdown",
   "id": "separate-winning",
   "metadata": {},
   "source": [
    "__Question 3__"
   ]
  },
  {
   "cell_type": "code",
   "execution_count": 33,
   "id": "muslim-myanmar",
   "metadata": {},
   "outputs": [],
   "source": [
    "# residuals\n",
    "resids = y_mat - x_mat @ beta_est"
   ]
  },
  {
   "cell_type": "code",
   "execution_count": 34,
   "id": "serial-prevention",
   "metadata": {},
   "outputs": [],
   "source": [
    "# residual covariance matrix, Omega\n",
    "residual_variance = np.var(resids, axis=0)\n",
    "residual_cov_mat = np.diag(residual_variance)"
   ]
  },
  {
   "cell_type": "code",
   "execution_count": 35,
   "id": "olympic-prayer",
   "metadata": {},
   "outputs": [],
   "source": [
    "# covariance mat, factor structure\n",
    "cov_mat = np.outer(beta_est[1, :], beta_est[1, :]) * np.var(mkt_log_returns.values) + residual_cov_mat\n",
    "\n",
    "sample_cov_mat = np.cov(log_returns.values, rowvar=False, )"
   ]
  },
  {
   "cell_type": "code",
   "execution_count": 36,
   "id": "manual-reservoir",
   "metadata": {},
   "outputs": [],
   "source": [
    "corr_mat = cov_to_corr_matrix(cov_mat)\n",
    "sample_corr_mat = cov_to_corr_matrix(sample_cov_mat)"
   ]
  },
  {
   "cell_type": "code",
   "execution_count": 37,
   "id": "forty-memory",
   "metadata": {},
   "outputs": [
    {
     "data": {
      "image/png": "[encoded data removed]",
      "text/plain": [
       "<Figure size 864x864 with 2 Axes>"
      ]
     },
     "metadata": {
      "needs_background": "light"
     },
     "output_type": "display_data"
    }
   ],
   "source": [
    "\"\"\"\n",
    "Factor model\n",
    "\"\"\"\n",
    "\n",
    "fig, ax = plt.subplots(figsize=(12, 12))\n",
    "correlation_plot(corr_mat, names=asset_list, include_values=True, ax=ax)"
   ]
  },
  {
   "cell_type": "code",
   "execution_count": 38,
   "id": "stone-granny",
   "metadata": {},
   "outputs": [
    {
     "data": {
      "image/png": "[encoded data removed]",
      "text/plain": [
       "<Figure size 864x864 with 2 Axes>"
      ]
     },
     "metadata": {
      "needs_background": "light"
     },
     "output_type": "display_data"
    }
   ],
   "source": [
    "\"\"\"\n",
    "Sample covariance\n",
    "\"\"\"\n",
    "\n",
    "fig, ax = plt.subplots(figsize=(12, 12))\n",
    "correlation_plot(sample_corr_mat, names=asset_list, include_values=True, ax=ax)"
   ]
  },
  {
   "cell_type": "markdown",
   "id": "worthy-threshold",
   "metadata": {},
   "source": [
    "__Question 4__"
   ]
  },
  {
   "cell_type": "code",
   "execution_count": 39,
   "id": "rising-brief",
   "metadata": {},
   "outputs": [],
   "source": [
    "\"\"\"\n",
    "Simulate values\n",
    "\"\"\"\n",
    "mu_mkt = 0.05\n",
    "var_mkt = np.var(mkt_log_returns.values) * 12.0\n",
    "std_mkt = np.sqrt(var_mkt)\n",
    "num_sim = 100000\n",
    "sim_mkt_log_returns = np.random.normal(loc=mu_mkt, scale=std_mkt, size=num_sim)\n",
    "sim_log_returns = (sim_mkt_log_returns[:, None]  * beta_est[1, :] +  \n",
    "                   np.random.multivariate_normal(np.zeros(12), residual_cov_mat*12, size=num_sim))"
   ]
  },
  {
   "cell_type": "code",
   "execution_count": 40,
   "id": "ranging-seventh",
   "metadata": {},
   "outputs": [],
   "source": [
    "sim_gross_returns = np.exp(sim_log_returns)"
   ]
  },
  {
   "cell_type": "code",
   "execution_count": 41,
   "id": "convinced-trader",
   "metadata": {},
   "outputs": [],
   "source": [
    "sim_net_returns = sim_gross_returns - 1.0"
   ]
  },
  {
   "cell_type": "code",
   "execution_count": 42,
   "id": "separate-pendant",
   "metadata": {},
   "outputs": [],
   "source": [
    "w_eq = np.ones(12) / 12\n",
    "#w_eq = np.zeros(12)\n",
    "#w_eq[5] = 1.0\n",
    "sim_port_returns = sim_net_returns @ w_eq"
   ]
  },
  {
   "cell_type": "code",
   "execution_count": 43,
   "id": "representative-steel",
   "metadata": {},
   "outputs": [
    {
     "data": {
      "image/png": "[encoded data removed]",
      "text/plain": [
       "<Figure size 864x432 with 1 Axes>"
      ]
     },
     "metadata": {
      "needs_background": "light"
     },
     "output_type": "display_data"
    }
   ],
   "source": [
    "fig, ax = plt.subplots(figsize=(12, 6))\n",
    "ax.hist(sim_port_returns, density=True, bins=100, label=\"Portfolio\", alpha=1.0);\n",
    "ax.set_xlabel(\"Portfolio return\")\n",
    "ax.set_ylabel(\"Density\")\n",
    "ax.set_title(\"Return of equally weighted portfolio\")\n",
    "ax.xaxis.set_major_formatter(ticker.PercentFormatter(xmax=1, decimals=1));"
   ]
  },
  {
   "cell_type": "markdown",
   "id": "understanding-tribute",
   "metadata": {},
   "source": [
    "__Question 5__"
   ]
  },
  {
   "cell_type": "code",
   "execution_count": 44,
   "id": "elementary-works",
   "metadata": {},
   "outputs": [],
   "source": [
    "mean_view_bear = MeanView('eq', sim_mkt_log_returns, mu_mkt - std_mkt)\n",
    "mean_view_bull = MeanView('eq', sim_mkt_log_returns, mu_mkt + std_mkt)\n",
    "init_probs = np.ones_like(sim_mkt_log_returns) / len(sim_mkt_log_returns)\n",
    "\n",
    "view_solver = ProbabilitySolver(init_probs, [mean_view_bear])\n",
    "bear_probs = view_solver.minimize_entropy()\n",
    "\n",
    "view_solver = ProbabilitySolver(init_probs, [mean_view_bull])\n",
    "bull_probs = view_solver.minimize_entropy()"
   ]
  },
  {
   "cell_type": "code",
   "execution_count": 45,
   "id": "framed-abraham",
   "metadata": {},
   "outputs": [
    {
     "data": {
      "image/png": "[encoded data removed]",
      "text/plain": [
       "<Figure size 864x432 with 1 Axes>"
      ]
     },
     "metadata": {
      "needs_background": "light"
     },
     "output_type": "display_data"
    }
   ],
   "source": [
    "fig, ax = plt.subplots(figsize=(12, 6))\n",
    "\n",
    "ax.hist(sim_port_returns, density=True, bins=100, label=\"Portfolio (prior distribution)\", alpha=0.75);\n",
    "ax.hist(sim_port_returns, density=True, bins=100, label=\"Portfolio (posterior distribution, bear)\", alpha=0.75,\n",
    "        weights=bear_probs);\n",
    "ax.hist(sim_port_returns, density=True, bins=100, label=\"Portfolio (posterior distribution, bull)\", alpha=0.75,\n",
    "        weights=bull_probs);\n",
    "\n",
    "ax.set_xlabel(\"Portfolio return\")\n",
    "ax.set_ylabel(\"Density\")\n",
    "ax.set_title(\"Return of equally weighted portfolio\")\n",
    "ax.legend();\n",
    "ax.xaxis.set_major_formatter(ticker.PercentFormatter(xmax=1, decimals=1));"
   ]
  },
  {
   "cell_type": "markdown",
   "id": "criminal-final",
   "metadata": {},
   "source": [
    "__Question 6__\n",
    "\n",
    "\n",
    "We have from week 5 that The approach of [Rockafeller and Uryasev (2000)](https://www.ise.ufl.edu/uryasev/files/2011/11/CVaR1_JOR.pdf) can be defined by (I have replaced N with T since we have already used N) in  \n",
    "\n",
    "$$\n",
    "\\underset{\\mathbf{w}, \\alpha}{\\text{arg min }}  \\alpha + \\frac{1}{T (1 - \\beta)} \\sum_{i=1}^T \\max [0, -\\mathbf{w}^\\top \\mathbf{R}_i- \\alpha]\n",
    "$$\n",
    "\n",
    "will result in the portfolio with lowest $\\text{CVaR}_\\beta[R_p]$ given the used constraints. $\\alpha$ can be interpreted as the corresponding portfolio $\\text{VaR}_\\beta[R_p]$. \n",
    "\n",
    "To adapt the approach, we simply need to replace $1 / T$ with $\\tilde{p}_i$ that denotes the probability for the specific simulation: \n",
    "\n",
    "$$\n",
    "\\underset{\\mathbf{w}, \\alpha}{\\text{arg min }}  \\alpha + \\frac{1}{(1 - \\beta)} \\sum_{i=1}^T \\tilde{p}_i\\max [0, -\\mathbf{w}^\\top \\mathbf{R}_i- \\alpha]\n",
    "$$"
   ]
  },
  {
   "cell_type": "markdown",
   "id": "utility-location",
   "metadata": {},
   "source": [
    "__Question 7__"
   ]
  },
  {
   "cell_type": "code",
   "execution_count": 46,
   "id": "pursuant-dating",
   "metadata": {},
   "outputs": [],
   "source": [
    "\"\"\"\n",
    "Calculate mean of the different scenarios\n",
    "\"\"\"\n",
    "\n",
    "mu_bear_est = np.average(sim_net_returns, weights=bear_probs, axis=0)\n",
    "mu_neutral_est = np.average(sim_net_returns,  axis=0)\n",
    "mu_bull_est = np.average(sim_net_returns, weights=bull_probs, axis=0)"
   ]
  },
  {
   "cell_type": "code",
   "execution_count": 47,
   "id": "amazing-snapshot",
   "metadata": {},
   "outputs": [
    {
     "data": {
      "text/plain": [
       "array([-0.05191917, -0.11039917, -0.10048109, -0.07028149, -0.06787066,\n",
       "       -0.10919896, -0.08121482, -0.03846966, -0.07746149, -0.05501747,\n",
       "       -0.09099906, -0.09450087])"
      ]
     },
     "execution_count": 47,
     "metadata": {},
     "output_type": "execute_result"
    }
   ],
   "source": [
    "mu_bear_est"
   ]
  },
  {
   "cell_type": "code",
   "execution_count": 48,
   "id": "broad-integrity",
   "metadata": {},
   "outputs": [
    {
     "data": {
      "text/plain": [
       "array([0.03754216, 0.12456116, 0.08242769, 0.08291679, 0.04888727,\n",
       "       0.10383069, 0.06720303, 0.03443001, 0.05797128, 0.04264461,\n",
       "       0.07733187, 0.07274594])"
      ]
     },
     "execution_count": 48,
     "metadata": {},
     "output_type": "execute_result"
    }
   ],
   "source": [
    "mu_neutral_est"
   ]
  },
  {
   "cell_type": "code",
   "execution_count": 49,
   "id": "subsequent-implement",
   "metadata": {},
   "outputs": [
    {
     "data": {
      "text/plain": [
       "array([0.13391837, 0.42352123, 0.30242307, 0.25783202, 0.17891699,\n",
       "       0.36707289, 0.23992086, 0.11260296, 0.21271045, 0.15143962,\n",
       "       0.27653615, 0.26996855])"
      ]
     },
     "execution_count": 49,
     "metadata": {},
     "output_type": "execute_result"
    }
   ],
   "source": [
    "mu_bull_est"
   ]
  },
  {
   "cell_type": "code",
   "execution_count": 50,
   "id": "historic-little",
   "metadata": {},
   "outputs": [
    {
     "name": "stdout",
     "output_type": "stream",
     "text": [
      "Optimization terminated successfully    (Exit mode 0)\n",
      "            Current function value: 0.2388962405055019\n",
      "            Iterations: 20\n",
      "            Function evaluations: 294\n",
      "            Gradient evaluations: 20\n",
      "Optimization terminated successfully    (Exit mode 0)\n",
      "            Current function value: 0.16936157329916657\n",
      "            Iterations: 21\n",
      "            Function evaluations: 300\n",
      "            Gradient evaluations: 21\n",
      "Optimization terminated successfully    (Exit mode 0)\n",
      "            Current function value: 0.08599899428172328\n",
      "            Iterations: 21\n",
      "            Function evaluations: 298\n",
      "            Gradient evaluations: 21\n"
     ]
    }
   ],
   "source": [
    "\"\"\"\n",
    "Define objective function \n",
    "\"\"\"\n",
    "\n",
    "def objective_function(x, returns, beta, probs=None):\n",
    "\n",
    "    w = x[0:-1]\n",
    "    alpha = x[-1]\n",
    "\n",
    "    port_returns = returns @ w\n",
    "    \n",
    "    T = len(port_returns)\n",
    "\n",
    "    # tail_scenarios\n",
    "    tail_scenarios = np.maximum(-port_returns - alpha, 0.0)\n",
    "    \n",
    "    if probs is None: \n",
    "        obj_func = alpha + np.sum(tail_scenarios) / ( T * (1-beta))\n",
    "    else: \n",
    "        obj_func = alpha + (probs @ tail_scenarios) / (1-beta)\n",
    "\n",
    "    return obj_func\n",
    "\n",
    "# define common constraints \n",
    "sum_to_one_cons = {'type': 'eq',\n",
    "                   'fun' : lambda x: np.sum(x[:-1]) - 1.0}\n",
    "\n",
    "no_short_cons = {'type': 'ineq',\n",
    "                 'fun' : lambda x: x[:-1]}\n",
    "\n",
    "# alternatively use \n",
    "bounds = [(0.0, 1.0)] * 12 + [(None, None)]\n",
    "\n",
    "\n",
    "\n",
    "\n",
    "x0 = np.r_[np.ones(12) / 12.0, 0.3]\n",
    "res_bear = optimize.minimize(objective_function, x0=x0, args=(sim_net_returns, 0.95, bear_probs),\n",
    "                             method='SLSQP',\n",
    "                             constraints=[sum_to_one_cons], \n",
    "                             options={'ftol': 1e-9, 'disp': True}, bounds=bounds)\n",
    "\n",
    "res_neutral = optimize.minimize(objective_function, x0=x0, args=(sim_net_returns, 0.95, None),\n",
    "                                method='SLSQP',\n",
    "                                constraints=[sum_to_one_cons], \n",
    "                                options={'ftol': 1e-9, 'disp': True}, bounds=bounds)\n",
    "\n",
    "res_bull = optimize.minimize(objective_function, x0=x0, args=(sim_net_returns, 0.95, bull_probs),\n",
    "                             method='SLSQP',\n",
    "                             constraints=[sum_to_one_cons], \n",
    "                             options={'ftol': 1e-9, 'disp': True}, bounds=bounds)"
   ]
  },
  {
   "cell_type": "code",
   "execution_count": 51,
   "id": "declared-anxiety",
   "metadata": {},
   "outputs": [
    {
     "data": {
      "text/plain": [
       "array([4.34616251e-01, 9.66637571e-17, 1.04052683e-17, 1.11332226e-18,\n",
       "       4.89102349e-03, 4.16978943e-17, 1.51810044e-18, 3.17999986e-01,\n",
       "       6.57433446e-19, 2.42492740e-01, 3.04543331e-17, 2.52232605e-17,\n",
       "       2.06108916e-01])"
      ]
     },
     "execution_count": 51,
     "metadata": {},
     "output_type": "execute_result"
    }
   ],
   "source": [
    "res_bear.x"
   ]
  },
  {
   "cell_type": "code",
   "execution_count": 52,
   "id": "least-storage",
   "metadata": {},
   "outputs": [
    {
     "data": {
      "image/png": "[encoded data removed]",
      "text/plain": [
       "<Figure size 864x576 with 1 Axes>"
      ]
     },
     "metadata": {
      "needs_background": "light"
     },
     "output_type": "display_data"
    }
   ],
   "source": [
    "\"\"\"\n",
    "Plotting\n",
    "\"\"\"\n",
    "\n",
    "fig, ax = plt.subplots(figsize=(12, 8))\n",
    "\n",
    "ax.bar(np.arange(12) - 0.2, res_bear.x[:-1], width=0.2, label=\"Bear\")\n",
    "ax.bar(np.arange(12), res_neutral.x[:-1], width=0.2, label=\"Neutral\")\n",
    "ax.bar(np.arange(12) + 0.2, res_bull.x[:-1], width=0.2, label=\"Bull\")\n",
    "ax.legend();\n",
    "ax.yaxis.set_major_formatter(ticker.PercentFormatter(xmax=1, decimals=1));\n",
    "ax.set_ylabel(\"Allocation\")\n",
    "ax.set_ylabel(\"Minimum CVaR\")\n",
    "ax.set_ylim([0.0, 1.0])\n",
    "plt.xticks(np.arange(12), asset_list);"
   ]
  },
  {
   "cell_type": "code",
   "execution_count": 53,
   "id": "daily-territory",
   "metadata": {},
   "outputs": [
    {
     "data": {
      "text/html": [
       "<div>\n",
       "<style scoped>\n",
       "    .dataframe tbody tr th:only-of-type {\n",
       "        vertical-align: middle;\n",
       "    }\n",
       "\n",
       "    .dataframe tbody tr th {\n",
       "        vertical-align: top;\n",
       "    }\n",
       "\n",
       "    .dataframe thead th {\n",
       "        text-align: right;\n",
       "    }\n",
       "</style>\n",
       "<table border=\"1\" class=\"dataframe\">\n",
       "  <thead>\n",
       "    <tr style=\"text-align: right;\">\n",
       "      <th></th>\n",
       "      <th>0</th>\n",
       "    </tr>\n",
       "  </thead>\n",
       "  <tbody>\n",
       "    <tr>\n",
       "      <th>NoDur</th>\n",
       "      <td>0.567602</td>\n",
       "    </tr>\n",
       "    <tr>\n",
       "      <th>Durbl</th>\n",
       "      <td>1.483361</td>\n",
       "    </tr>\n",
       "    <tr>\n",
       "      <th>Manuf</th>\n",
       "      <td>1.168987</td>\n",
       "    </tr>\n",
       "    <tr>\n",
       "      <th>Enrgy</th>\n",
       "      <td>0.960242</td>\n",
       "    </tr>\n",
       "    <tr>\n",
       "      <th>Chems</th>\n",
       "      <td>0.741243</td>\n",
       "    </tr>\n",
       "    <tr>\n",
       "      <th>BusEq</th>\n",
       "      <td>1.353004</td>\n",
       "    </tr>\n",
       "    <tr>\n",
       "      <th>Telcm</th>\n",
       "      <td>0.948282</td>\n",
       "    </tr>\n",
       "    <tr>\n",
       "      <th>Utils</th>\n",
       "      <td>0.461815</td>\n",
       "    </tr>\n",
       "    <tr>\n",
       "      <th>Shops</th>\n",
       "      <td>0.864982</td>\n",
       "    </tr>\n",
       "    <tr>\n",
       "      <th>Hlth</th>\n",
       "      <td>0.622320</td>\n",
       "    </tr>\n",
       "    <tr>\n",
       "      <th>Money</th>\n",
       "      <td>1.075293</td>\n",
       "    </tr>\n",
       "    <tr>\n",
       "      <th>Other</th>\n",
       "      <td>1.070469</td>\n",
       "    </tr>\n",
       "  </tbody>\n",
       "</table>\n",
       "</div>"
      ],
      "text/plain": [
       "              0\n",
       "NoDur  0.567602\n",
       "Durbl  1.483361\n",
       "Manuf  1.168987\n",
       "Enrgy  0.960242\n",
       "Chems  0.741243\n",
       "BusEq  1.353004\n",
       "Telcm  0.948282\n",
       "Utils  0.461815\n",
       "Shops  0.864982\n",
       "Hlth   0.622320\n",
       "Money  1.075293\n",
       "Other  1.070469"
      ]
     },
     "execution_count": 53,
     "metadata": {},
     "output_type": "execute_result"
    }
   ],
   "source": [
    "pd.DataFrame(data=beta_est[1, :], index=asset_list)"
   ]
  },
  {
   "cell_type": "markdown",
   "id": "limiting-disposal",
   "metadata": {},
   "source": [
    "# References\n",
    "\n",
    "## Articles\n",
    "\n",
    "[Meucci (2008), \"The Black-Litterman Approach: Original Model and Extensions\"](https://papers.ssrn.com/sol3/papers.cfm?abstract_id=1117574)\n",
    "\n",
    "[Rockafeller and Uryasev (2000)](https://www.ise.ufl.edu/uryasev/files/2011/11/CVaR1_JOR.pdf)"
   ]
  }
 ],
 "metadata": {
  "kernelspec": {
   "display_name": "python_for_fin_econ",
   "language": "python",
   "name": "python_for_fin_econ"
  },
  "language_info": {
   "codemirror_mode": {
    "name": "ipython",
    "version": 3
   },
   "file_extension": ".py",
   "mimetype": "text/x-python",
   "name": "python",
   "nbconvert_exporter": "python",
   "pygments_lexer": "ipython3",
   "version": "3.8.6"
  }
 },
 "nbformat": 4,
 "nbformat_minor": 5
}
