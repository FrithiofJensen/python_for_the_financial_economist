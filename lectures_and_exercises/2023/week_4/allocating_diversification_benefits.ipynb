{
 "cells": [
  {
   "cell_type": "code",
   "execution_count": 1,
   "id": "personal-retention",
   "metadata": {},
   "outputs": [],
   "source": [
    "import sys\n",
    "sys.path.insert(0,'C:\\\\code\\\\python_for_the_financial_economist\\\\')\n",
    "\n",
    "\"\"\"\n",
    "Magic commands\n",
    "\"\"\"\n",
    "\n",
    "%load_ext autoreload\n",
    "%autoreload 2\n",
    "\n",
    "\"\"\"\n",
    "Load relevant packages\n",
    "\"\"\"\n",
    "\n",
    "# working with arrays\n",
    "import numpy as np\n",
    "\n",
    "# plotting functionality\n",
    "import matplotlib.pyplot as plt\n",
    "import seaborn as sns\n",
    "\n",
    "# typehints\n",
    "from typing import Tuple\n",
    "\n",
    "\"\"\"\n",
    "Own packages\n",
    "\"\"\"\n",
    "from codelib.visualization.base import risk_waterfall_chart\n",
    "\n",
    "from codelib.visualization.layout import DefaultStyle\n",
    "DefaultStyle();"
   ]
  },
  {
   "cell_type": "markdown",
   "id": "blind-trauma",
   "metadata": {},
   "source": [
    "# Allocating diversification benefits"
   ]
  },
  {
   "cell_type": "markdown",
   "id": "streaming-vertex",
   "metadata": {},
   "source": [
    "## Measuring diversification benefits\n",
    "\n",
    "Above we defined the portfolio standard deviation using matrix notation \n",
    "\n",
    "$$\n",
    "\\sigma_P(\\mathbf{w}) = \\sqrt{\\mathbf{w}^\\top \\boldsymbol{\\Sigma} \\mathbf{w}}\n",
    "$$\n",
    "\n",
    "Since portfolio standard deviation is sub-additive, then it must always hold that\n",
    "\n",
    "$$\n",
    "\\sigma_P(\\mathbf{w}) \\leq \\sum_{i=1}^N w_i \\sigma_i = \\mathbf{w}^\\top \\mathbf{v}\n",
    "$$\n",
    "\n",
    "where $\\mathbf{v}$ is a vector of volatilities. We can define the diversification benefit directly as the difference between the weighted sum of the individual volatilities and the portfolio volatility \n",
    "\n",
    "$$\n",
    "\\text{Div}_{B} = \\mathbf{w}^\\top \\mathbf{v} - \\sqrt{\\mathbf{w}^\\top \\boldsymbol{\\Sigma} \\mathbf{w}}\n",
    "$$\n",
    "\n",
    "or normalized by the weighted sum of the individual volatilities\n",
    "\n",
    "$$\n",
    "\\text{Div}_{RB} = \\frac{\\mathbf{w}^\\top \\mathbf{v} - \\sqrt{\\mathbf{w}^\\top \\boldsymbol{\\Sigma} \\mathbf{w}}}{\\mathbf{w}^\\top \\mathbf{v}}\n",
    "$$\n",
    "\n",
    "### Example: Diversification benefit from investing in stocks and bonds\n",
    "\n",
    "Consider a two asset example with stocks (S) and bonds (B). Stocks are defined by $\\mu_S = 0.04, \\sigma_S = 0.15$ and bonds are defined by $\\mu_B = 0.01, \\sigma_B = 0.075$. The correlation between stocks and bonds is $\\rho _{S,B} = 0.2$. \n",
    "\n",
    "What is the diversification benefits with an equal allocation to stocks and bonds?"
   ]
  },
  {
   "cell_type": "code",
   "execution_count": 2,
   "id": "optical-mortality",
   "metadata": {},
   "outputs": [
    {
     "name": "stdout",
     "output_type": "stream",
     "text": [
      "The diversification benefit is equal to -2.22%\n"
     ]
    }
   ],
   "source": [
    "\"\"\"\n",
    "Define relevant information \n",
    "\"\"\"\n",
    "\n",
    "w_eq = np.array([0.5, 0.5])\n",
    "\n",
    "sigma_s = 0.15\n",
    "sigma_b = 0.075\n",
    "rho = 0.2\n",
    "\n",
    "vols = np.array([sigma_s, sigma_b])\n",
    "corr_mat = np.array([[1.0, rho], [rho, 1.0]])\n",
    "cov_mat = np.outer(vols, vols) * corr_mat\n",
    "\n",
    "\"\"\"\n",
    "Define a function that calculates portfolio standard deviation\n",
    "\"\"\"\n",
    "\n",
    "def portfolio_std(weights: np.ndarray, cov_matrix: np.ndarray) -> float:\n",
    "    \n",
    "    \"\"\"\n",
    "    Function that returns the standard deviation of the portfolio\n",
    "    \n",
    "    Parameters\n",
    "    ----------\n",
    "    weights: \n",
    "        Portfolio weights\n",
    "    cov_matrix: \n",
    "        Covariance matrix\n",
    "    \n",
    "    Returns\n",
    "    -------\n",
    "    float\n",
    "        Standard deviation of portfolio\n",
    "    \"\"\"\n",
    "    \n",
    "    return np.sqrt(weights @ cov_matrix @ weights)\n",
    "\n",
    "\"\"\"\n",
    "Calculate diversification benefit\n",
    "\"\"\"\n",
    "total_port_risk = portfolio_std(w_eq, cov_mat)\n",
    "div_benefit = total_port_risk - w_eq @ vols\n",
    "\n",
    "print('The diversification benefit is equal to {:.2f}%'.format(div_benefit * 100))"
   ]
  },
  {
   "cell_type": "code",
   "execution_count": 3,
   "id": "indian-subject",
   "metadata": {},
   "outputs": [
    {
     "data": {
      "image/png": "[encoded data removed]",
      "text/plain": [
       "<Figure size 432x288 with 1 Axes>"
      ]
     },
     "metadata": {
      "needs_background": "light"
     },
     "output_type": "display_data"
    }
   ],
   "source": [
    "\"\"\"\n",
    "Plot a waterfall chart with risk decomposition \n",
    "\"\"\"\n",
    "\n",
    "risk_waterfall_chart(vols * w_eq * 100, total_port_risk*100, names=[\"Stocks\", \"Bonds\"],\n",
    "                     formatting='{:,.1f}%', total_risk_label=\"Total risk (std)\", diversification_label=\"Diversification\");\n"
   ]
  },
  {
   "cell_type": "markdown",
   "id": "sublime-popularity",
   "metadata": {},
   "source": [
    "## How to allocate diversification benefits\n",
    "\n",
    "We have just looked at how to calculate the diversification benefit, but how can the diversification benefit be allocated between the different asset classes? We want to know what the risk contribution of a particular asset is when taking the diversification into account. Several methods have been proposed, but we will only present the most commonly used. \n",
    "\n",
    "Since standard deviation satisfies the positiv homogeneity assumption, i.e. standard deviation is homogeneous of degree one, then it follows from the [Euler's homogeneous function theorem](https://en.wikipedia.org/wiki/Homogeneous_function) that (see e.g. [Bruder and Roncalli (2012)](https://papers.ssrn.com/sol3/papers.cfm?abstract_id=2009778))\n",
    "\n",
    "$$\n",
    "\\sigma_P(\\mathbf{w}) = \\mathbf{w}^\\top \\nabla \\sigma_P(\\mathbf{w}) = \\sum_{i=1}^N w_i \\frac{\\partial \\sigma_P(\\mathbf{w}) }{\\partial w_i}\n",
    "$$\n",
    "\n",
    "The portfolio standard deviation (and true risk measures that satisfy the positive homogeneity requirement) can be written as the sum of the product of the exposure, $w_i$, by its marginal risk, $\\frac{\\partial }{\\partial w_i}\\sigma_P(\\mathbf{w})$. We therefore define the risk contribution of asset $i$ as\n",
    " \n",
    "$$\n",
    "\\text{RC}_i(\\mathbf{w}) = w_i \\frac{\\partial \\sigma_P(\\mathbf{w}) }{\\partial w_i}\n",
    "$$\n",
    "\n",
    "Using the chain rule and [matrix calculus](https://en.wikipedia.org/wiki/Matrix_calculus), the gradient is given by\n",
    "\n",
    "$$\n",
    "\\nabla \\sigma_P(\\mathbf{w}) = \\frac{d \\sigma_P(\\mathbf{w}) }{d \\mathbf{w}^\\top \\boldsymbol{\\Sigma} \\mathbf{w}}\\frac{\\partial \\mathbf{w}^\\top \\boldsymbol{\\Sigma} \\mathbf{w}}{\\partial \\mathbf{w}} = \\frac{1}{2\\sqrt{\\mathbf{w}^\\top \\boldsymbol{\\Sigma} \\mathbf{w}}} 2 \\boldsymbol{\\Sigma} \\mathbf{w} = \\frac{\\boldsymbol{\\Sigma} \\mathbf{w} }{\\sqrt{\\mathbf{w}^\\top \\boldsymbol{\\Sigma} \\mathbf{w}}}\n",
    "$$\n",
    "\n",
    "Hence, we have that \n",
    "\n",
    "$$\n",
    "\\sigma_P(\\mathbf{w}) = \\mathbf{w}^\\top \\frac{\\boldsymbol{\\Sigma} \\mathbf{w} }{\\sqrt{\\mathbf{w}^\\top \\boldsymbol{\\Sigma} \\mathbf{w}}} = \\sum_{i=1}^N w_i \\frac{(\\boldsymbol{\\Sigma} \\mathbf{w})_i }{\\sqrt{\\mathbf{w}^\\top \\boldsymbol{\\Sigma} \\mathbf{w}}}\n",
    "$$\n",
    "\n",
    "### Example \n",
    "\n",
    "Consider a two asset example from above. What is the risk contribution of stocks and bonds respectivly?\n",
    "\n"
   ]
  },
  {
   "cell_type": "code",
   "execution_count": 4,
   "id": "greek-assignment",
   "metadata": {},
   "outputs": [
    {
     "name": "stdout",
     "output_type": "stream",
     "text": [
      "Risk contribution:\n",
      "Stocks: 6.85%'\n",
      "Bonds: 2.18%'\n"
     ]
    }
   ],
   "source": [
    "def calculate_marginal_risks(weights: np.ndarray, cov_matrix: np.ndarray) -> np.ndarray:\n",
    "    \n",
    "    \"\"\"\n",
    "    Function that calculates marginal risk\n",
    "    Parameters\n",
    "    ----------\n",
    "    weights: \n",
    "        Portfolio weights\n",
    "    cov_matrix: \n",
    "        Covariance matrix\n",
    "    \n",
    "    Returns\n",
    "    -------\n",
    "    np.ndarray\n",
    "        Marginal risks\n",
    "    \"\"\"\n",
    "    \n",
    "    total_risk = np.sqrt(weights @ cov_matrix @ weights)\n",
    "    inner_derivative = cov_matrix @ weights\n",
    "    \n",
    "    return inner_derivative / total_risk\n",
    "\n",
    "def calculate_risk_contributions(weights: np.ndarray, cov_matrix: np.ndarray) -> np.ndarray:\n",
    "    \n",
    "    \"\"\"\n",
    "    Function that calculates risk contributions\n",
    "    \n",
    "    Parameters\n",
    "    ----------\n",
    "    weights: \n",
    "        Portfolio weights\n",
    "    cov_matrix: \n",
    "        Covariance matrix\n",
    "    \n",
    "    Returns\n",
    "    -------\n",
    "    np.ndarray\n",
    "        Marginal risks\n",
    "    \"\"\"\n",
    "    \n",
    "    mr = calculate_marginal_risks(weights, cov_matrix)\n",
    "    \n",
    "    return weights * mr\n",
    "\n",
    "risk_contrib = calculate_risk_contributions(w_eq, cov_mat)\n",
    "print(\"Risk contribution:\")\n",
    "print(\"Stocks: {:.2f}%'\".format(risk_contrib[0] * 100))\n",
    "print(\"Bonds: {:.2f}%'\".format(risk_contrib[1] * 100))"
   ]
  },
  {
   "cell_type": "markdown",
   "id": "western-summary",
   "metadata": {},
   "source": [
    "## Equal risk contribution \n",
    "\n",
    "There is a large literature on *risk parity investing* where the focus is on allocating risk instead of capital, e.g. we want an equal amount of risk coming from bonds and stocks. We will talk more about this later in the course, but we will give a very brief introduction. The problem that we want to solve is \n",
    "\n",
    "$$\n",
    "w_i \\frac{(\\boldsymbol{\\Sigma} \\mathbf{w})_i }{\\sqrt{\\mathbf{w}^\\top \\boldsymbol{\\Sigma} \\mathbf{w}}} = b_i \\sqrt{\\mathbf{w}^\\top \\boldsymbol{\\Sigma} \\mathbf{w}}\n",
    "$$\n",
    "\n",
    "where $b_i$ is the risk coming from the $i$'th asset. In addition, we would likely impose positivity contraints $b_i \\geq 0, w_i \\geq 0$, weights summing to one $\\sum_{i=1}^N w_i = 1$, and $\\sum_{i=1}^N b_i = 1$. \n",
    "\n",
    "Generally, we need numerical methods for solving the problem when dealing with more than two assets (more about this later in the course). However, [Bruder and Roncalli (2012), \"Managing Risk Exposures using\n",
    "the Risk Budgeting Approach\"](https://papers.ssrn.com/sol3/papers.cfm?abstract_id=2009778) present an exact solution for the two asset case. \n",
    "\n",
    "### Example \n",
    "\n",
    "Consider a two asset example from above. What are the portfolio weights that result in equal risk contribution?"
   ]
  },
  {
   "cell_type": "code",
   "execution_count": 5,
   "id": "actual-naples",
   "metadata": {},
   "outputs": [
    {
     "name": "stdout",
     "output_type": "stream",
     "text": [
      "Port. weights:\n",
      "Stocks: 33.33%'\n",
      "Bonds: 66.67%'\n",
      "\n",
      "The diversification benefit is equal to -2.25%\n"
     ]
    },
    {
     "data": {
      "image/png": "[encoded data removed]",
      "text/plain": [
       "<Figure size 432x288 with 1 Axes>"
      ]
     },
     "metadata": {
      "needs_background": "light"
     },
     "output_type": "display_data"
    }
   ],
   "source": [
    "\"\"\"\n",
    "Implement the solution from Bruder and Roncalli (2012)\n",
    "\"\"\"\n",
    "\n",
    "def weights_risk_budget(sigma1: float, sigma2: float, rho: float, b: float) -> Tuple[float, float]:\n",
    "    \n",
    "    \"\"\"\n",
    "    Function that calculates the portfolio weights that result in equal risk contribution. Two asset case. \n",
    "    \n",
    "    Parameters\n",
    "    ----------\n",
    "    sigma1: \n",
    "        Std. of asset 1\n",
    "    sigma2: \n",
    "        Std. of asset 2\n",
    "    rho: \n",
    "        Correlation between asset 1 and asset 2\n",
    "    b: \n",
    "        Risk contribution from asset 1\n",
    "    \n",
    "    Returns\n",
    "    -------\n",
    "    np.ndarray\n",
    "       Optimal weigths. \n",
    "    \n",
    "    \"\"\"\n",
    "    \n",
    "    num = (b - 0.5)*rho*sigma1*sigma2 - b*sigma2**2 + sigma1*sigma2*np.sqrt((b-0.5)**2*rho**2 + b*(1-b))\n",
    "    den = (1-b)*sigma1**2 - b*sigma2**2 + 2*(b-0.5)*rho*sigma1*sigma2\n",
    "    \n",
    "    w_opt = num / den \n",
    "    \n",
    "    return w_opt, 1 - w_opt\n",
    "\n",
    "\n",
    "w_eq_risk = weights_risk_budget(sigma_s, sigma_b, rho, 0.5)\n",
    "\n",
    "print(\"Port. weights:\")\n",
    "print(\"Stocks: {:.2f}%'\".format(w_eq_risk[0] * 100))\n",
    "print(\"Bonds: {:.2f}%'\".format(w_eq_risk[1] * 100))\n",
    "\n",
    "\"\"\"\n",
    "Calculate total risk and div. benefit\n",
    "\"\"\"\n",
    "\n",
    "total_port_risk = portfolio_std(w_eq_risk, cov_mat)\n",
    "div_benefit = total_port_risk - w_eq_risk @ vols\n",
    "\n",
    "print('\\nThe diversification benefit is equal to {:.2f}%'.format(div_benefit * 100))\n",
    "\n",
    "\"\"\"\n",
    "Plot a waterfall chart with risk decomposition \n",
    "\"\"\"\n",
    "\n",
    "risk_waterfall_chart(vols * w_eq_risk * 100, total_port_risk * 100, names=[\"Stocks\", \"Bonds\"],\n",
    "                     formatting='{:,.1f}%', total_risk_label=\"Total risk (std)\", diversification_label=\"Diversification\");"
   ]
  },
  {
   "cell_type": "markdown",
   "id": "hourly-passion",
   "metadata": {},
   "source": [
    "# References\n",
    "\n",
    "## Articles\n",
    "[Artzner et al (1999), \"Coherent Measures of Risks\"](https://onlinelibrary.wiley.com/doi/abs/10.1111/1467-9965.00068)\n",
    "\n",
    "[Bruder and Roncalli (2012), \"Managing Risk Exposures using\n",
    "the Risk Budgeting Approach\"](https://papers.ssrn.com/sol3/papers.cfm?abstract_id=2009778)\n",
    "\n",
    "## Books\n",
    "\n",
    "[Attilio Meucci, \"Risk and Asset Allocation\"](https://www.amazon.com/Risk-Asset-Allocation-Springer-Finance/dp/3642009646)"
   ]
  }
 ],
 "metadata": {
  "kernelspec": {
   "display_name": "python_for_fin_econ",
   "language": "python",
   "name": "python_for_fin_econ"
  },
  "language_info": {
   "codemirror_mode": {
    "name": "ipython",
    "version": 3
   },
   "file_extension": ".py",
   "mimetype": "text/x-python",
   "name": "python",
   "nbconvert_exporter": "python",
   "pygments_lexer": "ipython3",
   "version": "3.8.6"
  }
 },
 "nbformat": 4,
 "nbformat_minor": 5
}
