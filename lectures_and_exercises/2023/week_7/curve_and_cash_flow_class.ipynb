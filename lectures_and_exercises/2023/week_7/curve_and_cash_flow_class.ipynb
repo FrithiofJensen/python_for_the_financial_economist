{
 "cells": [
  {
   "cell_type": "code",
   "execution_count": 1,
   "id": "personal-retention",
   "metadata": {},
   "outputs": [],
   "source": [
    "import sys\n",
    "sys.path.insert(0,'C:\\\\code\\\\python_for_the_financial_economist\\\\')\n",
    "\n",
    "\"\"\"\n",
    "Magic commands\n",
    "\"\"\"\n",
    "\n",
    "%load_ext autoreload\n",
    "%autoreload 2\n",
    "\n",
    "# animations, etc. requires below magic command\n",
    "# %matplotlib notebook\n",
    "\n",
    "\n",
    "\"\"\"\n",
    "Load relevant packages\n",
    "\"\"\"\n",
    "\n",
    "import numpy as np\n",
    "\n",
    "import matplotlib.pyplot as plt\n",
    "from matplotlib.patches import Polygon\n",
    "from matplotlib import animation, cm\n",
    "\n",
    "from scipy import stats\n",
    "from scipy import optimize\n",
    "from scipy.optimize import minimize\n",
    "from functools import reduce\n",
    "\n",
    "\n",
    "import autograd\n",
    "from statsmodels.tools.numdiff import approx_fprime, approx_hess\n",
    "\n",
    "from typing import Union, List\n",
    "\n",
    "\"\"\"\n",
    "Own packages\n",
    "\"\"\"\n",
    "from codelib.dal.fred_yield_data import get_nominal_yield_data\n",
    "from codelib.fixed_income.curves.nelson_siegel_curve import NelsonSiegelCurve\n",
    "from codelib.fixed_income.curves.constant_curve import ConstantCurve\n",
    "from codelib.fixed_income.cash_flows import CashFlow\n",
    "\n",
    "from codelib.visualization.layout import DefaultStyle\n",
    "DefaultStyle();"
   ]
  },
  {
   "cell_type": "markdown",
   "id": "democratic-compensation",
   "metadata": {},
   "source": [
    "# Implementing curve and cash flow classes\n",
    "\n",
    "In this lecture note, we will define a discount curve class and cash flow class that enables us to utilize the power of object oriented programming. \n",
    "\n",
    "Please take the DataCamp course [Object Oriented Programming in Python](https://app.datacamp.com/learn/courses/object-oriented-programming-in-python) before starting reading this notebook. \n",
    "\n",
    "\n",
    "## Implementing a discount curve\n",
    "\n",
    "In the lecture note `extracting_yield_curves.ipynb`, we implement different yield curves. One example was the often used parameterization of the term structure of interest by [Nelson and Siegel (1987)](https://www.jstor.org/stable/2352957). They specified the following parameterization of the instantaneous forward rate\n",
    "\n",
    "$$\n",
    "f(\\tau) = \\beta_0 + \\beta_1 e^{-\\tau / \\theta} + \\beta_2 \\frac{\\tau}{\\theta} e^{-\\tau / \\theta} \n",
    "$$\n",
    "\n",
    "From newly gained knowledge, we know that the continuous zero coupon yield can be written as\n",
    "\n",
    "$$\n",
    "y(\\tau) = \\frac{1}{\\tau} \\intop_{0}^\\tau f(u)  du = \\beta_0 + \\beta_1 \\frac{1 - e^{-\\tau / \\theta}}{\\tau / \\theta} + \\beta_2 \\left(\\frac{1 - e^{-\\tau / \\theta}}{\\tau / \\theta} - e^{-\\tau / \\theta} \\right)\n",
    "$$\n",
    "\n",
    "One possibility would be to follow the same steps as in the previous lecture note, i.e. defining different functions responsible for each step in the calibration / estimation of the term structure model. Another possibility would be to define a class that represents a yield curve and  contains the methods necessary for calibrating the model.\n",
    "\n",
    "When defining different curves, we will create a \"generic\" curve (abstract class) which contains the methods that we will require all different yield curves to implement. See `codelib.fixed_income.curves.curve_interface`  in the course repository.\n",
    "\n",
    "Next, we will define a particular implementation of a yield curve namely the Nelson-Siegel curve. See `codelib.fixed_income.curves.nelson_siegel_curve`  in the course repository.\n",
    "\n",
    "__Example: Nelson-Siegel__\n"
   ]
  },
  {
   "cell_type": "code",
   "execution_count": 2,
   "id": "compact-class",
   "metadata": {},
   "outputs": [
    {
     "data": {
      "text/plain": [
       "BETA0     10.422117\n",
       "BETA1      2.257780\n",
       "BETA2     -4.595086\n",
       "BETA3      0.000000\n",
       "TAU1       2.197646\n",
       "TAU2    -999.990000\n",
       "Name: 1979-12-31 00:00:00, dtype: float64"
      ]
     },
     "execution_count": 2,
     "metadata": {},
     "output_type": "execute_result"
    }
   ],
   "source": [
    "\"\"\"\n",
    "Get Nelson-Siegel parameters\n",
    "\"\"\"\n",
    "\n",
    "all_ns_parameters = get_nominal_yield_data(output_type='parameters')\n",
    "ns_parameters = all_ns_parameters.loc['1979-12-31']\n",
    "ns_parameters"
   ]
  },
  {
   "cell_type": "code",
   "execution_count": 3,
   "id": "varied-utilization",
   "metadata": {},
   "outputs": [],
   "source": [
    "\"\"\"\n",
    "Get Nelson-Siegel yields\n",
    "\"\"\"\n",
    "\n",
    "all_ns_yields = get_nominal_yield_data(output_type='zero_yields')\n",
    "ns_yields = all_ns_yields.loc['1979-12-31'].values\n",
    "ns_tenors = np.arange(1.0, 31.0, 1.0)"
   ]
  },
  {
   "cell_type": "code",
   "execution_count": 4,
   "id": "sensitive-million",
   "metadata": {},
   "outputs": [
    {
     "data": {
      "text/plain": [
       "SVENY01    11.4596\n",
       "SVENY02    10.7371\n",
       "SVENY03    10.3205\n",
       "SVENY04    10.0904\n",
       "SVENY05     9.9727\n",
       "SVENY06     9.9215\n",
       "SVENY07     9.9088\n",
       "SVENY08     9.9175\n",
       "SVENY09     9.9374\n",
       "SVENY10     9.9624\n",
       "SVENY11     9.9891\n",
       "SVENY12    10.0154\n",
       "SVENY13    10.0405\n",
       "SVENY14    10.0637\n",
       "SVENY15    10.0850\n",
       "SVENY16        NaN\n",
       "SVENY17        NaN\n",
       "SVENY18        NaN\n",
       "SVENY19        NaN\n",
       "SVENY20        NaN\n",
       "SVENY21        NaN\n",
       "SVENY22        NaN\n",
       "SVENY23        NaN\n",
       "SVENY24        NaN\n",
       "SVENY25        NaN\n",
       "SVENY26        NaN\n",
       "SVENY27        NaN\n",
       "SVENY28        NaN\n",
       "SVENY29        NaN\n",
       "SVENY30        NaN\n",
       "Name: 1979-12-31 00:00:00, dtype: float64"
      ]
     },
     "execution_count": 4,
     "metadata": {},
     "output_type": "execute_result"
    }
   ],
   "source": [
    "all_ns_yields.loc['1979-12-31']"
   ]
  },
  {
   "cell_type": "code",
   "execution_count": 5,
   "id": "global-schema",
   "metadata": {},
   "outputs": [],
   "source": [
    "\"\"\"\n",
    "Create Nelson-Siegel curve\n",
    "\"\"\"\n",
    "\n",
    "ns_curve = NelsonSiegelCurve(theta=ns_parameters['TAU1'],\n",
    "                             beta0=ns_parameters['BETA0'],\n",
    "                             beta1=ns_parameters['BETA1'],\n",
    "                             beta2=ns_parameters['BETA2'])"
   ]
  },
  {
   "cell_type": "code",
   "execution_count": 6,
   "id": "roman-burton",
   "metadata": {},
   "outputs": [
    {
     "data": {
      "image/png": "[encoded data removed]",
      "text/plain": [
       "<Figure size 864x576 with 1 Axes>"
      ]
     },
     "metadata": {
      "needs_background": "light"
     },
     "output_type": "display_data"
    }
   ],
   "source": [
    "\"\"\"\n",
    "Plot \n",
    "\"\"\"\n",
    "\n",
    "fig, ax = plt.subplots(figsize=(12, 8))\n",
    "plt.plot(ns_tenors, ns_curve.zero_rate_vector(ns_tenors), color=\"blue\")\n",
    "plt.scatter(ns_tenors, ns_yields, color=\"red\", zorder=10)\n",
    "ax.set_xlabel('Tenor');\n",
    "ax.set_ylabel('Zero yields (cont.)');"
   ]
  },
  {
   "cell_type": "code",
   "execution_count": 7,
   "id": "artistic-intake",
   "metadata": {},
   "outputs": [
    {
     "data": {
      "text/plain": [
       "{'theta': 2.1974560546875006,\n",
       " 'beta0': 0.1042201244547117,\n",
       " 'beta1': 0.0225800341280068,\n",
       " 'beta2': -0.04594900065161337}"
      ]
     },
     "execution_count": 7,
     "metadata": {},
     "output_type": "execute_result"
    }
   ],
   "source": [
    "\"\"\"\n",
    "Can we back out the correct parameters?\n",
    "\"\"\"\n",
    "\n",
    "input_zero_rates = all_ns_yields.loc['1979-12-31'].dropna().values / 100.0\n",
    "input_tenors = np.arange(1.0, 15.01, 1.0)\n",
    "market_prices = np.exp(-input_tenors * input_zero_rates)\n",
    "cash_flow_matrix = np.eye(15)\n",
    "\n",
    "\n",
    "ns_curve_est = NelsonSiegelCurve.create_from_cash_flow_matrix(payments_dates=input_tenors, \n",
    "                                                              cash_flow_matrix=cash_flow_matrix,\n",
    "                                                              market_prices=market_prices,\n",
    "                                                              grid=slice(0.01, 25.0))\n",
    "\n",
    "# Note: Betas scaled with 100\n",
    "ns_curve_est.get_coefficients()"
   ]
  },
  {
   "cell_type": "markdown",
   "id": "attended-ceramic",
   "metadata": {},
   "source": [
    "## Implementing a cash flow class\n",
    "\n",
    "Working with cash flows is at the heart of fixed income modelling! To find the price of a bond we need to discount its cash flows with appropriate discount rate. See `codelib.fixed_income.cash_flows` for an implementation of a cash flow object (it is assumed that we are working purely with continuous discounting). \n",
    "\n",
    "__Example: Working with cash flow__"
   ]
  },
  {
   "cell_type": "code",
   "execution_count": 8,
   "id": "funky-criminal",
   "metadata": {},
   "outputs": [
    {
     "data": {
      "text/plain": [
       "array([0.02, 0.02, 0.02, 0.02, 0.02, 0.02, 0.02, 0.02, 0.02, 0.02])"
      ]
     },
     "execution_count": 8,
     "metadata": {},
     "output_type": "execute_result"
    }
   ],
   "source": [
    "\"\"\"\n",
    "Create a constant zero yield curve\n",
    "\"\"\"\n",
    "\n",
    "constant_curve = ConstantCurve(rate = 0.02)\n",
    "constant_curve.zero_rate_vector(np.arange(1.0, 11.0, 1.0))"
   ]
  },
  {
   "cell_type": "code",
   "execution_count": 9,
   "id": "better-locking",
   "metadata": {},
   "outputs": [
    {
     "data": {
      "text/plain": [
       "126.73872448798494"
      ]
     },
     "execution_count": 9,
     "metadata": {},
     "output_type": "execute_result"
    }
   ],
   "source": [
    "\"\"\"\n",
    "Create a cash flow and calculate present value using CashFlow class\n",
    "\"\"\"\n",
    "\n",
    "time_points = np.arange(1.0, 10.0 + 1.0, 1.0)\n",
    "flows = np.ones_like(time_points) * 5 \n",
    "flows[-1] += 100\n",
    "\n",
    "cash_flow = CashFlow(time_points=time_points, flows=flows)\n",
    "pv = cash_flow.present_value(curve=constant_curve)\n",
    "pv"
   ]
  },
  {
   "cell_type": "code",
   "execution_count": 10,
   "id": "unnecessary-clear",
   "metadata": {},
   "outputs": [
    {
     "data": {
      "text/plain": [
       "8.348624112792544"
      ]
     },
     "execution_count": 10,
     "metadata": {},
     "output_type": "execute_result"
    }
   ],
   "source": [
    "\"\"\"\n",
    "Duration\n",
    "\"\"\"\n",
    "\n",
    "duration = cash_flow.fisher_weil_duration(curve=constant_curve)\n",
    "duration"
   ]
  },
  {
   "cell_type": "code",
   "execution_count": 11,
   "id": "limiting-coverage",
   "metadata": {},
   "outputs": [
    {
     "data": {
      "text/plain": [
       "0.1058093971284962"
      ]
     },
     "execution_count": 11,
     "metadata": {},
     "output_type": "execute_result"
    }
   ],
   "source": [
    "\"\"\"\n",
    "We can approximate price change from a 1 bps rate change as \n",
    "\"\"\"\n",
    "\n",
    "duration * pv * 0.0001"
   ]
  },
  {
   "cell_type": "code",
   "execution_count": 12,
   "id": "devoted-metallic",
   "metadata": {},
   "outputs": [
    {
     "data": {
      "text/plain": [
       "126.63296424374133"
      ]
     },
     "execution_count": 12,
     "metadata": {},
     "output_type": "execute_result"
    }
   ],
   "source": [
    "\"\"\"\n",
    "The exact price change\n",
    "\"\"\"\n",
    "\n",
    "constant_curve_new = ConstantCurve(rate = 0.0201)\n",
    "pv_new = cash_flow.present_value(curve=constant_curve_new)\n",
    "pv_new"
   ]
  },
  {
   "cell_type": "code",
   "execution_count": 13,
   "id": "measured-hearts",
   "metadata": {},
   "outputs": [
    {
     "data": {
      "text/plain": [
       "0.10576024424361208"
      ]
     },
     "execution_count": 13,
     "metadata": {},
     "output_type": "execute_result"
    }
   ],
   "source": [
    "pv - pv_new"
   ]
  },
  {
   "cell_type": "code",
   "execution_count": 14,
   "id": "complimentary-montgomery",
   "metadata": {},
   "outputs": [
    {
     "data": {
      "text/plain": [
       "77.59058655943717"
      ]
     },
     "execution_count": 14,
     "metadata": {},
     "output_type": "execute_result"
    }
   ],
   "source": [
    "\"\"\"\n",
    "Convexity\n",
    "\"\"\"\n",
    "\n",
    "convexity = cash_flow.fisher_weil_convexity(curve=constant_curve)\n",
    "convexity"
   ]
  },
  {
   "cell_type": "markdown",
   "id": "hourly-passion",
   "metadata": {},
   "source": [
    "# References\n",
    "\n",
    "## Articles\n",
    "\n",
    "[McCulloch (1975)](https://www.jstor.org/stable/2326860)\n",
    "\n",
    "[Svensson (1994)](https://www.nber.org/papers/w4871)\n",
    "\n",
    "[Nelson and Siegel (1987)](https://www.jstor.org/stable/2352957)\n",
    "\n",
    "## Books\n",
    "\n",
    "[Claus Munk (2013), \"Fixed income modelling\"](https://www.amazon.co.uk/Fixed-Income-Modelling-Claus-Munk/dp/0198716443)\n"
   ]
  }
 ],
 "metadata": {
  "kernelspec": {
   "display_name": "python_for_fin_econ",
   "language": "python",
   "name": "python_for_fin_econ"
  },
  "language_info": {
   "codemirror_mode": {
    "name": "ipython",
    "version": 3
   },
   "file_extension": ".py",
   "mimetype": "text/x-python",
   "name": "python",
   "nbconvert_exporter": "python",
   "pygments_lexer": "ipython3",
   "version": "3.8.6"
  }
 },
 "nbformat": 4,
 "nbformat_minor": 5
}
