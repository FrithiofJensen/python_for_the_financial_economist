{
 "cells": [
  {
   "cell_type": "markdown",
   "id": "5729489a",
   "metadata": {},
   "source": [
    "# Minimum-Variance portofolio\n",
    "\n",
    "Assume that an investor can create a portfolio by allocating to three assets _A_, _B_ and _C_ with the following correlation matrix $\\boldsymbol{C}$, vector of volatilities $\\boldsymbol{v}$, and expected return vector $\\boldsymbol{\\mu}$\n",
    "\n",
    "$$\n",
    "\\boldsymbol{C} = \\begin{pmatrix} 1.0 & 0.2 & 0.15 \\\\\n",
    "0.2 & 1.0 & 0.4 \\\\\n",
    "0.15 & 0.4 & 1.0\\end{pmatrix}\n",
    "$$\n",
    "\n",
    "and \n",
    "\n",
    "$$\n",
    "\\boldsymbol{v} = \\begin{pmatrix} 0.1 \\\\ 0.15 \\\\ 0.2 \\end{pmatrix}\n",
    "$$\n",
    "\n",
    "\n",
    "and \n",
    "\n",
    "$$\n",
    "\\boldsymbol{\\mu} = \\begin{pmatrix} 0.04 \\\\ 0.06 \\\\ 0.08 \\end{pmatrix}\n",
    "$$"
   ]
  },
  {
   "cell_type": "code",
   "execution_count": 40,
   "id": "c0c4e99c",
   "metadata": {},
   "outputs": [],
   "source": [
    "# we only need the numpy package\n",
    "import numpy as np"
   ]
  },
  {
   "cell_type": "markdown",
   "id": "02be4b61-e56d-4812-a881-9777be678cd5",
   "metadata": {},
   "source": [
    "## Problem 1\n",
    "\n",
    "Define the correlation matrix, covariance matrix and the vector of expected returns as `numpy` arrays\n",
    "\n",
    "### Solution"
   ]
  },
  {
   "cell_type": "code",
   "execution_count": 41,
   "id": "a2f5ac4e-a161-4364-b8db-fb74444d222c",
   "metadata": {},
   "outputs": [],
   "source": [
    "# define the correlation matrix\n",
    "corr_mat = np.array([[1.0, 0.2, 0.15], \n",
    "                     [0.2, 1.0, 0.4], \n",
    "                     [0.15, 0.4, 1.0]])\n",
    "\n",
    "# define the vector of volatilities\n",
    "vols = np.array([0.1, 0.15, 0.2])\n",
    "\n",
    "# calculate the covariance matrix\n",
    "cov_mat = np.diag(vols) @ corr_mat @ np.diag(vols)\n",
    "\n",
    "# define the vector of expected returns \n",
    "mu = np.array([0.04, 0.06, 0.08])"
   ]
  },
  {
   "cell_type": "markdown",
   "id": "36c22e64-11f8-4c26-92aa-e536a2aeec25",
   "metadata": {},
   "source": [
    "## Problem 2\n",
    "\n",
    "Check if the covariance matrix is postive definite. \n",
    "\n",
    "### Solution\n",
    "\n",
    "We could simply check if the eigenvalues of the covariance matrix are all positive. "
   ]
  },
  {
   "cell_type": "code",
   "execution_count": 42,
   "id": "6da3fa16",
   "metadata": {},
   "outputs": [],
   "source": [
    "eig_vals, _ = np.linalg.eigh(cov_mat)"
   ]
  },
  {
   "cell_type": "code",
   "execution_count": 43,
   "id": "3df4c504",
   "metadata": {},
   "outputs": [
    {
     "data": {
      "text/plain": [
       "array([0.00931378, 0.01663894, 0.04654728])"
      ]
     },
     "execution_count": 43,
     "metadata": {},
     "output_type": "execute_result"
    }
   ],
   "source": [
    "# all eigenvalues are positive!\n",
    "eig_vals"
   ]
  },
  {
   "cell_type": "markdown",
   "id": "df65b9f7-d8e9-4887-a0fe-3ea6deb66d26",
   "metadata": {},
   "source": [
    "## Problem 3\n",
    "\n",
    "Consider an equally weighted portfolio $w_A = w_B = w_C = 1/3$. What is the formula for the portfolio variance using matrix notation? Calculate the portfolio standard devation for the equally weighted portfolio. Also calculate the expected return for the portfolio. \n",
    "\n",
    "### Solution\n",
    "\n",
    "The portfolio variance is given by the formula \n",
    "\n",
    "$$\n",
    "\\sigma_p^2 = \\mathbf{w}^\\top \\boldsymbol{\\Sigma} \\mathbf{w}\n",
    "$$"
   ]
  },
  {
   "cell_type": "code",
   "execution_count": 44,
   "id": "c193db6f-771e-4581-8771-317b89dfa275",
   "metadata": {},
   "outputs": [
    {
     "data": {
      "text/plain": [
       "array([0.33333333, 0.33333333, 0.33333333])"
      ]
     },
     "execution_count": 44,
     "metadata": {},
     "output_type": "execute_result"
    }
   ],
   "source": [
    "# define the equally weighted portfolio\n",
    "w_eq = np.repeat(1 / 3, 3)\n",
    "w_eq"
   ]
  },
  {
   "cell_type": "code",
   "execution_count": 45,
   "id": "a4252f1b-6975-44de-bc7a-d91bc5ee7902",
   "metadata": {},
   "outputs": [
    {
     "data": {
      "text/plain": [
       "0.10979779394667069"
      ]
     },
     "execution_count": 45,
     "metadata": {},
     "output_type": "execute_result"
    }
   ],
   "source": [
    "# portfolio standard devation\n",
    "std_eq = np.sqrt(w_eq @ cov_mat @ w_eq)\n",
    "std_eq"
   ]
  },
  {
   "cell_type": "code",
   "execution_count": 46,
   "id": "1c45b6b5-5888-4a7e-8a1f-8a80903af692",
   "metadata": {},
   "outputs": [
    {
     "data": {
      "text/plain": [
       "0.05999999999999999"
      ]
     },
     "execution_count": 46,
     "metadata": {},
     "output_type": "execute_result"
    }
   ],
   "source": [
    "# expected return\n",
    "mu_eq = w_eq @ mu\n",
    "mu_eq"
   ]
  },
  {
   "cell_type": "markdown",
   "id": "89128a6d-ea14-48fb-a593-095b4d9a83dd",
   "metadata": {},
   "source": [
    "## Problem 4\n",
    "\n",
    "The portfolio weights $\\mathbf{w} = (w_A \\; \\; w_B \\; \\; w_C)^\\top$ satisfies the budget constraint $\\mathbf{w}^\\top \\mathbf{1} =  w_A + w_B + w_C = 1$. The investor seeks to minimize the variance subject to this condition\n",
    "\n",
    "$$\n",
    "\\min \\mathbf{w}^\\top \\boldsymbol{\\Sigma} \\mathbf{w} \\; \\; \\;  \\text{s.t. } \\mathbf{w}^\\top \\mathbf{1}  = 1\n",
    "$$\n",
    "\n",
    "The Lagrangian reads\n",
    "\n",
    "$$\n",
    "\\mathcal{L} = \\mathbf{w}^\\top \\boldsymbol{\\Sigma} \\mathbf{w} - \\lambda (\\mathbf{w}^\\top \\mathbf{1}  - 1)\n",
    "$$\n",
    "\n",
    "Deriving the FOC and solving for the optimal weights yields\n",
    "\n",
    "$$\n",
    "\\mathbf{w}^* = \\frac{\\boldsymbol{\\Sigma}^{-1} \\mathbf{1}}{\\mathbf{1}^\\top \\boldsymbol{\\Sigma}^{-1} \\mathbf{1}}\n",
    "$$\n",
    "\n",
    "Define a function which calculates the minimum-variance portfolio weights given a covariance matrix. Calculate the minimum-variance portfolio weights. \n",
    "\n",
    "### Solution "
   ]
  },
  {
   "cell_type": "code",
   "execution_count": 47,
   "id": "b88f3d39",
   "metadata": {},
   "outputs": [],
   "source": [
    "def calculate_min_variance_portfolio(cov_mat: np.ndarray) -> np.ndarray:\n",
    "\n",
    "    \"\"\"\n",
    "    Calculates the minimum-varance portfolio weights. \n",
    "    \"\"\"\n",
    "    \n",
    "    num_assets = cov_mat.shape[0]\n",
    "    vec_ones = np.ones(num_assets)\n",
    "    \n",
    "    cov_mat_inv = np.linalg.inv(cov_mat)\n",
    "\n",
    "    w_min_var = cov_mat_inv @ vec_ones / (vec_ones @ cov_mat_inv @ vec_ones)\n",
    "\n",
    "    return w_min_var"
   ]
  },
  {
   "cell_type": "code",
   "execution_count": 48,
   "id": "a56f0089-99cf-4112-b3a8-66c6e03fc150",
   "metadata": {},
   "outputs": [
    {
     "data": {
      "text/plain": [
       "array([0.70384615, 0.21538462, 0.08076923])"
      ]
     },
     "execution_count": 48,
     "metadata": {},
     "output_type": "execute_result"
    }
   ],
   "source": [
    "w_min_var = calculate_min_variance_portfolio(cov_mat)\n",
    "w_min_var"
   ]
  }
 ],
 "metadata": {
  "kernelspec": {
   "display_name": "Python 3 (ipykernel)",
   "language": "python",
   "name": "python3"
  },
  "language_info": {
   "codemirror_mode": {
    "name": "ipython",
    "version": 3
   },
   "file_extension": ".py",
   "mimetype": "text/x-python",
   "name": "python",
   "nbconvert_exporter": "python",
   "pygments_lexer": "ipython3",
   "version": "3.11.9"
  }
 },
 "nbformat": 4,
 "nbformat_minor": 5
}
