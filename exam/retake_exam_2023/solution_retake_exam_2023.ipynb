{
 "cells": [
  {
   "cell_type": "markdown",
   "id": "98445e65",
   "metadata": {},
   "source": [
    "# Retake Exam 2023 - Option strategy\n",
    "\n",
    "# Guided Solution\n",
    "\n",
    "\n",
    "Below, I will examplify how to solve the problems. I will not, necessarily, provide the full solution. \n",
    "\n",
    "Results may depend on modelling choices. "
   ]
  },
  {
   "cell_type": "markdown",
   "id": "7d2d0d39",
   "metadata": {},
   "source": [
    "# Packages\n",
    "\n",
    "Imported functions and modules are used for solving both problems. "
   ]
  },
  {
   "cell_type": "code",
   "execution_count": 3,
   "id": "ee02cad8",
   "metadata": {},
   "outputs": [],
   "source": [
    "import sys\n",
    "sys.path.insert(0,'C:\\\\code\\\\python_for_the_financial_economist\\\\')"
   ]
  },
  {
   "cell_type": "code",
   "execution_count": 4,
   "id": "2ea53253",
   "metadata": {},
   "outputs": [],
   "source": [
    "# numpy for working with matrices, etc. \n",
    "import numpy as np\n",
    "\n",
    "# import pandas\n",
    "import pandas as pd\n",
    "\n",
    "# plotting libraries\n",
    "import matplotlib.pyplot as plt\n",
    "import seaborn as sns\n",
    "\n",
    "import matplotlib.ticker as mtick\n",
    "\n",
    "# scipy for statistics and optimization \n",
    "from scipy import optimize\n",
    "from scipy import stats\n",
    "\n",
    "# typing \n",
    "from typing import Union\n",
    "\n",
    "\"\"\"\n",
    "functions from codelib\n",
    "\"\"\"\n",
    "\n",
    "# functions for calculating moments\n",
    "import codelib.statistics.moments as mom\n",
    "# functions for calculating risk metrics\n",
    "import codelib.portfolio_optimization.risk_metrics as rm\n",
    "# predefined plots\n",
    "from codelib.visualization.base import fan_chart"
   ]
  },
  {
   "cell_type": "code",
   "execution_count": 5,
   "id": "54a81271",
   "metadata": {},
   "outputs": [],
   "source": [
    "from copy import deepcopy"
   ]
  },
  {
   "cell_type": "markdown",
   "id": "2fe72602",
   "metadata": {},
   "source": [
    "# Problem 1: Option strategy\n",
    "\n",
    "## Modelling the market\n",
    "\n",
    "We assume that the market consists of three assets that follow a multivariate geometric Brownian motion \n",
    "\n",
    "$$\n",
    "d\\mathbf{V}_t = \\mathbf{V}_t \\odot \\boldsymbol{\\mu} dt + \\mathbf{V}_t \\odot \\boldsymbol{\\sigma} d\\mathbf{Z}_t\n",
    "$$\n",
    "\n",
    "with \n",
    "\n",
    "$$\n",
    "\\boldsymbol{\\mu} = \\begin{pmatrix} 0.03 \\\\ 0.06 \\\\ 0.09 \\end{pmatrix}\n",
    "$$\n",
    "\n",
    "and \n",
    "\n",
    "$$\n",
    "\\boldsymbol{\\sigma}^2 = \\boldsymbol{\\sigma} \\boldsymbol{\\sigma}^\\top = \\mathbf{D} \\mathbf{C} \\mathbf{D}\n",
    "$$\n",
    "\n",
    "where the diffusion matrix is decomposed in respectively a diagonal matrix of volatilities  and a correlation matrix\n",
    "\n",
    "$$\n",
    "\\mathbf{D} = \\begin{pmatrix} \n",
    "0.06 & 0.0 & 0.0 \\\\\n",
    "0.0 & 0.11 & 0.0 \\\\\n",
    "0.0 & 0.0 & 0.16\n",
    "\\end{pmatrix}\n",
    "$$\n",
    "\n",
    "and \n",
    "\n",
    "$$\n",
    "\\mathbf{C} = \\begin{pmatrix} \n",
    "1 & 0.2 & 0.2 \\\\\n",
    "0.2 & 1 & 0.6 \\\\\n",
    "0.2 & 0.6 & 1\n",
    "\\end{pmatrix}\n",
    "$$\n",
    "\n"
   ]
  },
  {
   "cell_type": "markdown",
   "id": "2a864d34",
   "metadata": {},
   "source": [
    "### Distribution of the value vector\n",
    "\n",
    "\n",
    "$$\n",
    "d \\ln \\mathbf{V}_t =     (\\boldsymbol{\\mu} - \\frac{1}{2} Diag(\\boldsymbol{\\sigma}^2))dt + \\boldsymbol{\\sigma} d\\mathbf{Z}_t\n",
    "$$\n",
    "\n",
    "This implies that \n",
    "\n",
    "$$\n",
    "\\ln \\mathbf{V}_T - \\ln \\mathbf{V}_0 =  (\\boldsymbol{\\mu} - \\frac{1}{2} Diag(\\boldsymbol{\\sigma}^2)) T + \\boldsymbol{\\sigma} (\\mathbf{Z}_T - \\mathbf{Z}_0)\n",
    "$$\n",
    "\n",
    "Since we assume that the intial prices are equal to a vector of ones, we obtain\n",
    "\n",
    "$$\n",
    "\\ln \\mathbf{V}_T =  (\\boldsymbol{\\mu} - \\frac{1}{2} Diag(\\boldsymbol{\\sigma}^2)) T + \\boldsymbol{\\sigma} (\\mathbf{Z}_T - \\mathbf{Z}_0) \\sim N((\\boldsymbol{\\mu} - \\frac{1}{2} Diag(\\boldsymbol{\\sigma}^2)) T, \\boldsymbol{\\sigma}^2T)\n",
    "$$\n",
    "\n",
    "or equivalently the price vector must be log-normal\n",
    "\n",
    "$$\n",
    "\\mathbf{V}_T \\sim \\log N ((\\boldsymbol{\\mu} - \\frac{1}{2} Diag(\\boldsymbol{\\sigma}^2)) T, \\boldsymbol{\\sigma}^2T)\n",
    "$$"
   ]
  },
  {
   "cell_type": "code",
   "execution_count": 6,
   "id": "196509c9",
   "metadata": {},
   "outputs": [],
   "source": [
    "\"\"\"\n",
    "Parameter assumptions\n",
    "\"\"\"\n",
    "\n",
    "# store values in vector and matrices\n",
    "mu = np.array([0.03, 0.06, 0.09])\n",
    "vols = np.array([0.06, 0.11, 0.16])\n",
    "corr_mat = np.array([[1.0, 0.2, 0.2],\n",
    "                     [0.2, 1.0, 0.6],\n",
    "                     [0.2, 0.6, 1.0]])\n",
    "\n",
    "# define covariance matrix\n",
    "cov_mat = mom.corr_to_cov_matrix(corr_mat, vols)\n",
    "\n",
    "# investment horizon \n",
    "horizon = 5.0"
   ]
  },
  {
   "cell_type": "code",
   "execution_count": 8,
   "id": "4865e216",
   "metadata": {},
   "outputs": [
    {
     "data": {
      "text/plain": [
       "array([[1. , 0.2, 0.2],\n",
       "       [0.2, 1. , 0.6],\n",
       "       [0.2, 0.6, 1. ]])"
      ]
     },
     "execution_count": 8,
     "metadata": {},
     "output_type": "execute_result"
    }
   ],
   "source": [
    "np.linalg.cholesky(corr_mat) @ np.linalg.cholesky(corr_mat).T"
   ]
  },
  {
   "cell_type": "code",
   "execution_count": 1,
   "id": "66128d15",
   "metadata": {},
   "outputs": [
    {
     "ename": "NameError",
     "evalue": "name 'np' is not defined",
     "output_type": "error",
     "traceback": [
      "\u001b[1;31m---------------------------------------------------------------------------\u001b[0m",
      "\u001b[1;31mNameError\u001b[0m                                 Traceback (most recent call last)",
      "Cell \u001b[1;32mIn[1], line 5\u001b[0m\n\u001b[0;32m      1\u001b[0m \u001b[38;5;124;03m\"\"\"\u001b[39;00m\n\u001b[0;32m      2\u001b[0m \u001b[38;5;124;03mDefine function to simulate risky assets\u001b[39;00m\n\u001b[0;32m      3\u001b[0m \u001b[38;5;124;03m\"\"\"\u001b[39;00m\n\u001b[1;32m----> 5\u001b[0m \u001b[38;5;28;01mdef\u001b[39;00m \u001b[38;5;21msimulate_risky_assets\u001b[39m(mu: np\u001b[38;5;241m.\u001b[39mndarray,\n\u001b[0;32m      6\u001b[0m                           cov_mat: np\u001b[38;5;241m.\u001b[39mndarray,\n\u001b[0;32m      7\u001b[0m                           horizon: \u001b[38;5;28mfloat\u001b[39m, \n\u001b[0;32m      8\u001b[0m                           dt: \u001b[38;5;28mfloat\u001b[39m\u001b[38;5;241m=\u001b[39m\u001b[38;5;241m1.0\u001b[39m\u001b[38;5;241m/\u001b[39m\u001b[38;5;241m12\u001b[39m,\n\u001b[0;32m      9\u001b[0m                           num_sim: \u001b[38;5;28mint\u001b[39m\u001b[38;5;241m=\u001b[39m\u001b[38;5;241m10000\u001b[39m): \n\u001b[0;32m     11\u001b[0m \u001b[38;5;250m    \u001b[39m\u001b[38;5;124;03m\"\"\"\u001b[39;00m\n\u001b[0;32m     12\u001b[0m \u001b[38;5;124;03m    Function simulating the risky assets. \u001b[39;00m\n\u001b[0;32m     13\u001b[0m \u001b[38;5;124;03m    \"\"\"\u001b[39;00m\n\u001b[0;32m     15\u001b[0m     mu_scaled \u001b[38;5;241m=\u001b[39m (mu \u001b[38;5;241m-\u001b[39m \u001b[38;5;241m0.5\u001b[39m \u001b[38;5;241m*\u001b[39m np\u001b[38;5;241m.\u001b[39mdiag(cov_mat)) \u001b[38;5;241m*\u001b[39m dt\n",
      "\u001b[1;31mNameError\u001b[0m: name 'np' is not defined"
     ]
    }
   ],
   "source": [
    "\"\"\"\n",
    "Define function to simulate risky assets\n",
    "\"\"\"\n",
    "\n",
    "def simulate_risky_assets(mu: np.ndarray,\n",
    "                          cov_mat: np.ndarray,\n",
    "                          horizon: float, \n",
    "                          dt: float=1.0/12,\n",
    "                          num_sim: int=10000): \n",
    "    \n",
    "    \"\"\"\n",
    "    Function simulating the risky assets. \n",
    "    \"\"\"\n",
    "    \n",
    "    mu_scaled = (mu - 0.5 * np.diag(cov_mat)) * dt\n",
    "    cov_mat_scaled = cov_mat * dt\n",
    "    \n",
    "    num_time_steps = int(horizon / dt)\n",
    "    num_assets = len(mu)\n",
    "    \n",
    "    risky_log_ret = np.random.multivariate_normal(mu_scaled, cov_mat_scaled, size=(num_sim, num_time_steps))\n",
    "    \n",
    "    asset_prices = np.ones(((num_sim, num_time_steps + 1, num_assets)))\n",
    "    asset_prices[:, 1:, :] = np.exp(np.cumsum(risky_log_ret, axis=1))\n",
    "    \n",
    "    return asset_prices"
   ]
  },
  {
   "cell_type": "code",
   "execution_count": null,
   "id": "5da87862",
   "metadata": {},
   "outputs": [],
   "source": [
    "\"\"\"\n",
    "Simulate risky assets, 100_000 different paths with weekly time-step\n",
    "\"\"\"\n",
    "dt = 1.0 / 52.0 \n",
    "num_sim = 1_00_000\n",
    "time_points = np.arange(0, horizon / dt + 1, 1) * dt\n",
    "risky_asset_prices = simulate_risky_assets(mu=mu, cov_mat=cov_mat, horizon=horizon, dt=1.0/52, num_sim=num_sim)"
   ]
  },
  {
   "cell_type": "code",
   "execution_count": null,
   "id": "c643e415",
   "metadata": {},
   "outputs": [],
   "source": [
    "# calculate simulated percentiles\n",
    "percentiles = np.percentile(risky_asset_prices, [2.5, 5, 10, 25, 50, 75, 90, 95, 97.5], axis=0)\n",
    "\n",
    "\"\"\"\n",
    "Plot fan charts\n",
    "\"\"\"\n",
    "\n",
    "plot_colors = ['navy', 'darkred', 'darkgreen']\n",
    "\n",
    "for i in range(3): \n",
    "\n",
    "    fig, ax = plt.subplots(figsize=(10, 6))\n",
    "\n",
    "    fan_chart(time_points, percentiles[:, :, i], ax=ax, color=plot_colors[i])\n",
    "\n",
    "    ax.set(ylabel=\"Porfolio value\", xlabel=\"Year\",\n",
    "           title=\"Simulated percentiles - Asset {}\".format(i + 1)); "
   ]
  },
  {
   "cell_type": "markdown",
   "id": "f67be3ce",
   "metadata": {},
   "source": [
    "### Mean and covariance of $\\mathbf{V}_T$\n",
    "\n",
    "Since, we know that the price vector is log-normal, we can apply the known formulas for the expectation and covariance (see [here](https://www.casact.org/sites/default/files/database/forum_15spforum_halliwell.pdf))\n",
    "\n",
    "$$\n",
    "\\text{E}[e^{\\ln \\mathbf{V}_T}] = \\text{E}[\\mathbf{V}_T] = e^{T\\boldsymbol{\\mu} - \\frac{1}{2}\\text{diag}(T\\boldsymbol{\\sigma}^2) + \\frac{1}{2}\\text{diag}(T\\boldsymbol{\\sigma}^2)} = e^{T \\boldsymbol{\\mu}}\n",
    "$$\n",
    "\n",
    "and \n",
    "\n",
    "$$\n",
    "\\text{Cov}[e^{\\ln \\mathbf{V}_T}] =  \\text{Cov}[\\mathbf{V}_T] =  \\text{E}[e^{\\ln \\mathbf{V}_T}] \\text{E}[e^{\\ln \\mathbf{V}_T}]^\\top \\odot \\left(e^{T\\boldsymbol{\\sigma}^2} - \\mathbf{1} \\right)\n",
    "$$\n",
    "\n",
    "### Mean and variance of a Buy-and-hold portfolio\n",
    "\n",
    "$$\n",
    "\\text{E}[V_t^{BH}] = \\mathbf{h}^\\top \\text{E}[\\mathbf{V}_T]\n",
    "$$\n",
    "\n",
    "and \n",
    "\n",
    "$$\n",
    "\\text{Var}[V_t^{BH}] =  \\mathbf{h}^\\top \\text{Cov}[\\mathbf{V}_T] \\mathbf{h}\n",
    "$$"
   ]
  },
  {
   "cell_type": "code",
   "execution_count": null,
   "id": "94532d9a",
   "metadata": {},
   "outputs": [],
   "source": [
    "\"\"\"\n",
    "Define functions\n",
    "\"\"\"\n",
    "\n",
    "def calculate_expectation_geo(mu: np.ndarray, horizon=1.0) -> np.ndarray:\n",
    "    \n",
    "    \"\"\"\n",
    "    Function calculating the expectation of the value vector. \n",
    "    \"\"\"\n",
    "    \n",
    "    return np.exp(horizon*mu)\n",
    "\n",
    "\n",
    "def calculate_covariance_geo(mu: np.ndarray, sigma2: np.ndarray,  horizon=1.0) -> np.ndarray:\n",
    "    \n",
    "    \"\"\"\n",
    "    Function calculating the variance-covariance matrix of the value vector. \n",
    "    \"\"\"\n",
    "    \n",
    "    exp_v = calculate_expectation_geo(mu, horizon)\n",
    "    \n",
    "    return np.outer(exp_v, exp_v) * [np.exp(sigma2 * horizon) - 1]\n"
   ]
  },
  {
   "cell_type": "markdown",
   "id": "bfd6387d",
   "metadata": {},
   "source": [
    "### Comparing analytical and simulated values for equally weighted portfolio "
   ]
  },
  {
   "cell_type": "code",
   "execution_count": null,
   "id": "41e58425",
   "metadata": {},
   "outputs": [],
   "source": [
    "num_assets = len(mu)\n",
    "eq_h = np.ones(num_assets) / num_assets\n",
    "\n",
    "# simulated values for the portfolio \n",
    "portfolio_values = risky_asset_prices @ eq_h \n",
    "\n",
    "\"\"\"\n",
    "Expected value \n",
    "\"\"\"\n",
    "\n",
    "exp_port_analytical = np.array([rm.calculate_portfolio_mean(eq_h, calculate_expectation_geo(mu, t)) \n",
    "                                for t in time_points])\n",
    "\n",
    "exp_port_sim = np.mean(portfolio_values, axis=0)\n",
    "\n",
    "\"\"\"\n",
    "Standard devation \n",
    "\"\"\"\n",
    "\n",
    "std_port_analytical = np.array([rm.calculate_portfolio_std(eq_h, calculate_covariance_geo(mu, cov_mat, t)) \n",
    "                                for t in time_points])\n",
    "\n",
    "std_port_sim = np.std(portfolio_values, axis=0)"
   ]
  },
  {
   "cell_type": "code",
   "execution_count": null,
   "id": "fd4fda6c",
   "metadata": {},
   "outputs": [],
   "source": [
    "fig, ax = plt.subplots(figsize=(6, 4))\n",
    "\n",
    "ax.plot(time_points, exp_port_analytical)\n",
    "\n",
    "ax.plot(time_points, exp_port_sim, linestyle=\"--\");\n",
    "\n",
    "ax.set(ylabel=\"Expectation\", xlabel=\"Year\", title=\"Comparing analytical and simulated expectation\"); "
   ]
  },
  {
   "cell_type": "code",
   "execution_count": null,
   "id": "40c05d74",
   "metadata": {},
   "outputs": [],
   "source": [
    "fig, ax = plt.subplots(figsize=(6, 4))\n",
    "\n",
    "ax.plot(time_points, std_port_analytical)\n",
    "\n",
    "ax.plot(time_points, std_port_sim, linestyle=\"--\");\n",
    "\n",
    "ax.set(ylabel=\"Standard deviation\", xlabel=\"Year\",\n",
    "       title=\"Comparing analytical and simulated standard deviation\"); "
   ]
  },
  {
   "cell_type": "markdown",
   "id": "c7b85b44",
   "metadata": {},
   "source": [
    "### Compare asset characteristics - 1Y horizon\n",
    "\n",
    "__Simulation based approach__\n",
    "\n",
    "In order to calculate relevant metrics, we can use simulations. We simulate a panel .."
   ]
  },
  {
   "cell_type": "code",
   "execution_count": null,
   "id": "18fd5f87",
   "metadata": {},
   "outputs": [],
   "source": [
    "horizon = 1.0\n",
    "idx_hor = int(horizon / dt)\n",
    "\n",
    "df_hor_asset_values = pd.DataFrame({'Asset 1': risky_asset_prices[:, idx_hor, 0] - 1.0,\n",
    "                                    'Asset 2': risky_asset_prices[:, idx_hor, 1] - 1.0, \n",
    "                                    'Asset 3': risky_asset_prices[:, idx_hor, 2] - 1.0})\n",
    "\n",
    "\n",
    "\"\"\"\n",
    "Calculate some relevant metrics\n",
    "\"\"\"\n",
    "\n",
    "calc_cvar = lambda x: rm.calculate_conditional_value_at_risk(np.asarray(x), p=0.05)\n",
    "calc_var = lambda x: np.percentile(x, q=5, axis=0)\n",
    "\n",
    "df_res = df_hor_asset_values.aggregate([mom.calculate_mean,\n",
    "                                        np.median,\n",
    "                                    mom.calculate_std,\n",
    "                                    mom.calculate_skewness,\n",
    "                                    mom.calculate_kurtosis,\n",
    "                                    calc_cvar,\n",
    "                                    calc_var])\n",
    "\n",
    "df_res.index = pd.Index(['Mean', 'Median' , 'Standard deviation', 'Skewness', 'Kurtosis', 'CVaR(5%)', 'VaR(5%)'])\n",
    "df_res"
   ]
  },
  {
   "cell_type": "markdown",
   "id": "177b0419",
   "metadata": {},
   "source": [
    "__Analytical results__\n",
    "\n",
    "The asset prices follow a log normal distribution. Thus, the linear returns follow a shifted log-normal\n",
    "\n",
    "$$\n",
    "\\mathbf{R}_t = \\mathbf{V}_t - 1\n",
    "$$\n",
    "\n",
    "Clearly, if we are able to find the mean and variance of $\\mathbf{V}_t$ (as we did above), we can easily find the mean and variance / standard devation of $\\mathbf{R}_t$. Since the definitions of the [skewness](https://en.wikipedia.org/wiki/Skewness) and [kurtosis](https://en.wikipedia.org/wiki/Kurtosis) are respectively the third and fourth standardized moment, these quantities will be the same for $\\mathbf{V}_t$ and $\\mathbf{R}_t$. \n",
    "\n",
    "The analytical moments for a log-normal can be found [here](https://en.wikipedia.org/wiki/Log-normal_distribution)\n",
    "\n",
    "To find the $\\text{VaR}$ and $\\text{CVaR}$, we can adapt the formulas from [here](https://en.wikipedia.org/wiki/Expected_shortfall)\n",
    "\n",
    "\n",
    "Note: We can check the result by defining a shifted log-normal distribution using `scipy.stats.lognorm` - see below. "
   ]
  },
  {
   "cell_type": "code",
   "execution_count": null,
   "id": "d0dde2da",
   "metadata": {},
   "outputs": [],
   "source": [
    "def calculate_median_geo(mu: np.ndarray, sigma2: np.ndarray, horizon=1.0) -> np.ndarray:\n",
    "    \n",
    "    \"\"\"\n",
    "    Function calculating the median of the value vector. \n",
    "    \"\"\"\n",
    "    \n",
    "    return np.exp(horizon*mu - 0.5 * np.diag(sigma2))\n",
    "\n",
    "\n",
    "\n",
    "def calculate_std_geo(mu: np.ndarray, sigma2: np.ndarray,  horizon=1.0) -> np.ndarray:\n",
    "    \n",
    "    \"\"\"\n",
    "    Function calculating the individual std. of the value vector. \n",
    "    \"\"\"\n",
    "    \n",
    "    exp_v = calculate_expectation_geo(mu, horizon)\n",
    "    \n",
    "    return np.diag(np.outer(exp_v, exp_v) * (np.exp(sigma2 * horizon) - 1))\n",
    "\n",
    "\n",
    "def calculate_skewness_geo(sigma2: np.ndarray,  horizon=1.0) -> np.ndarray:\n",
    "    \n",
    "    \"\"\"\n",
    "    Function calculating the skewness of the value vector. \n",
    "    \"\"\"\n",
    "    \n",
    "    vols2 = np.diag(sigma2)\n",
    "    \n",
    "    return (np.exp(vols2) + 2)*np.sqrt(np.exp(vols2) - 1)\n",
    "\n",
    "\n",
    "def calculate_kurtosis_geo(sigma2: np.ndarray,  horizon=1.0, excess=True) -> np.ndarray:\n",
    "    \n",
    "    \"\"\"\n",
    "    Function calculating the kurtosis matrix of the value vector. \n",
    "    \"\"\"\n",
    "    \n",
    "    vols2 = np.diag(sigma2)\n",
    "    kurt = 1*np.exp(4*vols2) + 2*np.exp(3*vols2) + 3 * np.exp(2*vols2) - 3\n",
    "    \n",
    "    if excess: \n",
    "        return kurt - 3\n",
    "    else: \n",
    "        return kurt\n",
    "\n",
    "    \n",
    "def calculate_value_at_risk_geo(mu: np.ndarray, sigma2: np.ndarray,  horizon=1.0, p=0.05) -> np.ndarray:\n",
    "    \n",
    "    \"\"\"\n",
    "    Function calculating the individual value at risk of the value vector. \n",
    "    \"\"\"\n",
    "    \n",
    "    vols2 = np.diag(cov_mat)\n",
    "    m = mu - 0.5*vols2\n",
    "    z = stats.norm().ppf(p)\n",
    "    return np.exp(z * np.sqrt(vols2)) * np.exp(m)\n",
    "\n",
    "\n",
    "def calculate_cond_value_at_risk_geo(mu: np.ndarray, sigma2: np.ndarray,  horizon=1.0, p=0.05) -> np.ndarray:\n",
    "    \n",
    "    \"\"\"\n",
    "    Function calculating the individual cond. value at risk of the value vector. \n",
    "    \"\"\"\n",
    "    \n",
    "    vols2 = np.diag(cov_mat)\n",
    "    m = mu - 0.5*vols2\n",
    "    z = stats.norm().ppf(p)\n",
    "    \n",
    "    \n",
    "    return -(1 - stats.norm.cdf(z - np.sqrt(vols2)) / p * np.exp(m))"
   ]
  },
  {
   "cell_type": "code",
   "execution_count": null,
   "id": "0bbcbea9",
   "metadata": {},
   "outputs": [],
   "source": [
    "\"\"\"\n",
    "Analytical results \n",
    "\"\"\"\n",
    "\n",
    "df_res_analytical = deepcopy(df_res)\n",
    "\n",
    "df_res_analytical.loc['Mean', :] = calculate_expectation_geo(mu, horizon) - 1.0\n",
    "df_res_analytical.loc['Median', :] = calculate_median_geo(mu, cov_mat, horizon) - 1.0\n",
    "df_res_analytical.loc['Standard deviation', :] = calculate_std_geo(mu, cov_mat, horizon)\n",
    "df_res_analytical.loc['Skewness', :] = calculate_skewness_geo(cov_mat, horizon)\n",
    "df_res_analytical.loc['Kurtosis', :] = calculate_kurtosis_geo(cov_mat, horizon)\n",
    "df_res_analytical.loc['CVaR(5%)', :] = calculate_cond_value_at_risk_geo(mu, cov_mat, horizon, p=0.05)\n",
    "df_res_analytical.loc['VaR(5%)', :] = calculate_value_at_risk_geo(mu, cov_mat, horizon, p=0.05) - 1.0"
   ]
  },
  {
   "cell_type": "code",
   "execution_count": null,
   "id": "5321c58f",
   "metadata": {},
   "outputs": [],
   "source": [
    "df_res"
   ]
  },
  {
   "cell_type": "code",
   "execution_count": null,
   "id": "46cd4a5a",
   "metadata": {},
   "outputs": [],
   "source": [
    "df_res_analytical"
   ]
  },
  {
   "cell_type": "code",
   "execution_count": null,
   "id": "6f5a299e",
   "metadata": {},
   "outputs": [],
   "source": [
    "\"\"\"\n",
    "Check with scipy.stats.lognorm\n",
    "\"\"\""
   ]
  },
  {
   "cell_type": "code",
   "execution_count": null,
   "id": "f07fa259",
   "metadata": {},
   "outputs": [],
   "source": [
    "lognorm1 = stats.lognorm(s=np.sqrt(cov_mat[0, 0]),\n",
    "                         scale=np.exp(mu[0] - 0.5 * cov_mat[0, 0]),\n",
    "                         loc=-1)"
   ]
  },
  {
   "cell_type": "code",
   "execution_count": null,
   "id": "ee2f8b1e",
   "metadata": {},
   "outputs": [],
   "source": [
    "lognorm1.stats('mvsk')"
   ]
  },
  {
   "cell_type": "code",
   "execution_count": null,
   "id": "e9dcf4cd",
   "metadata": {},
   "outputs": [],
   "source": [
    "lognorm1.ppf(0.05)"
   ]
  },
  {
   "cell_type": "markdown",
   "id": "171ff36f",
   "metadata": {},
   "source": [
    "## Portfolio optimization \n",
    "\n",
    "### Minimum CVaR(5%) portfolio\n",
    "\n",
    "The investors objective reads \n",
    "\n",
    "$$\n",
    "\\mathbf{h}^* = \\arg \\min \\text{CVaR}(5\\%)\n",
    "$$ \n",
    "\n",
    "subject to\n",
    "\n",
    "$$\n",
    "\\mathbf{h}^\\top \\mathbf{1} = 1\n",
    "$$\n",
    "\n",
    "and a no-shorting constraint\n",
    "\n",
    "$$\n",
    "\\mathbf{h} \\geq 0\n",
    "$$"
   ]
  },
  {
   "cell_type": "code",
   "execution_count": null,
   "id": "323978e2",
   "metadata": {},
   "outputs": [],
   "source": [
    "asset_prices_at_horizon = risky_asset_prices[:, idx_hor, :]"
   ]
  },
  {
   "cell_type": "code",
   "execution_count": null,
   "id": "38a4cbb7",
   "metadata": {},
   "outputs": [],
   "source": [
    "def calculate_min_cvar_portfolio(asset_prices, h_init=None):\n",
    "    \n",
    "    if h_init is None: \n",
    "        h_init = np.ones(asset_prices.shape[1]) / asset_prices.shape[1]\n",
    "    \n",
    "    obj = lambda h: -rm.calculate_conditional_value_at_risk(asset_prices @ h, p=0.05)\n",
    "    \n",
    "    budget_constraint = {'type': 'eq', 'fun': lambda h: h.sum() - 1.0}\n",
    "    #mean_constraint = {'type': 'ineq', 'fun': lambda w: (np.exp(mu * t) - 1) @ w - target_mean}\n",
    "    res = optimize.minimize(obj,\n",
    "                   x0=h_init,\n",
    "                   method='SLSQP',\n",
    "                   constraints=[budget_constraint], #budget_constraint, \n",
    "                   options={'disp': True,\n",
    "                            'ftol': 1e-16,\n",
    "                            'maxiter': 5000, \n",
    "                            'eps': 1.5e-7},\n",
    "                   bounds=[(0.0, 1.0)] * len(h_init))\n",
    "    \n",
    "    return res['x']"
   ]
  },
  {
   "cell_type": "code",
   "execution_count": null,
   "id": "0b285188",
   "metadata": {},
   "outputs": [],
   "source": [
    "h_min_cvar = calculate_min_cvar_portfolio(asset_prices_at_horizon, eq_h)\n",
    "h_min_cvar"
   ]
  },
  {
   "cell_type": "markdown",
   "id": "c10291f9",
   "metadata": {},
   "source": [
    "### Optimal portfolios"
   ]
  },
  {
   "cell_type": "code",
   "execution_count": null,
   "id": "f9148d00",
   "metadata": {},
   "outputs": [],
   "source": [
    "def calculate_target_portfolio(asset_prices, target, h_init=None):\n",
    "    \n",
    "    if h_init is None: \n",
    "        h_init = np.ones(asset_prices.shape[1]) / asset_prices.shape[1]\n",
    "    \n",
    "    obj = lambda h: -np.mean(asset_prices @ h)\n",
    "    \n",
    "    budget_constraint = {'type': 'eq', 'fun': lambda h: h.sum() - 1.0}\n",
    "    cvar_constraint = {'type': 'ineq', 'fun': lambda h: rm.calculate_conditional_value_at_risk(asset_prices @ h, p=0.05) - target}\n",
    "    \n",
    "    res = optimize.minimize(obj,\n",
    "                   x0=h_init,\n",
    "                   method='SLSQP',\n",
    "                   constraints=[budget_constraint, cvar_constraint], #budget_constraint, \n",
    "                   options={'disp': True,\n",
    "                            'ftol': 1e-16,\n",
    "                            'maxiter': 5000, \n",
    "                            'eps': 1.5e-7},\n",
    "                   bounds=[(0.0, 1.0)] * len(h_init))\n",
    "    \n",
    "    return res['x']"
   ]
  },
  {
   "cell_type": "code",
   "execution_count": null,
   "id": "1758e129",
   "metadata": {
    "scrolled": true
   },
   "outputs": [],
   "source": [
    "cvar_targets = np.linspace(0.085, 0.23, 20)\n",
    "\n",
    "h_cvar_opt_all = np.array([calculate_target_portfolio(asset_prices_at_horizon, 1 - ct, eq_h)\n",
    "                           for ct in cvar_targets])\n",
    "\n",
    "#calculate_target_portfolio(asset_prices_at_horizon, 0.85, eq_h)"
   ]
  },
  {
   "cell_type": "code",
   "execution_count": null,
   "id": "9e0d4f91",
   "metadata": {},
   "outputs": [],
   "source": [
    "calc_port_mean = lambda h: np.mean(asset_prices_at_horizon @ h) - 1.0\n",
    "calc_port_cvar = lambda h: 1-rm.calculate_conditional_value_at_risk(asset_prices_at_horizon @ h, p=0.05)"
   ]
  },
  {
   "cell_type": "code",
   "execution_count": null,
   "id": "22db2ef8",
   "metadata": {},
   "outputs": [],
   "source": [
    "port_cvar = np.apply_along_axis(calc_port_cvar, 1, h_cvar_opt_all)\n",
    "port_mean = np.apply_along_axis(calc_port_mean, 1, h_cvar_opt_all)"
   ]
  },
  {
   "cell_type": "code",
   "execution_count": null,
   "id": "adc422fd",
   "metadata": {},
   "outputs": [],
   "source": [
    "fig, ax = plt.subplots(figsize=(10, 5))\n",
    "\n",
    "ax.plot(port_cvar, port_mean, color=\"navy\")\n",
    "ax.set(xlabel=\"$\\\\mathbf{CVaR}(5\\%)$\", ylabel=\"$\\\\mathbf{E}[R]$\", title=\"Optimal portfolios\"); \n",
    "\n",
    "xticks = mtick.PercentFormatter(xmax=1.0, decimals=1)\n",
    "ax.xaxis.set_major_formatter(xticks)\n",
    "ax.yaxis.set_major_formatter(xticks)"
   ]
  },
  {
   "cell_type": "code",
   "execution_count": null,
   "id": "0507636f",
   "metadata": {},
   "outputs": [],
   "source": [
    "fig, ax = plt.subplots(figsize=(10, 5))\n",
    "ax.stackplot(cvar_targets, h_cvar_opt_all.T, labels=['Asset 1', 'Asset 2', 'Asset 3']); \n",
    "ax.set_xlabel('$c$')\n",
    "ax.set_ylabel('$Allocation$')\n",
    "ax.set_title('Allocations')\n",
    "ax.legend(loc='upper left');\n",
    "ax.set_xlim([cvar_targets[0], cvar_targets[-1]])\n",
    "ax.set_ylim([0, 1])"
   ]
  },
  {
   "cell_type": "markdown",
   "id": "5791c8ef",
   "metadata": {},
   "source": [
    "## Introducing options \n",
    "\n",
    "### Option prices\n",
    "\n",
    "The Black-Scholes-Merton option pricing formula is given by (a generic asset, implied vol and risk free rate will change depending on asset, strike and time to expiry)\n",
    "\n",
    "\\begin{align}\n",
    "  C(V_t, t) &=  e^{-r \\tau}E^\\mathbb{Q}[\\max (V_T - K, 0)]\\\\\n",
    "  &= N(d_+)V_t - N(d_-)Ke^{-r\\tau} \\\\\n",
    "  d_+ &= \\frac{1}{\\sigma_{IV}\\sqrt{\\tau}}\\left[\\ln\\left(\\frac{V_{t}}{K}\\right) + \\left(r + \\frac{\\sigma_{IV}^2}{2}\\right)\\tau\\right] \\\\\n",
    "  d_- &= d_+ - \\sigma\\sqrt{\\tau}\n",
    "\\end{align}\n"
   ]
  },
  {
   "cell_type": "code",
   "execution_count": null,
   "id": "f68c3d77",
   "metadata": {},
   "outputs": [],
   "source": [
    "# time to maturity / expiry of option \n",
    "ttm = 1.0\n",
    "# risk free rate\n",
    "r = 0.02\n",
    "# strike\n",
    "strike1 = 1.0\n",
    "strike2 = 1.1\n",
    "# implied vol\n",
    "imp_vol1 = 0.18\n",
    "imp_vol2 = 0.16"
   ]
  },
  {
   "cell_type": "code",
   "execution_count": null,
   "id": "3760363c",
   "metadata": {},
   "outputs": [],
   "source": [
    "def bsm_call_price(asset_prices: Union[np.ndarray, float],\n",
    "                   rates: Union[np.ndarray, float],\n",
    "                   implied_vols: Union[np.ndarray, float],\n",
    "                   strike: float,\n",
    "                   ttm: float) -> np.ndarray:\n",
    "\n",
    "    \"\"\"\n",
    "    Calculates the Black-Scholes-Merton call option pricing for a given set of parameters.\n",
    "\n",
    "    Parameters\n",
    "    ------------\n",
    "    asset_prices:\n",
    "        The current price(s) of the underlying asset(s).\n",
    "\n",
    "    rates:\n",
    "        The risk-free interest rate(s).\n",
    "\n",
    "    implied_vols:\n",
    "        The implied volatility(ies) of the underlying assets.\n",
    "        \n",
    "    strike:\n",
    "        The strike price of the option.\n",
    "\n",
    "    ttm:\n",
    "        Time to maturity of the option in years.\n",
    "\n",
    "    Returns\n",
    "    -----------\n",
    "    np.ndarray:\n",
    "        An array containing the calculated call option prices.\n",
    "\n",
    "    \"\"\"\n",
    "\n",
    "    d = 1 / (implied_vols * np.sqrt(ttm)) * (np.log(asset_prices / strike) + (rates + implied_vols**2 / 2) * ttm)\n",
    "    d_ = d - implied_vols * np.sqrt(ttm)\n",
    "\n",
    "    prices = stats.norm.cdf(d) * asset_prices - stats.norm.cdf(d_) * strike * np.exp(-rates * ttm)\n",
    "\n",
    "    return prices"
   ]
  },
  {
   "cell_type": "code",
   "execution_count": null,
   "id": "af8c0072",
   "metadata": {},
   "outputs": [],
   "source": [
    "call_price1 = bsm_call_price(asset_prices=1.0, rates=r, implied_vols=imp_vol1, strike=strike1, ttm=ttm)\n",
    "call_price1"
   ]
  },
  {
   "cell_type": "code",
   "execution_count": null,
   "id": "a0c0ee20",
   "metadata": {},
   "outputs": [],
   "source": [
    "call_price2 = bsm_call_price(asset_prices=1.0, rates=r, implied_vols=imp_vol2, strike=strike2, ttm=ttm)\n",
    "call_price2"
   ]
  },
  {
   "cell_type": "markdown",
   "id": "e1bfaa46",
   "metadata": {},
   "source": [
    "### Check pricing using risk neutral pricing using simulations\n",
    "\n",
    "Under risk neutral pricing, the assets earn the risk free rate. Thus, we have to calculate the expectation under this assumption:\n",
    "\n",
    "$$\n",
    "dV_{3,t} = r V_{3, t}dt + \\sigma_{3} V_{3, t}dZ_t^\\mathbb{Q}\n",
    "$$\n",
    "\n",
    "and therefore\n",
    "\n",
    "$$\n",
    "d \\log V_{3,t} = (r - \\sigma_3^2 / 2) dt + \\sigma_3 dZ_t^\\mathbb{Q}\n",
    "$$"
   ]
  },
  {
   "cell_type": "code",
   "execution_count": null,
   "id": "774d576e",
   "metadata": {},
   "outputs": [],
   "source": [
    "rn_asset_prices1 = np.exp(np.random.normal(loc=(r - 0.5 * imp_vol1**2)*ttm, scale=np.sqrt(ttm) * imp_vol1, size=num_sim))\n",
    "rn_asset_prices2 = np.exp(np.random.normal(loc=(r - 0.5 * imp_vol2**2)*ttm, scale=np.sqrt(ttm) * imp_vol2, size=num_sim))"
   ]
  },
  {
   "cell_type": "code",
   "execution_count": null,
   "id": "6edddb7e",
   "metadata": {},
   "outputs": [],
   "source": [
    "rn_avg_pay_off1 = np.average(np.clip(rn_asset_prices1 - strike1, 0.0, np.inf))\n",
    "rn_avg_pay_off2 = np.average(np.clip(rn_asset_prices2 - strike2, 0.0, np.inf))"
   ]
  },
  {
   "cell_type": "code",
   "execution_count": null,
   "id": "dd63b09e",
   "metadata": {},
   "outputs": [],
   "source": [
    "discount_rn_avg_pay_off1 = np.exp(-r * ttm) * rn_avg_pay_off1\n",
    "discount_rn_avg_pay_off2 = np.exp(-r * ttm) * rn_avg_pay_off2"
   ]
  },
  {
   "cell_type": "code",
   "execution_count": null,
   "id": "92e5606f",
   "metadata": {},
   "outputs": [],
   "source": [
    "discount_rn_avg_pay_off1"
   ]
  },
  {
   "cell_type": "code",
   "execution_count": null,
   "id": "f7f4dee3",
   "metadata": {},
   "outputs": [],
   "source": [
    "call_price1"
   ]
  },
  {
   "cell_type": "code",
   "execution_count": null,
   "id": "0419a2d9",
   "metadata": {},
   "outputs": [],
   "source": [
    "discount_rn_avg_pay_off2"
   ]
  },
  {
   "cell_type": "code",
   "execution_count": null,
   "id": "91b586bb",
   "metadata": {},
   "outputs": [],
   "source": [
    "call_price2"
   ]
  },
  {
   "cell_type": "markdown",
   "id": "50baa56b",
   "metadata": {},
   "source": [
    "### Pay-off profile"
   ]
  },
  {
   "cell_type": "code",
   "execution_count": null,
   "id": "cc49c9ea",
   "metadata": {},
   "outputs": [],
   "source": [
    "pay_off1 = np.clip(asset_prices_at_horizon[:, 2] - strike1, 0.0, np.inf)\n",
    "pay_off2 = np.clip(asset_prices_at_horizon[:, 2] - strike2, 0.0, np.inf)"
   ]
  },
  {
   "cell_type": "code",
   "execution_count": null,
   "id": "fd724aec",
   "metadata": {},
   "outputs": [],
   "source": [
    "fig, ax = plt.subplots(figsize=(12, 7))\n",
    "\n",
    "ax.scatter(asset_prices_at_horizon[:, 2], pay_off1, color=\"navy\", label=\"Option 1, $K=1.0$\", alpha=0.5)\n",
    "ax.scatter(asset_prices_at_horizon[:, 2], pay_off2, color=\"darkred\", label=\"Option 2, $K=1.1$\", alpha=0.5)\n",
    "\n",
    "ax.legend();"
   ]
  },
  {
   "cell_type": "markdown",
   "id": "eaa37ae0",
   "metadata": {},
   "source": [
    "### Expected return  call option"
   ]
  },
  {
   "cell_type": "code",
   "execution_count": null,
   "id": "b4da2d9c",
   "metadata": {},
   "outputs": [],
   "source": [
    "avg_pay_off1 = np.average(np.clip(asset_prices_at_horizon[:, 2] - strike1, 0.0, np.inf))\n",
    "avg_pay_off2 = np.average(np.clip(asset_prices_at_horizon[:, 2] - strike2, 0.0, np.inf))\n",
    "\n",
    "median_pay_off1 = np.median(np.clip(asset_prices_at_horizon[:, 2] - strike1, 0.0, np.inf))\n",
    "median_pay_off2 = np.median(np.clip(asset_prices_at_horizon[:, 2] - strike2, 0.0, np.inf))"
   ]
  },
  {
   "cell_type": "code",
   "execution_count": null,
   "id": "f3b3b854",
   "metadata": {},
   "outputs": [],
   "source": [
    "avg_ret1 = avg_pay_off1 / call_price1 - 1.0\n",
    "avg_ret2 = avg_pay_off2 / call_price2 - 1.0\n",
    "\n",
    "median_ret1 = median_pay_off1 / call_price1 - 1.0\n",
    "median_ret2 = median_pay_off2 / call_price2 - 1.0"
   ]
  },
  {
   "cell_type": "code",
   "execution_count": null,
   "id": "a2ec3ceb",
   "metadata": {},
   "outputs": [],
   "source": [
    "df_call_ret = pd.DataFrame({'Average': [avg_ret1, avg_ret2], 'Median': [median_ret1, median_ret2]},\n",
    "                          index=pd.Index(['Option 1', 'Option 2']))"
   ]
  },
  {
   "cell_type": "code",
   "execution_count": null,
   "id": "e785aa1d",
   "metadata": {},
   "outputs": [],
   "source": [
    "ax = df_call_ret.plot(kind='bar')\n",
    "xticks = mtick.PercentFormatter(xmax=1.0, decimals=1)\n",
    "ax.yaxis.set_major_formatter(xticks)\n",
    "ax.set(ylabel=\"Return\");"
   ]
  },
  {
   "cell_type": "markdown",
   "id": "92ef635d",
   "metadata": {},
   "source": [
    "__An analytical formula for the expected return__\n",
    "\n",
    "The actual expected pay off is based on the real world probability measure. This expectation is given by \n",
    "\n",
    "\\begin{align}\n",
    "   \\mathbb{E}^\\mathbb{P}[\\max (V_T - K, 0)] &= N(d_+)e^{\\mu \\tau} - N(d_-)K \\\\\n",
    "  d_+ &= \\frac{1}{\\sigma\\sqrt{\\tau}}\\left[\\ln\\left(\\frac{V_{t}}{K}\\right) + \\left(\\mu + \\frac{\\sigma^2}{2}\\right)\\tau\\right] \\\\\n",
    "  d_- &= d_+ - \\sigma\\sqrt{\\tau}\n",
    "\\end{align}"
   ]
  },
  {
   "cell_type": "code",
   "execution_count": null,
   "id": "2e1bd368",
   "metadata": {},
   "outputs": [],
   "source": [
    "def bsm_call_expected_pay_off(asset_prices: Union[np.ndarray, float],\n",
    "                              mu: Union[np.ndarray, float],\n",
    "                              vols: Union[np.ndarray, float],\n",
    "                              strike: float,\n",
    "                              ttm: float) -> np.ndarray:\n",
    "\n",
    "    \"\"\"\n",
    "    Calculates the expected call pay-off under the assumption of a geometric brownian motion.\n",
    "\n",
    "    Parameters\n",
    "    ------------\n",
    "    asset_prices:\n",
    "        The current price(s) of the underlying asset(s).\n",
    "\n",
    "    mu:\n",
    "        drift in geometric brownian motion.\n",
    "\n",
    "    vols:\n",
    "        The volatility(ies) of the underlying assets.\n",
    "        \n",
    "    strike:\n",
    "        The strike price of the option.\n",
    "\n",
    "    ttm:\n",
    "        Time to maturity of the option in years.\n",
    "\n",
    "    Returns\n",
    "    -----------\n",
    "    np.ndarray:\n",
    "        An array containing the calculated call option prices.\n",
    "\n",
    "    \"\"\"\n",
    "\n",
    "    d = 1 / (vols * np.sqrt(ttm)) * (np.log(asset_prices / strike) + (mu + vols**2 / 2) * ttm)\n",
    "    d_ = d - vols * np.sqrt(ttm)\n",
    "\n",
    "    pay_off =  np.exp(mu * ttm) * stats.norm.cdf(d) * asset_prices - stats.norm.cdf(d_) * strike\n",
    "\n",
    "    return pay_off"
   ]
  },
  {
   "cell_type": "code",
   "execution_count": null,
   "id": "70a59e18",
   "metadata": {},
   "outputs": [],
   "source": [
    "ana_exp_pay_off1 = bsm_call_expected_pay_off(asset_prices=1.0, \n",
    "                          mu=mu[2],\n",
    "                          vols=np.sqrt(cov_mat[2, 2]),\n",
    "                          strike=strike1, \n",
    "                          ttm=ttm)\n",
    "\n",
    "ana_exp_pay_off2 = bsm_call_expected_pay_off(asset_prices=1.0, \n",
    "                          mu=mu[2],\n",
    "                          vols=np.sqrt(cov_mat[2, 2]),\n",
    "                          strike=strike2, \n",
    "                          ttm=ttm)\n",
    "\n",
    "ana_exp_ret1 = ana_exp_pay_off1 / call_price1 - 1.0\n",
    "ana_exp_ret2 = ana_exp_pay_off2 / call_price2 - 1.0"
   ]
  },
  {
   "cell_type": "code",
   "execution_count": null,
   "id": "60d10819",
   "metadata": {},
   "outputs": [],
   "source": [
    "ana_exp_pay_off1"
   ]
  },
  {
   "cell_type": "code",
   "execution_count": null,
   "id": "7de8a6e8",
   "metadata": {},
   "outputs": [],
   "source": [
    "np.average(np.clip(risky_asset_prices[:, idx_hor, 2] - strike1, 0.0, np.inf))"
   ]
  },
  {
   "cell_type": "markdown",
   "id": "a7264ff6",
   "metadata": {},
   "source": [
    "### Plot expected return as a function of the implied volatility"
   ]
  },
  {
   "cell_type": "code",
   "execution_count": null,
   "id": "44a65ecb",
   "metadata": {},
   "outputs": [],
   "source": [
    "all_ivs = np.linspace(0.1, 0.30, 1000)\n",
    "all_expected_returns1 = np.array([ana_exp_pay_off1 / bsm_call_price(asset_prices=1.0, rates=r, implied_vols=iv, strike=strike1, ttm=ttm) - 1.0 for iv in all_ivs])\n",
    "all_expected_returns2 = np.array([ana_exp_pay_off2 / bsm_call_price(asset_prices=1.0, rates=r, implied_vols=iv, strike=strike2, ttm=ttm) - 1.0 for iv in all_ivs])\n",
    "\n",
    "fig, ax = plt.subplots(figsize=(12, 7))\n",
    "\n",
    "ax.plot(all_ivs, all_expected_returns1, color=\"navy\", label=\"Option 1, $K=1.0$\")\n",
    "ax.plot(all_ivs, all_expected_returns2, color=\"darkred\", label=\"Option 2, $K=1.1$\")\n",
    "ax.set(ylabel=\"Expected return\")\n",
    "\n",
    "xticks = mtick.PercentFormatter(xmax=1.0, decimals=1)\n",
    "ax.xaxis.set_major_formatter(xticks)\n",
    "ax.yaxis.set_major_formatter(xticks)\n",
    "\n",
    "ax.legend();"
   ]
  },
  {
   "cell_type": "markdown",
   "id": "1cf54778",
   "metadata": {},
   "source": [
    "### Plot expected return as a function of $\\mu_3$"
   ]
  },
  {
   "cell_type": "code",
   "execution_count": null,
   "id": "e662758b",
   "metadata": {},
   "outputs": [],
   "source": [
    "all_mus = np.linspace(0.01, 0.15, 50)\n",
    "all_expected_returns1 = np.array([bsm_call_expected_pay_off(asset_prices=1.0, mu=m,\n",
    "                                                            vols=np.sqrt(cov_mat[2, 2]),\n",
    "                                                            strike=strike1, ttm=ttm) / call_price1 - 1.0 for m in all_mus])\n",
    "all_expected_returns2 = np.array([bsm_call_expected_pay_off(asset_prices=1.0, mu=m,\n",
    "                                                            vols=np.sqrt(cov_mat[2, 2]),\n",
    "                                                            strike=strike2, ttm=ttm) / call_price2 - 1.0 for m in all_mus])\n",
    "\n",
    "fig, ax = plt.subplots(figsize=(12, 7))\n",
    "\n",
    "ax.plot(all_mus, all_expected_returns1, color=\"navy\", label=\"Option 1, $K=1.0$\")\n",
    "ax.plot(all_mus, all_expected_returns2, color=\"darkred\", label=\"Option 2, $K=1.1$\")\n",
    "ax.set(xlabel=\"$\\mu_3$\")\n",
    "ax.set(ylabel=\"Expected return\")\n",
    "\n",
    "xticks = mtick.PercentFormatter(xmax=1.0, decimals=1)\n",
    "ax.xaxis.set_major_formatter(xticks)\n",
    "ax.yaxis.set_major_formatter(xticks)\n",
    "\n",
    "ax.legend();"
   ]
  },
  {
   "cell_type": "markdown",
   "id": "ce8f58c8",
   "metadata": {},
   "source": [
    "### Plot expected return as a function of $\\sigma_3$"
   ]
  },
  {
   "cell_type": "code",
   "execution_count": null,
   "id": "8a6e2fed",
   "metadata": {},
   "outputs": [],
   "source": [
    "all_sigmas = np.linspace(0.01, 0.3, 50)\n",
    "all_expected_returns1 = np.array([bsm_call_expected_pay_off(asset_prices=1.0, mu=mu[2],\n",
    "                                                            vols=s,\n",
    "                                                            strike=strike1, ttm=ttm) / call_price1 - 1.0 for s in all_sigmas])\n",
    "all_expected_returns2 = np.array([bsm_call_expected_pay_off(asset_prices=1.0, mu=mu[2],\n",
    "                                                            vols=s,\n",
    "                                                            strike=strike2, ttm=ttm) / call_price2 - 1.0 for s in all_sigmas])\n",
    "\n",
    "fig, ax = plt.subplots(figsize=(12, 7))\n",
    "\n",
    "ax.plot(all_sigmas, all_expected_returns1, color=\"navy\", label=\"Option 1, $K=1.0$\")\n",
    "ax.plot(all_sigmas, all_expected_returns2, color=\"darkred\", label=\"Option 2, $K=1.1$\")\n",
    "ax.set(xlabel=\"$\\sigma_3$\")\n",
    "ax.set(ylabel=\"Expected return\")\n",
    "\n",
    "xticks = mtick.PercentFormatter(xmax=1.0, decimals=1)\n",
    "ax.xaxis.set_major_formatter(xticks)\n",
    "ax.yaxis.set_major_formatter(xticks)\n",
    "\n",
    "ax.legend();"
   ]
  },
  {
   "cell_type": "code",
   "execution_count": null,
   "id": "92d71685",
   "metadata": {},
   "outputs": [],
   "source": [
    "call_price1"
   ]
  },
  {
   "cell_type": "code",
   "execution_count": null,
   "id": "ae70a28f",
   "metadata": {},
   "outputs": [],
   "source": [
    "(np.exp(0.09) - 1.0) / call_price1 - 1"
   ]
  },
  {
   "cell_type": "markdown",
   "id": "b93bf25e",
   "metadata": {},
   "source": [
    "### Plot delta profile"
   ]
  },
  {
   "cell_type": "code",
   "execution_count": null,
   "id": "a4f893a7",
   "metadata": {},
   "outputs": [],
   "source": [
    "def bsm_call_delta(asset_prices: Union[np.ndarray, float],\n",
    "                   rates: Union[np.ndarray, float],\n",
    "                   implied_vols: Union[np.ndarray, float],\n",
    "                   strike: float,\n",
    "                   ttm: float):\n",
    "    \"\"\"\n",
    "    Calculates the delta of a call option using the Black-Scholes-Merton model.\n",
    "\n",
    "    Parameters\n",
    "    ------------\n",
    "    asset_prices:\n",
    "        The current price(s) of the underlying asset(s).\n",
    "\n",
    "    rates:\n",
    "        The risk-free interest rate(s).\n",
    "\n",
    "    implied_vols:\n",
    "        The implied volatility(ies) of the underlying asset(s).\n",
    "        \n",
    "    strike:\n",
    "        The strike price of the call option.\n",
    "\n",
    "    ttm:\n",
    "        Time to maturity of the option in years.\n",
    "\n",
    "    Returns\n",
    "    ------------\n",
    "    float:\n",
    "        The calculated call option delta.\n",
    "    \"\"\"\n",
    "\n",
    "    d = 1 / (implied_vols * np.sqrt(ttm)) * (np.log(asset_prices / strike) + (rates + implied_vols ** 2 / 2) * ttm)\n",
    "\n",
    "    return stats.norm.cdf(d)"
   ]
  },
  {
   "cell_type": "code",
   "execution_count": null,
   "id": "2c1ca4d0",
   "metadata": {},
   "outputs": [],
   "source": [
    "prices = np.linspace(0.5, 2.0, 1000)\n",
    "\n",
    "deltas1 =  bsm_call_delta(prices, r, imp_vol1, strike1, ttm)\n",
    "deltas2 =  bsm_call_delta(prices, r, imp_vol2, strike2, ttm)"
   ]
  },
  {
   "cell_type": "code",
   "execution_count": null,
   "id": "1a8d792e",
   "metadata": {},
   "outputs": [],
   "source": [
    "fig, ax = plt.subplots(figsize=(12, 7))\n",
    "\n",
    "ax.plot(prices, deltas1, color=\"navy\", label=\"Option 1, $K=1.0$\")\n",
    "ax.plot(prices, deltas2, color=\"darkred\", label=\"Option 2, $K=1.1$\")\n",
    "ax.set(ylabel=\"Delta\")\n",
    "ax.legend();"
   ]
  },
  {
   "cell_type": "markdown",
   "id": "65020a25",
   "metadata": {},
   "source": [
    "## Equity replacement"
   ]
  },
  {
   "cell_type": "code",
   "execution_count": null,
   "id": "3dc634ed",
   "metadata": {},
   "outputs": [],
   "source": [
    "delta1 =  bsm_call_delta(1.0, r, imp_vol1, strike1, ttm)\n",
    "delta2 =  bsm_call_delta(1.0, r, imp_vol2, strike2, ttm)"
   ]
  },
  {
   "cell_type": "code",
   "execution_count": null,
   "id": "7b79403e",
   "metadata": {},
   "outputs": [],
   "source": [
    "num_call1 = 0.1 / delta1\n",
    "num_call1"
   ]
  },
  {
   "cell_type": "code",
   "execution_count": null,
   "id": "929faf62",
   "metadata": {},
   "outputs": [],
   "source": [
    "num_call2 = 0.1 / delta2\n",
    "num_call2"
   ]
  },
  {
   "cell_type": "code",
   "execution_count": null,
   "id": "d1f5beec",
   "metadata": {},
   "outputs": [],
   "source": [
    "h_cvar_opt = calculate_target_portfolio(asset_prices_at_horizon, 1 - 0.16, eq_h)"
   ]
  },
  {
   "cell_type": "code",
   "execution_count": null,
   "id": "64eb2c8c",
   "metadata": {},
   "outputs": [],
   "source": [
    "h_cvar_opt"
   ]
  },
  {
   "cell_type": "code",
   "execution_count": null,
   "id": "7fd7e792",
   "metadata": {},
   "outputs": [],
   "source": [
    "h_cvar_opt_ = np.r_[h_cvar_opt, 0.0, 0.0]\n",
    "h_cvar_opt_call1 = np.r_[h_cvar_opt[0] + 0.1 - num_call1 * call_price1, h_cvar_opt[1], h_cvar_opt[2] - 0.1, num_call1, 0.0]\n",
    "h_cvar_opt_call2 = np.r_[h_cvar_opt[0] + 0.1 - num_call2 * call_price2, h_cvar_opt[1], h_cvar_opt[2] - 0.1, 0.0, num_call2]"
   ]
  },
  {
   "cell_type": "code",
   "execution_count": null,
   "id": "5530b8d2",
   "metadata": {},
   "outputs": [],
   "source": [
    "initial_prices = np.array([1.0, 1.0, 1.0, call_price1, call_price2])\n",
    "\n",
    "h_cvar_opt_call1 @ initial_prices"
   ]
  },
  {
   "cell_type": "code",
   "execution_count": null,
   "id": "53d213a8",
   "metadata": {},
   "outputs": [],
   "source": [
    "h_cvar_opt_call2 @ initial_prices"
   ]
  },
  {
   "cell_type": "code",
   "execution_count": null,
   "id": "da3e3e6a",
   "metadata": {},
   "outputs": [],
   "source": [
    "fig, ax = plt.subplots(figsize=(12, 7))\n",
    "\n",
    "ax.plot(prices, h_cvar_opt[2] * np.ones_like(prices), color=\"green\", label=\"Initial portfolio\")\n",
    "ax.plot(prices, h_cvar_opt[2] - 0.1 + num_call1 * deltas1, color=\"navy\", label=\"Option 1, $K=1.0$\")\n",
    "ax.plot(prices, h_cvar_opt[2] - 0.1 + num_call2 * deltas2, color=\"darkred\", label=\"Option 2, $K=1.1$\")\n",
    "ax.set(ylabel=\"Delta\")\n",
    "ax.legend();"
   ]
  },
  {
   "cell_type": "code",
   "execution_count": null,
   "id": "b59663b8",
   "metadata": {},
   "outputs": [],
   "source": [
    "asset_prices_w_call_payoff = np.c_[asset_prices_at_horizon, pay_off1, pay_off2]\n",
    "\n",
    "init_port_ret = asset_prices_w_call_payoff @ h_cvar_opt_ - 1.0\n",
    "port_call1_ret = asset_prices_w_call_payoff @ h_cvar_opt_call1 - 1.0\n",
    "port_call2_ret = asset_prices_w_call_payoff @ h_cvar_opt_call2 - 1.0"
   ]
  },
  {
   "cell_type": "code",
   "execution_count": null,
   "id": "549956f1",
   "metadata": {},
   "outputs": [],
   "source": [
    "fig, ax = plt.subplots(figsize=(12, 7))\n",
    "\n",
    "sns.kdeplot(init_port_ret, color=\"green\", label=\"Initial portfolio\", fill=True, ax=ax)\n",
    "sns.kdeplot(port_call1_ret, color=\"navy\", label=\"Option 1, $K=1.0$\", fill=True, ax=ax)\n",
    "sns.kdeplot(port_call2_ret, color=\"darkred\", label=\"Option 2, $K=1.1$\", fill=True, ax=ax)\n",
    "\n",
    "ax.set_xlabel(\"Return\")\n",
    "ax.legend();"
   ]
  },
  {
   "cell_type": "code",
   "execution_count": null,
   "id": "05d98bc2",
   "metadata": {},
   "outputs": [],
   "source": [
    "df_port_values = pd.DataFrame({'Initial Portfolio': init_port_ret,\n",
    "                               'Port. w. call option 1': port_call1_ret, \n",
    "                               'Port. w. call option 2': port_call2_ret})\n",
    "\n",
    "\n",
    "\"\"\"\n",
    "Calculate some relevant metrics\n",
    "\"\"\"\n",
    "\n",
    "calc_cvar = lambda x: rm.calculate_conditional_value_at_risk(np.asarray(x), p=0.05)\n",
    "calc_var = lambda x: np.percentile(x, q=5, axis=0)\n",
    "\n",
    "df_port_res = df_port_values.aggregate([mom.calculate_mean,\n",
    "                                        np.median,\n",
    "                                    mom.calculate_std,\n",
    "                                    mom.calculate_skewness,\n",
    "                                    mom.calculate_kurtosis,\n",
    "                                    calc_cvar,\n",
    "                                    calc_var])\n",
    "\n",
    "df_port_res.index = pd.Index(['Mean', 'Median' , 'Standard deviation', 'Skewness', 'Kurtosis', 'CVaR(5%)', 'VaR(5%)'])\n",
    "df_port_res"
   ]
  },
  {
   "cell_type": "markdown",
   "id": "023886cd",
   "metadata": {},
   "source": [
    "## Portfolio optimization with options"
   ]
  },
  {
   "cell_type": "code",
   "execution_count": null,
   "id": "d160bfad",
   "metadata": {},
   "outputs": [],
   "source": [
    "def calculate_target_portfolio_w_options(asset_prices, target, initial_prices, h_init=None):\n",
    "    \n",
    "    if h_init is None: \n",
    "        h_init = np.ones(asset_prices.shape[1]) / asset_prices.shape[1]\n",
    "    \n",
    "    obj = lambda h: -np.mean(asset_prices @ h)\n",
    "    \n",
    "    budget_constraint = {'type': 'eq', 'fun': lambda h: initial_prices @ h - 1.0}\n",
    "    cvar_constraint = {'type': 'ineq', 'fun': lambda h: rm.calculate_conditional_value_at_risk(asset_prices @ h, p=0.05) - target}\n",
    "    \n",
    "    res = optimize.minimize(obj,\n",
    "                   x0=h_init,\n",
    "                   method='SLSQP',\n",
    "                   constraints=[budget_constraint, cvar_constraint],\n",
    "                   options={'disp': True,\n",
    "                            'ftol': 1e-16,\n",
    "                            'maxiter': 5000, \n",
    "                            'eps': 1.5e-7},\n",
    "                   bounds=[(0.0, 1.0 / p) for p in initial_prices])\n",
    "    \n",
    "    return res['x']"
   ]
  },
  {
   "cell_type": "code",
   "execution_count": null,
   "id": "5ff9a532",
   "metadata": {},
   "outputs": [],
   "source": [
    "h_cvar_opt_w_calls = calculate_target_portfolio_w_options(asset_prices_w_call_payoff, 1 - 0.16, initial_prices, h_cvar_opt_)"
   ]
  },
  {
   "cell_type": "code",
   "execution_count": null,
   "id": "26f12239",
   "metadata": {},
   "outputs": [],
   "source": [
    "h_cvar_opt_w_calls"
   ]
  },
  {
   "cell_type": "code",
   "execution_count": null,
   "id": "89ce197c",
   "metadata": {},
   "outputs": [],
   "source": [
    "h_cvar_opt_w_calls @ initial_prices"
   ]
  },
  {
   "cell_type": "code",
   "execution_count": null,
   "id": "97833947",
   "metadata": {},
   "outputs": [],
   "source": [
    "initial_prices"
   ]
  },
  {
   "cell_type": "code",
   "execution_count": null,
   "id": "25f31531",
   "metadata": {},
   "outputs": [],
   "source": [
    "opt_port_w_call_ret = asset_prices_w_call_payoff @ h_cvar_opt_w_calls - 1.0\n",
    "\n",
    "df_port_values = pd.DataFrame({'Initial Portfolio': init_port_ret,\n",
    "                               'Port. w. call option 1': port_call1_ret, \n",
    "                               'Port. w. call option 2': port_call2_ret,\n",
    "                               'Optimal portfolio w. calls': opt_port_w_call_ret})\n",
    "\n",
    "\n",
    "\"\"\"\n",
    "Calculate some relevant metrics\n",
    "\"\"\"\n",
    "\n",
    "calc_cvar = lambda x: rm.calculate_conditional_value_at_risk(np.asarray(x), p=0.05)\n",
    "calc_var = lambda x: np.percentile(x, q=5, axis=0)\n",
    "\n",
    "df_port_res = df_port_values.aggregate([mom.calculate_mean,\n",
    "                                        np.median,\n",
    "                                        mom.calculate_std,\n",
    "                                        mom.calculate_skewness,\n",
    "                                        mom.calculate_kurtosis,\n",
    "                                        calc_cvar,\n",
    "                                        calc_var])\n",
    "\n",
    "df_port_res.index = pd.Index(['Mean', 'Median' , 'Standard deviation', 'Skewness', 'Kurtosis', 'CVaR(5%)', 'VaR(5%)'])\n",
    "df_port_res"
   ]
  },
  {
   "cell_type": "code",
   "execution_count": null,
   "id": "d1d55092",
   "metadata": {},
   "outputs": [],
   "source": [
    "fig, ax = plt.subplots(figsize=(12, 7))\n",
    "\n",
    "sns.kdeplot(init_port_ret, color=\"green\", label=\"Initial portfolio\", fill=True, ax=ax)\n",
    "sns.kdeplot(port_call1_ret, color=\"navy\", label=\"Option 1, $K=1.0$\", fill=True, ax=ax)\n",
    "sns.kdeplot(port_call2_ret, color=\"darkred\", label=\"Option 2, $K=1.1$\", fill=True, ax=ax)\n",
    "sns.kdeplot(opt_port_w_call_ret, color=\"cyan\", label=\"Optimal portfolio\", fill=True, ax=ax)\n",
    "\n",
    "ax.set_xlabel(\"Return\")\n",
    "ax.legend();"
   ]
  }
 ],
 "metadata": {
  "kernelspec": {
   "display_name": "Python 3 (ipykernel)",
   "language": "python",
   "name": "python3"
  },
  "language_info": {
   "codemirror_mode": {
    "name": "ipython",
    "version": 3
   },
   "file_extension": ".py",
   "mimetype": "text/x-python",
   "name": "python",
   "nbconvert_exporter": "python",
   "pygments_lexer": "ipython3",
   "version": "3.11.4"
  }
 },
 "nbformat": 4,
 "nbformat_minor": 5
}
